{
  "cells": [
    {
      "cell_type": "code",
      "execution_count": 3,
      "metadata": {
        "colab": {
          "base_uri": "https://localhost:8080/"
        },
        "id": "hMKTLLzYChNb",
        "outputId": "f96ddd58-fb08-4084-8f01-5324e3f009fc"
      },
      "outputs": [
        {
          "name": "stdout",
          "output_type": "stream",
          "text": [
            "Requirement already satisfied: datasets in /usr/local/lib/python3.11/dist-packages (3.3.2)\n",
            "Requirement already satisfied: filelock in /usr/local/lib/python3.11/dist-packages (from datasets) (3.17.0)\n",
            "Requirement already satisfied: numpy>=1.17 in /usr/local/lib/python3.11/dist-packages (from datasets) (1.26.4)\n",
            "Requirement already satisfied: pyarrow>=15.0.0 in /usr/local/lib/python3.11/dist-packages (from datasets) (17.0.0)\n",
            "Requirement already satisfied: dill<0.3.9,>=0.3.0 in /usr/local/lib/python3.11/dist-packages (from datasets) (0.3.8)\n",
            "Requirement already satisfied: pandas in /usr/local/lib/python3.11/dist-packages (from datasets) (2.2.2)\n",
            "Requirement already satisfied: requests>=2.32.2 in /usr/local/lib/python3.11/dist-packages (from datasets) (2.32.3)\n",
            "Requirement already satisfied: tqdm>=4.66.3 in /usr/local/lib/python3.11/dist-packages (from datasets) (4.67.1)\n",
            "Requirement already satisfied: xxhash in /usr/local/lib/python3.11/dist-packages (from datasets) (3.5.0)\n",
            "Requirement already satisfied: multiprocess<0.70.17 in /usr/local/lib/python3.11/dist-packages (from datasets) (0.70.16)\n",
            "Requirement already satisfied: fsspec<=2024.12.0,>=2023.1.0 in /usr/local/lib/python3.11/dist-packages (from fsspec[http]<=2024.12.0,>=2023.1.0->datasets) (2024.10.0)\n",
            "Requirement already satisfied: aiohttp in /usr/local/lib/python3.11/dist-packages (from datasets) (3.11.12)\n",
            "Requirement already satisfied: huggingface-hub>=0.24.0 in /usr/local/lib/python3.11/dist-packages (from datasets) (0.28.1)\n",
            "Requirement already satisfied: packaging in /usr/local/lib/python3.11/dist-packages (from datasets) (24.2)\n",
            "Requirement already satisfied: pyyaml>=5.1 in /usr/local/lib/python3.11/dist-packages (from datasets) (6.0.2)\n",
            "Requirement already satisfied: aiohappyeyeballs>=2.3.0 in /usr/local/lib/python3.11/dist-packages (from aiohttp->datasets) (2.4.6)\n",
            "Requirement already satisfied: aiosignal>=1.1.2 in /usr/local/lib/python3.11/dist-packages (from aiohttp->datasets) (1.3.2)\n",
            "Requirement already satisfied: attrs>=17.3.0 in /usr/local/lib/python3.11/dist-packages (from aiohttp->datasets) (25.1.0)\n",
            "Requirement already satisfied: frozenlist>=1.1.1 in /usr/local/lib/python3.11/dist-packages (from aiohttp->datasets) (1.5.0)\n",
            "Requirement already satisfied: multidict<7.0,>=4.5 in /usr/local/lib/python3.11/dist-packages (from aiohttp->datasets) (6.1.0)\n",
            "Requirement already satisfied: propcache>=0.2.0 in /usr/local/lib/python3.11/dist-packages (from aiohttp->datasets) (0.2.1)\n",
            "Requirement already satisfied: yarl<2.0,>=1.17.0 in /usr/local/lib/python3.11/dist-packages (from aiohttp->datasets) (1.18.3)\n",
            "Requirement already satisfied: typing-extensions>=3.7.4.3 in /usr/local/lib/python3.11/dist-packages (from huggingface-hub>=0.24.0->datasets) (4.12.2)\n",
            "Requirement already satisfied: charset-normalizer<4,>=2 in /usr/local/lib/python3.11/dist-packages (from requests>=2.32.2->datasets) (3.4.1)\n",
            "Requirement already satisfied: idna<4,>=2.5 in /usr/local/lib/python3.11/dist-packages (from requests>=2.32.2->datasets) (3.10)\n",
            "Requirement already satisfied: urllib3<3,>=1.21.1 in /usr/local/lib/python3.11/dist-packages (from requests>=2.32.2->datasets) (2.3.0)\n",
            "Requirement already satisfied: certifi>=2017.4.17 in /usr/local/lib/python3.11/dist-packages (from requests>=2.32.2->datasets) (2025.1.31)\n",
            "Requirement already satisfied: python-dateutil>=2.8.2 in /usr/local/lib/python3.11/dist-packages (from pandas->datasets) (2.8.2)\n",
            "Requirement already satisfied: pytz>=2020.1 in /usr/local/lib/python3.11/dist-packages (from pandas->datasets) (2025.1)\n",
            "Requirement already satisfied: tzdata>=2022.7 in /usr/local/lib/python3.11/dist-packages (from pandas->datasets) (2025.1)\n",
            "Requirement already satisfied: six>=1.5 in /usr/local/lib/python3.11/dist-packages (from python-dateutil>=2.8.2->pandas->datasets) (1.17.0)\n"
          ]
        }
      ],
      "source": [
        "pip install datasets"
      ]
    },
    {
      "cell_type": "code",
      "execution_count": null,
      "metadata": {
        "colab": {
          "base_uri": "https://localhost:8080/",
          "height": 1000,
          "referenced_widgets": [
            "e3a87d352087433ba39470cd3d32da3f",
            "53d4d4d0a46c4287aab98b5a54d14a1a",
            "ee28e51be1e14a348657b0d3c603d281",
            "fd8a94419c464cea8fa9af4a20ca6964",
            "c814e419203847258b98cf30f213269c",
            "db668bbdbcec48aa95fae7076334f494",
            "19b86b1a1b6e44b7bcc1d7309b380d62",
            "45255360400a4f938eb1426cb1856d8a",
            "37984c7b5aaf48c5852df553b7661f1d",
            "40e2116c4c354b959ddaed6dc9a6dba4",
            "fc06d9b32aa84bca96aded899efd794b",
            "6a8ed0b91b224cc4addf74cb6deb3bcb",
            "7ce2877947bb4eefbf542a28a4014552",
            "2f64190f378648cab190852d3baf7529",
            "bb23708fdb0845cdb795a3c196f0e375",
            "808d162707b04e16847098cae8c863e8",
            "46d61a0e2b974b9e939ed29d27d19a14",
            "1fc31fda8a564094aa86cd59cf365d9b",
            "0cfb66449de54932913c2c6b17164d2d",
            "cb67ef6db5f443ff86cc3c28b710e2e9",
            "2e98ce4d699c46dea30f8c02c617e72a",
            "927c2b9cdd9541cbb1632c4b9b8ece2c",
            "fd036d91270949a1b65091d6f80a1ff9",
            "98b0bdc1a55648b4b3c16b2ef4851f8e",
            "04976400201f4e06ba64e5bc53841dec",
            "af248f1401b14387801be3bcf53c2b45",
            "8a89379fa5934351b3915de1f25e8976",
            "5c17d6e898ff44d4912f98b2e487d926",
            "0a9fa00f2f344f2ea844f2d35298fb26",
            "6a6f54872188416eb2be5afdfdf7ffcc",
            "dfe39bad661d4b4581230afa5b731369",
            "9f1d7a297ea8422d942fd5cbe100f740",
            "a57452e85723496ea64fed4bd5d26bd7",
            "dc90491848564d0ca96442d03652c2bc",
            "b37583cc5f4148c0bb7ad46d2dcddc71",
            "7920a12aadb4447da452de2ab2cbd5de",
            "76a4ccf81f764c9498ee5237ac21643b",
            "80c569583d474da39d35d7c2dda11461",
            "5c275c457ad3496c982397da5cb0593a",
            "f2146b411e86468cbed9d798b437bc1c",
            "079beabfd2364b609ca2432a7277a91c",
            "e98dbb842416402ea841f8a43403b82e",
            "dbabfc5cc3fb417e8171e106a4fa153e",
            "7590b735bd1e470683b95fb6f2f57f01",
            "acdd6c9dd1a54ba7b66f8947273d8608"
          ]
        },
        "id": "XWrdGsPBCdJV",
        "outputId": "171369bf-5dde-4572-a0e9-7a540eb849bc"
      },
      "outputs": [
        {
          "name": "stdout",
          "output_type": "stream",
          "text": [
            "Drive already mounted at /content/drive; to attempt to forcibly remount, call drive.mount(\"/content/drive\", force_remount=True).\n",
            "Loading dataset from: /content/drive/My Drive/Dissertation/cuad_qa_dataset.json\n",
            "Dataset({\n",
            "    features: ['id', 'title', 'context', 'question', 'answers'],\n",
            "    num_rows: 3430\n",
            "})\n",
            "DataSet Structure:  DatasetDict({\n",
            "    train: Dataset({\n",
            "        features: ['id', 'title', 'context', 'question', 'answers'],\n",
            "        num_rows: 3087\n",
            "    })\n",
            "    validation: Dataset({\n",
            "        features: ['id', 'title', 'context', 'question', 'answers'],\n",
            "        num_rows: 343\n",
            "    })\n",
            "})\n",
            "Train size: 3087\n",
            "Validation size: 343\n",
            "\n",
            "==== Training model: Jasu/bert-finetuned-squad-legalbert ====\n",
            "\n"
          ]
        },
        {
          "data": {
            "application/vnd.jupyter.widget-view+json": {
              "model_id": "e3a87d352087433ba39470cd3d32da3f",
              "version_major": 2,
              "version_minor": 0
            },
            "text/plain": [
              "Map:   0%|          | 0/3087 [00:00<?, ? examples/s]"
            ]
          },
          "metadata": {},
          "output_type": "display_data"
        },
        {
          "name": "stdout",
          "output_type": "stream",
          "text": [
            "Tokenization keys: ['input_ids', 'token_type_ids', 'attention_mask', 'offset_mapping', 'overflow_to_sample_mapping']\n",
            "Sample mapping (first 3): [0, 0, 0]\n",
            "Tokenization keys: ['input_ids', 'token_type_ids', 'attention_mask', 'offset_mapping', 'overflow_to_sample_mapping']\n",
            "Sample mapping (first 3): [0, 0, 0]\n",
            "Tokenization keys: ['input_ids', 'token_type_ids', 'attention_mask', 'offset_mapping', 'overflow_to_sample_mapping']\n",
            "Sample mapping (first 3): [0, 0, 0]\n",
            "Tokenization keys: ['input_ids', 'token_type_ids', 'attention_mask', 'offset_mapping', 'overflow_to_sample_mapping']\n",
            "Sample mapping (first 3): [0, 0, 0]\n"
          ]
        },
        {
          "data": {
            "application/vnd.jupyter.widget-view+json": {
              "model_id": "6a8ed0b91b224cc4addf74cb6deb3bcb",
              "version_major": 2,
              "version_minor": 0
            },
            "text/plain": [
              "Map:   0%|          | 0/343 [00:00<?, ? examples/s]"
            ]
          },
          "metadata": {},
          "output_type": "display_data"
        },
        {
          "name": "stdout",
          "output_type": "stream",
          "text": [
            "Tokenization keys: ['input_ids', 'token_type_ids', 'attention_mask', 'offset_mapping', 'overflow_to_sample_mapping']\n",
            "Sample mapping (first 3): [0, 0, 0]\n"
          ]
        },
        {
          "name": "stderr",
          "output_type": "stream",
          "text": [
            "/usr/local/lib/python3.11/dist-packages/transformers/training_args.py:1575: FutureWarning: `evaluation_strategy` is deprecated and will be removed in version 4.46 of 🤗 Transformers. Use `eval_strategy` instead\n",
            "  warnings.warn(\n",
            "Using the `WANDB_DISABLED` environment variable is deprecated and will be removed in v5. Use the --report_to flag to control the integrations used for logging result (for instance --report_to none).\n",
            "<ipython-input-4-0577ba4717d7>:238: FutureWarning: `tokenizer` is deprecated and will be removed in version 5.0.0 for `Trainer.__init__`. Use `processing_class` instead.\n",
            "  trainer = Trainer(\n"
          ]
        },
        {
          "data": {
            "text/html": [
              "\n",
              "    <div>\n",
              "      \n",
              "      <progress value='2000' max='15054' style='width:300px; height:20px; vertical-align: middle;'></progress>\n",
              "      [ 2000/15054 20:40 < 2:15:03, 1.61 it/s, Epoch 0/2]\n",
              "    </div>\n",
              "    <table border=\"1\" class=\"dataframe\">\n",
              "  <thead>\n",
              " <tr style=\"text-align: left;\">\n",
              "      <th>Step</th>\n",
              "      <th>Training Loss</th>\n",
              "      <th>Validation Loss</th>\n",
              "    </tr>\n",
              "  </thead>\n",
              "  <tbody>\n",
              "    <tr>\n",
              "      <td>500</td>\n",
              "      <td>0.133900</td>\n",
              "      <td>0.108094</td>\n",
              "    </tr>\n",
              "    <tr>\n",
              "      <td>1000</td>\n",
              "      <td>0.096800</td>\n",
              "      <td>0.081144</td>\n",
              "    </tr>\n",
              "    <tr>\n",
              "      <td>1500</td>\n",
              "      <td>0.085300</td>\n",
              "      <td>0.110170</td>\n",
              "    </tr>\n",
              "    <tr>\n",
              "      <td>2000</td>\n",
              "      <td>0.084900</td>\n",
              "      <td>0.106172</td>\n",
              "    </tr>\n",
              "  </tbody>\n",
              "</table><p>"
            ],
            "text/plain": [
              "<IPython.core.display.HTML object>"
            ]
          },
          "metadata": {},
          "output_type": "display_data"
        },
        {
          "name": "stdout",
          "output_type": "stream",
          "text": [
            "Model Jasu/bert-finetuned-squad-legalbert saved to /content/drive/My Drive/Dissertation/model_output/Jasu_bert-finetuned-squad-legalbert\n",
            "\n",
            "==== Training model: nlpaueb/legal-bert-base-uncased ====\n",
            "\n"
          ]
        },
        {
          "data": {
            "application/vnd.jupyter.widget-view+json": {
              "model_id": "fd036d91270949a1b65091d6f80a1ff9",
              "version_major": 2,
              "version_minor": 0
            },
            "text/plain": [
              "tokenizer_config.json:   0%|          | 0.00/48.0 [00:00<?, ?B/s]"
            ]
          },
          "metadata": {},
          "output_type": "display_data"
        },
        {
          "data": {
            "application/vnd.jupyter.widget-view+json": {
              "model_id": "98b0bdc1a55648b4b3c16b2ef4851f8e",
              "version_major": 2,
              "version_minor": 0
            },
            "text/plain": [
              "config.json:   0%|          | 0.00/1.02k [00:00<?, ?B/s]"
            ]
          },
          "metadata": {},
          "output_type": "display_data"
        },
        {
          "data": {
            "application/vnd.jupyter.widget-view+json": {
              "model_id": "04976400201f4e06ba64e5bc53841dec",
              "version_major": 2,
              "version_minor": 0
            },
            "text/plain": [
              "vocab.txt:   0%|          | 0.00/222k [00:00<?, ?B/s]"
            ]
          },
          "metadata": {},
          "output_type": "display_data"
        },
        {
          "data": {
            "application/vnd.jupyter.widget-view+json": {
              "model_id": "af248f1401b14387801be3bcf53c2b45",
              "version_major": 2,
              "version_minor": 0
            },
            "text/plain": [
              "special_tokens_map.json:   0%|          | 0.00/112 [00:00<?, ?B/s]"
            ]
          },
          "metadata": {},
          "output_type": "display_data"
        },
        {
          "data": {
            "application/vnd.jupyter.widget-view+json": {
              "model_id": "8a89379fa5934351b3915de1f25e8976",
              "version_major": 2,
              "version_minor": 0
            },
            "text/plain": [
              "pytorch_model.bin:   0%|          | 0.00/440M [00:00<?, ?B/s]"
            ]
          },
          "metadata": {},
          "output_type": "display_data"
        },
        {
          "name": "stderr",
          "output_type": "stream",
          "text": [
            "Some weights of BertForQuestionAnswering were not initialized from the model checkpoint at nlpaueb/legal-bert-base-uncased and are newly initialized: ['qa_outputs.bias', 'qa_outputs.weight']\n",
            "You should probably TRAIN this model on a down-stream task to be able to use it for predictions and inference.\n"
          ]
        },
        {
          "data": {
            "application/vnd.jupyter.widget-view+json": {
              "model_id": "5c17d6e898ff44d4912f98b2e487d926",
              "version_major": 2,
              "version_minor": 0
            },
            "text/plain": [
              "Map:   0%|          | 0/3087 [00:00<?, ? examples/s]"
            ]
          },
          "metadata": {},
          "output_type": "display_data"
        },
        {
          "data": {
            "application/vnd.jupyter.widget-view+json": {
              "model_id": "0a9fa00f2f344f2ea844f2d35298fb26",
              "version_major": 2,
              "version_minor": 0
            },
            "text/plain": [
              "model.safetensors:   0%|          | 0.00/440M [00:00<?, ?B/s]"
            ]
          },
          "metadata": {},
          "output_type": "display_data"
        },
        {
          "name": "stdout",
          "output_type": "stream",
          "text": [
            "Tokenization keys: ['input_ids', 'token_type_ids', 'attention_mask', 'offset_mapping', 'overflow_to_sample_mapping']\n",
            "Sample mapping (first 3): [0, 0, 0]\n",
            "Tokenization keys: ['input_ids', 'token_type_ids', 'attention_mask', 'offset_mapping', 'overflow_to_sample_mapping']\n",
            "Sample mapping (first 3): [0, 0, 0]\n",
            "Tokenization keys: ['input_ids', 'token_type_ids', 'attention_mask', 'offset_mapping', 'overflow_to_sample_mapping']\n",
            "Sample mapping (first 3): [0, 0, 0]\n",
            "Tokenization keys: ['input_ids', 'token_type_ids', 'attention_mask', 'offset_mapping', 'overflow_to_sample_mapping']\n",
            "Sample mapping (first 3): [0, 0, 0]\n"
          ]
        },
        {
          "data": {
            "application/vnd.jupyter.widget-view+json": {
              "model_id": "6a6f54872188416eb2be5afdfdf7ffcc",
              "version_major": 2,
              "version_minor": 0
            },
            "text/plain": [
              "Map:   0%|          | 0/343 [00:00<?, ? examples/s]"
            ]
          },
          "metadata": {},
          "output_type": "display_data"
        },
        {
          "name": "stdout",
          "output_type": "stream",
          "text": [
            "Tokenization keys: ['input_ids', 'token_type_ids', 'attention_mask', 'offset_mapping', 'overflow_to_sample_mapping']\n",
            "Sample mapping (first 3): [0, 0, 0]\n"
          ]
        },
        {
          "name": "stderr",
          "output_type": "stream",
          "text": [
            "/usr/local/lib/python3.11/dist-packages/transformers/training_args.py:1575: FutureWarning: `evaluation_strategy` is deprecated and will be removed in version 4.46 of 🤗 Transformers. Use `eval_strategy` instead\n",
            "  warnings.warn(\n",
            "Using the `WANDB_DISABLED` environment variable is deprecated and will be removed in v5. Use the --report_to flag to control the integrations used for logging result (for instance --report_to none).\n",
            "<ipython-input-4-0577ba4717d7>:238: FutureWarning: `tokenizer` is deprecated and will be removed in version 5.0.0 for `Trainer.__init__`. Use `processing_class` instead.\n",
            "  trainer = Trainer(\n"
          ]
        },
        {
          "data": {
            "text/html": [
              "\n",
              "    <div>\n",
              "      \n",
              "      <progress value='6500' max='15054' style='width:300px; height:20px; vertical-align: middle;'></progress>\n",
              "      [ 6500/15054 1:06:50 < 1:27:59, 1.62 it/s, Epoch 0/2]\n",
              "    </div>\n",
              "    <table border=\"1\" class=\"dataframe\">\n",
              "  <thead>\n",
              " <tr style=\"text-align: left;\">\n",
              "      <th>Step</th>\n",
              "      <th>Training Loss</th>\n",
              "      <th>Validation Loss</th>\n",
              "    </tr>\n",
              "  </thead>\n",
              "  <tbody>\n",
              "    <tr>\n",
              "      <td>500</td>\n",
              "      <td>0.250000</td>\n",
              "      <td>0.130446</td>\n",
              "    </tr>\n",
              "    <tr>\n",
              "      <td>1000</td>\n",
              "      <td>0.120200</td>\n",
              "      <td>0.124364</td>\n",
              "    </tr>\n",
              "    <tr>\n",
              "      <td>1500</td>\n",
              "      <td>0.108000</td>\n",
              "      <td>0.129207</td>\n",
              "    </tr>\n",
              "    <tr>\n",
              "      <td>2000</td>\n",
              "      <td>0.115200</td>\n",
              "      <td>0.120429</td>\n",
              "    </tr>\n",
              "    <tr>\n",
              "      <td>2500</td>\n",
              "      <td>0.118300</td>\n",
              "      <td>0.103892</td>\n",
              "    </tr>\n",
              "    <tr>\n",
              "      <td>3000</td>\n",
              "      <td>0.098600</td>\n",
              "      <td>0.101809</td>\n",
              "    </tr>\n",
              "    <tr>\n",
              "      <td>3500</td>\n",
              "      <td>0.102100</td>\n",
              "      <td>0.078523</td>\n",
              "    </tr>\n",
              "    <tr>\n",
              "      <td>4000</td>\n",
              "      <td>0.095500</td>\n",
              "      <td>0.073253</td>\n",
              "    </tr>\n",
              "    <tr>\n",
              "      <td>4500</td>\n",
              "      <td>0.091500</td>\n",
              "      <td>0.102130</td>\n",
              "    </tr>\n",
              "    <tr>\n",
              "      <td>5000</td>\n",
              "      <td>0.093600</td>\n",
              "      <td>0.068156</td>\n",
              "    </tr>\n",
              "    <tr>\n",
              "      <td>5500</td>\n",
              "      <td>0.091900</td>\n",
              "      <td>0.067680</td>\n",
              "    </tr>\n",
              "    <tr>\n",
              "      <td>6000</td>\n",
              "      <td>0.085400</td>\n",
              "      <td>0.077560</td>\n",
              "    </tr>\n",
              "    <tr>\n",
              "      <td>6500</td>\n",
              "      <td>0.091700</td>\n",
              "      <td>0.070242</td>\n",
              "    </tr>\n",
              "  </tbody>\n",
              "</table><p>"
            ],
            "text/plain": [
              "<IPython.core.display.HTML object>"
            ]
          },
          "metadata": {},
          "output_type": "display_data"
        },
        {
          "name": "stdout",
          "output_type": "stream",
          "text": [
            "Model nlpaueb/legal-bert-base-uncased saved to /content/drive/My Drive/Dissertation/model_output/nlpaueb_legal-bert-base-uncased\n",
            "\n",
            "==== Training model: atharvamundada99/bert-large-question-answering-finetuned-legal ====\n",
            "\n"
          ]
        },
        {
          "data": {
            "application/vnd.jupyter.widget-view+json": {
              "model_id": "dfe39bad661d4b4581230afa5b731369",
              "version_major": 2,
              "version_minor": 0
            },
            "text/plain": [
              "tokenizer_config.json:   0%|          | 0.00/321 [00:00<?, ?B/s]"
            ]
          },
          "metadata": {},
          "output_type": "display_data"
        },
        {
          "data": {
            "application/vnd.jupyter.widget-view+json": {
              "model_id": "9f1d7a297ea8422d942fd5cbe100f740",
              "version_major": 2,
              "version_minor": 0
            },
            "text/plain": [
              "config.json:   0%|          | 0.00/651 [00:00<?, ?B/s]"
            ]
          },
          "metadata": {},
          "output_type": "display_data"
        },
        {
          "data": {
            "application/vnd.jupyter.widget-view+json": {
              "model_id": "a57452e85723496ea64fed4bd5d26bd7",
              "version_major": 2,
              "version_minor": 0
            },
            "text/plain": [
              "vocab.txt:   0%|          | 0.00/232k [00:00<?, ?B/s]"
            ]
          },
          "metadata": {},
          "output_type": "display_data"
        },
        {
          "data": {
            "application/vnd.jupyter.widget-view+json": {
              "model_id": "dc90491848564d0ca96442d03652c2bc",
              "version_major": 2,
              "version_minor": 0
            },
            "text/plain": [
              "special_tokens_map.json:   0%|          | 0.00/112 [00:00<?, ?B/s]"
            ]
          },
          "metadata": {},
          "output_type": "display_data"
        },
        {
          "data": {
            "application/vnd.jupyter.widget-view+json": {
              "model_id": "b37583cc5f4148c0bb7ad46d2dcddc71",
              "version_major": 2,
              "version_minor": 0
            },
            "text/plain": [
              "pytorch_model.bin:   0%|          | 0.00/1.34G [00:00<?, ?B/s]"
            ]
          },
          "metadata": {},
          "output_type": "display_data"
        },
        {
          "data": {
            "application/vnd.jupyter.widget-view+json": {
              "model_id": "7920a12aadb4447da452de2ab2cbd5de",
              "version_major": 2,
              "version_minor": 0
            },
            "text/plain": [
              "Map:   0%|          | 0/3087 [00:00<?, ? examples/s]"
            ]
          },
          "metadata": {},
          "output_type": "display_data"
        },
        {
          "data": {
            "application/vnd.jupyter.widget-view+json": {
              "model_id": "76a4ccf81f764c9498ee5237ac21643b",
              "version_major": 2,
              "version_minor": 0
            },
            "text/plain": [
              "model.safetensors:   0%|          | 0.00/1.34G [00:00<?, ?B/s]"
            ]
          },
          "metadata": {},
          "output_type": "display_data"
        },
        {
          "name": "stdout",
          "output_type": "stream",
          "text": [
            "Tokenization keys: ['input_ids', 'token_type_ids', 'attention_mask', 'offset_mapping', 'overflow_to_sample_mapping']\n",
            "Sample mapping (first 3): [0, 0, 0]\n",
            "Tokenization keys: ['input_ids', 'token_type_ids', 'attention_mask', 'offset_mapping', 'overflow_to_sample_mapping']\n",
            "Sample mapping (first 3): [0, 0, 0]\n",
            "Tokenization keys: ['input_ids', 'token_type_ids', 'attention_mask', 'offset_mapping', 'overflow_to_sample_mapping']\n",
            "Sample mapping (first 3): [0, 0, 0]\n",
            "Tokenization keys: ['input_ids', 'token_type_ids', 'attention_mask', 'offset_mapping', 'overflow_to_sample_mapping']\n",
            "Sample mapping (first 3): [0, 0, 0]\n"
          ]
        },
        {
          "data": {
            "application/vnd.jupyter.widget-view+json": {
              "model_id": "80c569583d474da39d35d7c2dda11461",
              "version_major": 2,
              "version_minor": 0
            },
            "text/plain": [
              "Map:   0%|          | 0/343 [00:00<?, ? examples/s]"
            ]
          },
          "metadata": {},
          "output_type": "display_data"
        },
        {
          "name": "stdout",
          "output_type": "stream",
          "text": [
            "Tokenization keys: ['input_ids', 'token_type_ids', 'attention_mask', 'offset_mapping', 'overflow_to_sample_mapping']\n",
            "Sample mapping (first 3): [0, 0, 0]\n"
          ]
        },
        {
          "name": "stderr",
          "output_type": "stream",
          "text": [
            "/usr/local/lib/python3.11/dist-packages/transformers/training_args.py:1575: FutureWarning: `evaluation_strategy` is deprecated and will be removed in version 4.46 of 🤗 Transformers. Use `eval_strategy` instead\n",
            "  warnings.warn(\n",
            "Using the `WANDB_DISABLED` environment variable is deprecated and will be removed in v5. Use the --report_to flag to control the integrations used for logging result (for instance --report_to none).\n",
            "<ipython-input-4-0577ba4717d7>:238: FutureWarning: `tokenizer` is deprecated and will be removed in version 5.0.0 for `Trainer.__init__`. Use `processing_class` instead.\n",
            "  trainer = Trainer(\n"
          ]
        },
        {
          "data": {
            "text/html": [
              "\n",
              "    <div>\n",
              "      \n",
              "      <progress value='2500' max='15508' style='width:300px; height:20px; vertical-align: middle;'></progress>\n",
              "      [ 2500/15508 1:17:02 < 6:41:11, 0.54 it/s, Epoch 0/2]\n",
              "    </div>\n",
              "    <table border=\"1\" class=\"dataframe\">\n",
              "  <thead>\n",
              " <tr style=\"text-align: left;\">\n",
              "      <th>Step</th>\n",
              "      <th>Training Loss</th>\n",
              "      <th>Validation Loss</th>\n",
              "    </tr>\n",
              "  </thead>\n",
              "  <tbody>\n",
              "    <tr>\n",
              "      <td>500</td>\n",
              "      <td>0.278500</td>\n",
              "      <td>0.141475</td>\n",
              "    </tr>\n",
              "    <tr>\n",
              "      <td>1000</td>\n",
              "      <td>0.173000</td>\n",
              "      <td>0.122654</td>\n",
              "    </tr>\n",
              "    <tr>\n",
              "      <td>1500</td>\n",
              "      <td>0.149200</td>\n",
              "      <td>0.118574</td>\n",
              "    </tr>\n",
              "    <tr>\n",
              "      <td>2000</td>\n",
              "      <td>0.255600</td>\n",
              "      <td>0.126748</td>\n",
              "    </tr>\n",
              "    <tr>\n",
              "      <td>2500</td>\n",
              "      <td>0.152300</td>\n",
              "      <td>0.135229</td>\n",
              "    </tr>\n",
              "  </tbody>\n",
              "</table><p>"
            ],
            "text/plain": [
              "<IPython.core.display.HTML object>"
            ]
          },
          "metadata": {},
          "output_type": "display_data"
        },
        {
          "name": "stdout",
          "output_type": "stream",
          "text": [
            "Model atharvamundada99/bert-large-question-answering-finetuned-legal saved to /content/drive/My Drive/Dissertation/model_output/atharvamundada99_bert-large-question-answering-finetuned-legal\n",
            "\n",
            "==== Training model: facebook/bart-base ====\n",
            "\n"
          ]
        },
        {
          "data": {
            "application/vnd.jupyter.widget-view+json": {
              "model_id": "5c275c457ad3496c982397da5cb0593a",
              "version_major": 2,
              "version_minor": 0
            },
            "text/plain": [
              "config.json:   0%|          | 0.00/1.72k [00:00<?, ?B/s]"
            ]
          },
          "metadata": {},
          "output_type": "display_data"
        },
        {
          "data": {
            "application/vnd.jupyter.widget-view+json": {
              "model_id": "f2146b411e86468cbed9d798b437bc1c",
              "version_major": 2,
              "version_minor": 0
            },
            "text/plain": [
              "vocab.json:   0%|          | 0.00/899k [00:00<?, ?B/s]"
            ]
          },
          "metadata": {},
          "output_type": "display_data"
        },
        {
          "data": {
            "application/vnd.jupyter.widget-view+json": {
              "model_id": "079beabfd2364b609ca2432a7277a91c",
              "version_major": 2,
              "version_minor": 0
            },
            "text/plain": [
              "merges.txt:   0%|          | 0.00/456k [00:00<?, ?B/s]"
            ]
          },
          "metadata": {},
          "output_type": "display_data"
        },
        {
          "data": {
            "application/vnd.jupyter.widget-view+json": {
              "model_id": "e98dbb842416402ea841f8a43403b82e",
              "version_major": 2,
              "version_minor": 0
            },
            "text/plain": [
              "tokenizer.json:   0%|          | 0.00/1.36M [00:00<?, ?B/s]"
            ]
          },
          "metadata": {},
          "output_type": "display_data"
        },
        {
          "data": {
            "application/vnd.jupyter.widget-view+json": {
              "model_id": "dbabfc5cc3fb417e8171e106a4fa153e",
              "version_major": 2,
              "version_minor": 0
            },
            "text/plain": [
              "model.safetensors:   0%|          | 0.00/558M [00:00<?, ?B/s]"
            ]
          },
          "metadata": {},
          "output_type": "display_data"
        },
        {
          "name": "stderr",
          "output_type": "stream",
          "text": [
            "Some weights of BartForQuestionAnswering were not initialized from the model checkpoint at facebook/bart-base and are newly initialized: ['qa_outputs.bias', 'qa_outputs.weight']\n",
            "You should probably TRAIN this model on a down-stream task to be able to use it for predictions and inference.\n"
          ]
        },
        {
          "data": {
            "application/vnd.jupyter.widget-view+json": {
              "model_id": "7590b735bd1e470683b95fb6f2f57f01",
              "version_major": 2,
              "version_minor": 0
            },
            "text/plain": [
              "Map:   0%|          | 0/3087 [00:00<?, ? examples/s]"
            ]
          },
          "metadata": {},
          "output_type": "display_data"
        },
        {
          "name": "stdout",
          "output_type": "stream",
          "text": [
            "Tokenization keys: ['input_ids', 'attention_mask', 'offset_mapping', 'overflow_to_sample_mapping']\n",
            "Sample mapping (first 3): [0, 0, 0]\n",
            "Tokenization keys: ['input_ids', 'attention_mask', 'offset_mapping', 'overflow_to_sample_mapping']\n",
            "Sample mapping (first 3): [0, 0, 0]\n",
            "Tokenization keys: ['input_ids', 'attention_mask', 'offset_mapping', 'overflow_to_sample_mapping']\n",
            "Sample mapping (first 3): [0, 0, 0]\n",
            "Tokenization keys: ['input_ids', 'attention_mask', 'offset_mapping', 'overflow_to_sample_mapping']\n",
            "Sample mapping (first 3): [0, 0, 0]\n"
          ]
        },
        {
          "data": {
            "application/vnd.jupyter.widget-view+json": {
              "model_id": "acdd6c9dd1a54ba7b66f8947273d8608",
              "version_major": 2,
              "version_minor": 0
            },
            "text/plain": [
              "Map:   0%|          | 0/343 [00:00<?, ? examples/s]"
            ]
          },
          "metadata": {},
          "output_type": "display_data"
        },
        {
          "name": "stdout",
          "output_type": "stream",
          "text": [
            "Tokenization keys: ['input_ids', 'attention_mask', 'offset_mapping', 'overflow_to_sample_mapping']\n",
            "Sample mapping (first 3): [0, 0, 0]\n"
          ]
        },
        {
          "name": "stderr",
          "output_type": "stream",
          "text": [
            "/usr/local/lib/python3.11/dist-packages/transformers/training_args.py:1575: FutureWarning: `evaluation_strategy` is deprecated and will be removed in version 4.46 of 🤗 Transformers. Use `eval_strategy` instead\n",
            "  warnings.warn(\n",
            "Using the `WANDB_DISABLED` environment variable is deprecated and will be removed in v5. Use the --report_to flag to control the integrations used for logging result (for instance --report_to none).\n",
            "<ipython-input-4-0577ba4717d7>:238: FutureWarning: `tokenizer` is deprecated and will be removed in version 5.0.0 for `Trainer.__init__`. Use `processing_class` instead.\n",
            "  trainer = Trainer(\n"
          ]
        },
        {
          "data": {
            "text/html": [
              "\n",
              "    <div>\n",
              "      \n",
              "      <progress value='804' max='18184' style='width:300px; height:20px; vertical-align: middle;'></progress>\n",
              "      [  804/18184 09:17 < 3:21:32, 1.44 it/s, Epoch 0.09/2]\n",
              "    </div>\n",
              "    <table border=\"1\" class=\"dataframe\">\n",
              "  <thead>\n",
              " <tr style=\"text-align: left;\">\n",
              "      <th>Step</th>\n",
              "      <th>Training Loss</th>\n",
              "      <th>Validation Loss</th>\n",
              "    </tr>\n",
              "  </thead>\n",
              "  <tbody>\n",
              "    <tr>\n",
              "      <td>500</td>\n",
              "      <td>0.240800</td>\n",
              "      <td>0.128869</td>\n",
              "    </tr>\n",
              "  </tbody>\n",
              "</table><p>"
            ],
            "text/plain": [
              "<IPython.core.display.HTML object>"
            ]
          },
          "metadata": {},
          "output_type": "display_data"
        },
        {
          "name": "stderr",
          "output_type": "stream",
          "text": [
            "/usr/local/lib/python3.11/dist-packages/transformers/configuration_utils.py:394: UserWarning: Some non-default generation parameters are set in the model config. These should go into either a) `model.generation_config` (as opposed to `model.config`); OR b) a GenerationConfig file (https://huggingface.co/docs/transformers/generation_strategies#save-a-custom-decoding-strategy-with-your-model).This warning will become an exception in the future.\n",
            "Non-default generation parameters: {'early_stopping': True, 'num_beams': 4, 'no_repeat_ngram_size': 3, 'forced_bos_token_id': 0}\n",
            "  warnings.warn(\n"
          ]
        },
        {
          "data": {
            "text/html": [
              "\n",
              "    <div>\n",
              "      \n",
              "      <progress value='878' max='18184' style='width:300px; height:20px; vertical-align: middle;'></progress>\n",
              "      [  878/18184 09:55 < 3:15:55, 1.47 it/s, Epoch 0.10/2]\n",
              "    </div>\n",
              "    <table border=\"1\" class=\"dataframe\">\n",
              "  <thead>\n",
              " <tr style=\"text-align: left;\">\n",
              "      <th>Step</th>\n",
              "      <th>Training Loss</th>\n",
              "      <th>Validation Loss</th>\n",
              "    </tr>\n",
              "  </thead>\n",
              "  <tbody>\n",
              "    <tr>\n",
              "      <td>500</td>\n",
              "      <td>0.240800</td>\n",
              "      <td>0.128869</td>\n",
              "    </tr>\n",
              "  </tbody>\n",
              "</table><p>"
            ],
            "text/plain": [
              "<IPython.core.display.HTML object>"
            ]
          },
          "metadata": {},
          "output_type": "display_data"
        }
      ],
      "source": [
        "import argparse\n",
        "import json\n",
        "from pathlib import Path\n",
        "import torch\n",
        "from datasets import Dataset, DatasetDict\n",
        "from transformers import (\n",
        "    AutoTokenizer,\n",
        "    AutoModelForQuestionAnswering,\n",
        "    TrainingArguments,\n",
        "    Trainer,\n",
        "    default_data_collator,\n",
        "    EarlyStoppingCallback\n",
        ")\n",
        "\n",
        "import os\n",
        "os.environ[\"WANDB_DISABLED\"] = \"true\"\n",
        "\n",
        "\n",
        "file_path = \"/content/drive/My Drive/Dissertation/cuad_qa_dataset.json\"\n",
        "\n",
        "\n",
        "model_candidates = [\n",
        "    \"Jasu/bert-finetuned-squad-legalbert\",\n",
        "    \"nlpaueb/legal-bert-base-uncased\",\n",
        "    \"atharvamundada99/bert-large-question-answering-finetuned-legal\",\n",
        "    \"facebook/bart-base\"\n",
        "]\n",
        "\n",
        "# ========================================================\n",
        "# 1. Mount Google Drive\n",
        "# ========================================================\n",
        "\n",
        "from google.colab import drive\n",
        "drive.mount('/content/drive')\n",
        "\n",
        "#========================================================\n",
        "# 2. Load dataset\n",
        "# ========================================================\n",
        "\n",
        "\n",
        "def read_json(file_path):\n",
        "    # Assumes the JSON file is a list of examples.\n",
        "    print(\"Loading dataset from:\", file_path)\n",
        "\n",
        "    with open(file_path, \"r\", encoding=\"utf-8\") as f:\n",
        "        data = json.load(f)\n",
        "    return data\n",
        "\n",
        "\n",
        "def data_preparation(data):\n",
        "    # We'll just take a small subset (5430) for demonstration\n",
        "    raw_data = data[\"train\"][:3430]\n",
        "\n",
        "\n",
        "    # Convert dataset to a huggingface Dataset\n",
        "    dataset = Dataset.from_list(raw_data)\n",
        "    print(dataset)\n",
        "\n",
        "    split_dataset = dataset.train_test_split(test_size=0.1, seed=42)\n",
        "\n",
        "    dataset_dict = DatasetDict({\n",
        "        \"train\": split_dataset[\"train\"],    # 90%\n",
        "        \"validation\": split_dataset[\"test\"], # 10%\n",
        "    })\n",
        "\n",
        "    print(\"DataSet Structure: \", dataset_dict)\n",
        "    print(\"Train size:\", len(dataset_dict[\"train\"]))\n",
        "    print(\"Validation size:\", len(dataset_dict[\"validation\"]))\n",
        "\n",
        "\n",
        "    return dataset_dict\n",
        "\n",
        "\n",
        "def prepare_features(entries, tokenizer, max_length, doc_stride):\n",
        "    \"\"\"\n",
        "    Tokenizes a batch of examples with the fast tokenizer.\n",
        "    Splits contexts into overlapping chunks.\n",
        "    Returns a dict with the tokenized inputs as well as computed start_positions and end_positions.\n",
        "    \"\"\"\n",
        "    # Tokenize with truncation on context only\n",
        "    encodings = tokenizer(\n",
        "        entries[\"question\"],\n",
        "        entries[\"context\"],\n",
        "        truncation=\"only_second\",\n",
        "        max_length=max_length,\n",
        "        stride=doc_stride,\n",
        "        return_overflowing_tokens=True,\n",
        "        return_offsets_mapping=True,\n",
        "        padding=\"max_length\",\n",
        "    )\n",
        "\n",
        "    # Debug: Print tokenization keys and sample mapping\n",
        "    print(\"Tokenization keys:\", list(encodings.keys()))\n",
        "    print(\"Sample mapping (first 3):\", encodings.get(\"overflow_to_sample_mapping\", [])[:3])\n",
        "\n",
        "    sample_mapping = encodings.pop(\"overflow_to_sample_mapping\")\n",
        "    offset_mapping = encodings.pop(\"offset_mapping\")\n",
        "\n",
        "    start_positions = []\n",
        "    end_positions = []\n",
        "\n",
        "    # Loop over each chunk and add debug prints\n",
        "    for i, offsets in enumerate(offset_mapping):\n",
        "        encoding = encodings.encodings[i]\n",
        "        sequence_ids = encoding.sequence_ids\n",
        "\n",
        "        # print(f\"\\n--- Chunk {i} Debug ---\")\n",
        "        # print(\"Sequence IDs:\", sequence_ids)\n",
        "        # print(\"Offset mapping:\", offsets)\n",
        "\n",
        "        sample_index = sample_mapping[i]\n",
        "        # Get the original context for this example.\n",
        "        context = entries[\"context\"][sample_index]\n",
        "\n",
        "        # --- Print the context chunk text for debugging ---\n",
        "        # context_token_indices = [j for j, sid in enumerate(sequence_ids) if sid == 1]\n",
        "        # if context_token_indices:\n",
        "        #     ctx_start = offsets[context_token_indices[0]][0]\n",
        "        #     ctx_end = offsets[context_token_indices[-1]][1]\n",
        "        #     context_chunk = context[ctx_start:ctx_end]\n",
        "        #     print(\"Context chunk text:\", context_chunk)\n",
        "        # else:\n",
        "        #     print(\"No context tokens found in this chunk.\")\n",
        "\n",
        "        answers = entries[\"answers\"][sample_index]\n",
        "        # print(\"Original question:\", entries[\"question\"][sample_index])\n",
        "        # print(\"Original answer info:\", answers)\n",
        "\n",
        "        # If no answer is provided, label as unanswerable.\n",
        "        if len(answers[\"answer_start\"]) == 0:\n",
        "            start_positions.append(0)\n",
        "            end_positions.append(0)\n",
        "        else:\n",
        "            answer_start = answers[\"answer_start\"][0]\n",
        "            answer_text = answers[\"text\"][0]\n",
        "            answer_end = answer_start + len(answer_text)\n",
        "\n",
        "            token_start_index = 0\n",
        "            while token_start_index < len(sequence_ids) and sequence_ids[token_start_index] != 1:\n",
        "                token_start_index += 1\n",
        "            token_end_index = len(sequence_ids) - 1\n",
        "            while token_end_index >= 0 and sequence_ids[token_end_index] != 1:\n",
        "                token_end_index -= 1\n",
        "\n",
        "            # print(\"Token start index before check:\", token_start_index)\n",
        "            # print(\"Token end index before check:\", token_end_index)\n",
        "            # print(\"Answer span in context (char indices):\", answer_start, answer_end)\n",
        "\n",
        "            if not (offsets[token_start_index][0] <= answer_start and offsets[token_end_index][1] >= answer_end):\n",
        "                # print(\"Answer not fully in this chunk.\")\n",
        "                start_positions.append(0)\n",
        "                end_positions.append(0)\n",
        "            else:\n",
        "                while token_start_index < len(offsets) and offsets[token_start_index][0] <= answer_start:\n",
        "                    token_start_index += 1\n",
        "                start_pos = token_start_index - 1\n",
        "\n",
        "                while token_end_index >= 0 and offsets[token_end_index][1] >= answer_end:\n",
        "                    token_end_index -= 1\n",
        "                end_pos = token_end_index + 1\n",
        "\n",
        "                # print(\"Computed start_pos:\", start_pos)\n",
        "                # print(\"Computed end_pos:\", end_pos)\n",
        "                # # Print the text for the computed tokens using the context and offsets.\n",
        "                # token_start_text = context[offsets[start_pos][0]:offsets[start_pos][1]]\n",
        "                # token_end_text = context[offsets[end_pos][0]:offsets[end_pos][1]]\n",
        "                # print(f\"Token {start_pos} text: '{token_start_text}'\")\n",
        "                # print(f\"Token {end_pos} text: '{token_end_text}'\")\n",
        "\n",
        "                start_positions.append(start_pos)\n",
        "                end_positions.append(end_pos)\n",
        "\n",
        "    encodings[\"start_positions\"] = start_positions\n",
        "    encodings[\"end_positions\"] = end_positions\n",
        "\n",
        "    return encodings\n",
        "\n",
        "\n",
        "\n",
        "def main():\n",
        "    raw_data = read_json(file_path)\n",
        "    data = data_preparation(raw_data)\n",
        "\n",
        "    for model_name in model_candidates:\n",
        "        print(f\"\\n==== Training model: {model_name} ====\\n\")\n",
        "\n",
        "\n",
        "        # Create a safe folder name from the model name (replace \"/\" with \"_\")\n",
        "        safe_model_name = model_name.replace(\"/\", \"_\")\n",
        "        output_dir = f\"/content/drive/My Drive/Dissertation/model_output/{safe_model_name}\"\n",
        "        os.makedirs(output_dir, exist_ok=True)\n",
        "\n",
        "        # Load tokenizer and model.\n",
        "        tokenizer = AutoTokenizer.from_pretrained(model_name, use_fast=True)\n",
        "        model = AutoModelForQuestionAnswering.from_pretrained(model_name)\n",
        "\n",
        "        # Preprocess the dataset: tokenize and chunk.\n",
        "        tokenized_train_dataset = data['train'].map(\n",
        "            lambda examples: prepare_features(examples, tokenizer, 512, 128),\n",
        "            batched=True,\n",
        "            remove_columns=data['train'].column_names,\n",
        "        )\n",
        "\n",
        "                # Assuming your dataset_dict has a \"validation\" split:\n",
        "        tokenized_val_dataset = data['validation'].map(\n",
        "            lambda examples: prepare_features(examples, tokenizer, 512, 128),\n",
        "            batched=True,\n",
        "            remove_columns=data['validation'].column_names,\n",
        "        )\n",
        "\n",
        "        # print(\"Tokenized dataset samples:\")\n",
        "        # for entry in tokenized_train_dataset.select(range(3)):\n",
        "        #     print(entry)\n",
        "\n",
        "\n",
        "        # Define training arguments.\n",
        "        training_args = TrainingArguments(\n",
        "            output_dir=output_dir,\n",
        "            evaluation_strategy=\"steps\",\n",
        "            learning_rate=5e-5,\n",
        "            per_device_train_batch_size=16,\n",
        "            per_device_eval_batch_size=16,\n",
        "            num_train_epochs=2,\n",
        "            weight_decay=0.01,\n",
        "            save_strategy=\"steps\",\n",
        "            logging_steps=500,\n",
        "            load_best_model_at_end=True,\n",
        "            metric_for_best_model=\"eval_loss\",\n",
        "            greater_is_better=False,\n",
        "            save_total_limit=1,\n",
        "            gradient_accumulation_steps=1,\n",
        "            disable_tqdm=False,\n",
        "            push_to_hub=False,\n",
        "            fp16=True,\n",
        "        )\n",
        "\n",
        "        # Create the Trainer.\n",
        "        trainer = Trainer(\n",
        "            model=model,\n",
        "            args=training_args,\n",
        "            train_dataset=tokenized_train_dataset,\n",
        "            eval_dataset=tokenized_val_dataset,\n",
        "            tokenizer=tokenizer,\n",
        "            data_collator=default_data_collator,\n",
        "            callbacks=[EarlyStoppingCallback(early_stopping_patience=2)]\n",
        "        )\n",
        "\n",
        "        # Train and save the fine-tuned model.\n",
        "        trainer.train()\n",
        "        trainer.save_model(output_dir)\n",
        "        print(f\"Model {model_name} saved to {output_dir}\")\n",
        "\n",
        "\n",
        "if __name__ == \"__main__\":\n",
        "    main()\n"
      ]
    },
    {
      "cell_type": "code",
      "execution_count": null,
      "metadata": {
        "id": "1pqGyRUq1RYV"
      },
      "outputs": [],
      "source": [
        "from google.colab import files\n",
        "files.download('/content/drive/My Drive/Colab Notebooks/main_new.ipynb')"
      ]
    }
  ],
  "metadata": {
    "accelerator": "GPU",
    "colab": {
      "gpuType": "T4",
      "machine_shape": "hm",
      "provenance": []
    },
    "kernelspec": {
      "display_name": "Python 3",
      "name": "python3"
    },
    "language_info": {
      "name": "python"
    },
    "widgets": {
      "application/vnd.jupyter.widget-state+json": {
        "0cfb66449de54932913c2c6b17164d2d": {
          "model_module": "@jupyter-widgets/base",
          "model_module_version": "1.2.0",
          "model_name": "LayoutModel",
          "state": {
            "_model_module": "@jupyter-widgets/base",
            "_model_module_version": "1.2.0",
            "_model_name": "LayoutModel",
            "_view_count": null,
            "_view_module": "@jupyter-widgets/base",
            "_view_module_version": "1.2.0",
            "_view_name": "LayoutView",
            "align_content": null,
            "align_items": null,
            "align_self": null,
            "border": null,
            "bottom": null,
            "display": null,
            "flex": null,
            "flex_flow": null,
            "grid_area": null,
            "grid_auto_columns": null,
            "grid_auto_flow": null,
            "grid_auto_rows": null,
            "grid_column": null,
            "grid_gap": null,
            "grid_row": null,
            "grid_template_areas": null,
            "grid_template_columns": null,
            "grid_template_rows": null,
            "height": null,
            "justify_content": null,
            "justify_items": null,
            "left": null,
            "margin": null,
            "max_height": null,
            "max_width": null,
            "min_height": null,
            "min_width": null,
            "object_fit": null,
            "object_position": null,
            "order": null,
            "overflow": null,
            "overflow_x": null,
            "overflow_y": null,
            "padding": null,
            "right": null,
            "top": null,
            "visibility": null,
            "width": null
          }
        },
        "19b86b1a1b6e44b7bcc1d7309b380d62": {
          "model_module": "@jupyter-widgets/controls",
          "model_module_version": "1.5.0",
          "model_name": "DescriptionStyleModel",
          "state": {
            "_model_module": "@jupyter-widgets/controls",
            "_model_module_version": "1.5.0",
            "_model_name": "DescriptionStyleModel",
            "_view_count": null,
            "_view_module": "@jupyter-widgets/base",
            "_view_module_version": "1.2.0",
            "_view_name": "StyleView",
            "description_width": ""
          }
        },
        "1fc31fda8a564094aa86cd59cf365d9b": {
          "model_module": "@jupyter-widgets/controls",
          "model_module_version": "1.5.0",
          "model_name": "DescriptionStyleModel",
          "state": {
            "_model_module": "@jupyter-widgets/controls",
            "_model_module_version": "1.5.0",
            "_model_name": "DescriptionStyleModel",
            "_view_count": null,
            "_view_module": "@jupyter-widgets/base",
            "_view_module_version": "1.2.0",
            "_view_name": "StyleView",
            "description_width": ""
          }
        },
        "2e98ce4d699c46dea30f8c02c617e72a": {
          "model_module": "@jupyter-widgets/base",
          "model_module_version": "1.2.0",
          "model_name": "LayoutModel",
          "state": {
            "_model_module": "@jupyter-widgets/base",
            "_model_module_version": "1.2.0",
            "_model_name": "LayoutModel",
            "_view_count": null,
            "_view_module": "@jupyter-widgets/base",
            "_view_module_version": "1.2.0",
            "_view_name": "LayoutView",
            "align_content": null,
            "align_items": null,
            "align_self": null,
            "border": null,
            "bottom": null,
            "display": null,
            "flex": null,
            "flex_flow": null,
            "grid_area": null,
            "grid_auto_columns": null,
            "grid_auto_flow": null,
            "grid_auto_rows": null,
            "grid_column": null,
            "grid_gap": null,
            "grid_row": null,
            "grid_template_areas": null,
            "grid_template_columns": null,
            "grid_template_rows": null,
            "height": null,
            "justify_content": null,
            "justify_items": null,
            "left": null,
            "margin": null,
            "max_height": null,
            "max_width": null,
            "min_height": null,
            "min_width": null,
            "object_fit": null,
            "object_position": null,
            "order": null,
            "overflow": null,
            "overflow_x": null,
            "overflow_y": null,
            "padding": null,
            "right": null,
            "top": null,
            "visibility": null,
            "width": null
          }
        },
        "2f64190f378648cab190852d3baf7529": {
          "model_module": "@jupyter-widgets/controls",
          "model_module_version": "1.5.0",
          "model_name": "FloatProgressModel",
          "state": {
            "_dom_classes": [],
            "_model_module": "@jupyter-widgets/controls",
            "_model_module_version": "1.5.0",
            "_model_name": "FloatProgressModel",
            "_view_count": null,
            "_view_module": "@jupyter-widgets/controls",
            "_view_module_version": "1.5.0",
            "_view_name": "ProgressView",
            "bar_style": "success",
            "description": "",
            "description_tooltip": null,
            "layout": "IPY_MODEL_0cfb66449de54932913c2c6b17164d2d",
            "max": 343,
            "min": 0,
            "orientation": "horizontal",
            "style": "IPY_MODEL_cb67ef6db5f443ff86cc3c28b710e2e9",
            "value": 343
          }
        },
        "37984c7b5aaf48c5852df553b7661f1d": {
          "model_module": "@jupyter-widgets/controls",
          "model_module_version": "1.5.0",
          "model_name": "ProgressStyleModel",
          "state": {
            "_model_module": "@jupyter-widgets/controls",
            "_model_module_version": "1.5.0",
            "_model_name": "ProgressStyleModel",
            "_view_count": null,
            "_view_module": "@jupyter-widgets/base",
            "_view_module_version": "1.2.0",
            "_view_name": "StyleView",
            "bar_color": null,
            "description_width": ""
          }
        },
        "40e2116c4c354b959ddaed6dc9a6dba4": {
          "model_module": "@jupyter-widgets/base",
          "model_module_version": "1.2.0",
          "model_name": "LayoutModel",
          "state": {
            "_model_module": "@jupyter-widgets/base",
            "_model_module_version": "1.2.0",
            "_model_name": "LayoutModel",
            "_view_count": null,
            "_view_module": "@jupyter-widgets/base",
            "_view_module_version": "1.2.0",
            "_view_name": "LayoutView",
            "align_content": null,
            "align_items": null,
            "align_self": null,
            "border": null,
            "bottom": null,
            "display": null,
            "flex": null,
            "flex_flow": null,
            "grid_area": null,
            "grid_auto_columns": null,
            "grid_auto_flow": null,
            "grid_auto_rows": null,
            "grid_column": null,
            "grid_gap": null,
            "grid_row": null,
            "grid_template_areas": null,
            "grid_template_columns": null,
            "grid_template_rows": null,
            "height": null,
            "justify_content": null,
            "justify_items": null,
            "left": null,
            "margin": null,
            "max_height": null,
            "max_width": null,
            "min_height": null,
            "min_width": null,
            "object_fit": null,
            "object_position": null,
            "order": null,
            "overflow": null,
            "overflow_x": null,
            "overflow_y": null,
            "padding": null,
            "right": null,
            "top": null,
            "visibility": null,
            "width": null
          }
        },
        "45255360400a4f938eb1426cb1856d8a": {
          "model_module": "@jupyter-widgets/base",
          "model_module_version": "1.2.0",
          "model_name": "LayoutModel",
          "state": {
            "_model_module": "@jupyter-widgets/base",
            "_model_module_version": "1.2.0",
            "_model_name": "LayoutModel",
            "_view_count": null,
            "_view_module": "@jupyter-widgets/base",
            "_view_module_version": "1.2.0",
            "_view_name": "LayoutView",
            "align_content": null,
            "align_items": null,
            "align_self": null,
            "border": null,
            "bottom": null,
            "display": null,
            "flex": null,
            "flex_flow": null,
            "grid_area": null,
            "grid_auto_columns": null,
            "grid_auto_flow": null,
            "grid_auto_rows": null,
            "grid_column": null,
            "grid_gap": null,
            "grid_row": null,
            "grid_template_areas": null,
            "grid_template_columns": null,
            "grid_template_rows": null,
            "height": null,
            "justify_content": null,
            "justify_items": null,
            "left": null,
            "margin": null,
            "max_height": null,
            "max_width": null,
            "min_height": null,
            "min_width": null,
            "object_fit": null,
            "object_position": null,
            "order": null,
            "overflow": null,
            "overflow_x": null,
            "overflow_y": null,
            "padding": null,
            "right": null,
            "top": null,
            "visibility": null,
            "width": null
          }
        },
        "46d61a0e2b974b9e939ed29d27d19a14": {
          "model_module": "@jupyter-widgets/base",
          "model_module_version": "1.2.0",
          "model_name": "LayoutModel",
          "state": {
            "_model_module": "@jupyter-widgets/base",
            "_model_module_version": "1.2.0",
            "_model_name": "LayoutModel",
            "_view_count": null,
            "_view_module": "@jupyter-widgets/base",
            "_view_module_version": "1.2.0",
            "_view_name": "LayoutView",
            "align_content": null,
            "align_items": null,
            "align_self": null,
            "border": null,
            "bottom": null,
            "display": null,
            "flex": null,
            "flex_flow": null,
            "grid_area": null,
            "grid_auto_columns": null,
            "grid_auto_flow": null,
            "grid_auto_rows": null,
            "grid_column": null,
            "grid_gap": null,
            "grid_row": null,
            "grid_template_areas": null,
            "grid_template_columns": null,
            "grid_template_rows": null,
            "height": null,
            "justify_content": null,
            "justify_items": null,
            "left": null,
            "margin": null,
            "max_height": null,
            "max_width": null,
            "min_height": null,
            "min_width": null,
            "object_fit": null,
            "object_position": null,
            "order": null,
            "overflow": null,
            "overflow_x": null,
            "overflow_y": null,
            "padding": null,
            "right": null,
            "top": null,
            "visibility": null,
            "width": null
          }
        },
        "53d4d4d0a46c4287aab98b5a54d14a1a": {
          "model_module": "@jupyter-widgets/controls",
          "model_module_version": "1.5.0",
          "model_name": "HTMLModel",
          "state": {
            "_dom_classes": [],
            "_model_module": "@jupyter-widgets/controls",
            "_model_module_version": "1.5.0",
            "_model_name": "HTMLModel",
            "_view_count": null,
            "_view_module": "@jupyter-widgets/controls",
            "_view_module_version": "1.5.0",
            "_view_name": "HTMLView",
            "description": "",
            "description_tooltip": null,
            "layout": "IPY_MODEL_db668bbdbcec48aa95fae7076334f494",
            "placeholder": "​",
            "style": "IPY_MODEL_19b86b1a1b6e44b7bcc1d7309b380d62",
            "value": "Map: 100%"
          }
        },
        "6a8ed0b91b224cc4addf74cb6deb3bcb": {
          "model_module": "@jupyter-widgets/controls",
          "model_module_version": "1.5.0",
          "model_name": "HBoxModel",
          "state": {
            "_dom_classes": [],
            "_model_module": "@jupyter-widgets/controls",
            "_model_module_version": "1.5.0",
            "_model_name": "HBoxModel",
            "_view_count": null,
            "_view_module": "@jupyter-widgets/controls",
            "_view_module_version": "1.5.0",
            "_view_name": "HBoxView",
            "box_style": "",
            "children": [
              "IPY_MODEL_7ce2877947bb4eefbf542a28a4014552",
              "IPY_MODEL_2f64190f378648cab190852d3baf7529",
              "IPY_MODEL_bb23708fdb0845cdb795a3c196f0e375"
            ],
            "layout": "IPY_MODEL_808d162707b04e16847098cae8c863e8"
          }
        },
        "7ce2877947bb4eefbf542a28a4014552": {
          "model_module": "@jupyter-widgets/controls",
          "model_module_version": "1.5.0",
          "model_name": "HTMLModel",
          "state": {
            "_dom_classes": [],
            "_model_module": "@jupyter-widgets/controls",
            "_model_module_version": "1.5.0",
            "_model_name": "HTMLModel",
            "_view_count": null,
            "_view_module": "@jupyter-widgets/controls",
            "_view_module_version": "1.5.0",
            "_view_name": "HTMLView",
            "description": "",
            "description_tooltip": null,
            "layout": "IPY_MODEL_46d61a0e2b974b9e939ed29d27d19a14",
            "placeholder": "​",
            "style": "IPY_MODEL_1fc31fda8a564094aa86cd59cf365d9b",
            "value": "Map: 100%"
          }
        },
        "808d162707b04e16847098cae8c863e8": {
          "model_module": "@jupyter-widgets/base",
          "model_module_version": "1.2.0",
          "model_name": "LayoutModel",
          "state": {
            "_model_module": "@jupyter-widgets/base",
            "_model_module_version": "1.2.0",
            "_model_name": "LayoutModel",
            "_view_count": null,
            "_view_module": "@jupyter-widgets/base",
            "_view_module_version": "1.2.0",
            "_view_name": "LayoutView",
            "align_content": null,
            "align_items": null,
            "align_self": null,
            "border": null,
            "bottom": null,
            "display": null,
            "flex": null,
            "flex_flow": null,
            "grid_area": null,
            "grid_auto_columns": null,
            "grid_auto_flow": null,
            "grid_auto_rows": null,
            "grid_column": null,
            "grid_gap": null,
            "grid_row": null,
            "grid_template_areas": null,
            "grid_template_columns": null,
            "grid_template_rows": null,
            "height": null,
            "justify_content": null,
            "justify_items": null,
            "left": null,
            "margin": null,
            "max_height": null,
            "max_width": null,
            "min_height": null,
            "min_width": null,
            "object_fit": null,
            "object_position": null,
            "order": null,
            "overflow": null,
            "overflow_x": null,
            "overflow_y": null,
            "padding": null,
            "right": null,
            "top": null,
            "visibility": null,
            "width": null
          }
        },
        "927c2b9cdd9541cbb1632c4b9b8ece2c": {
          "model_module": "@jupyter-widgets/controls",
          "model_module_version": "1.5.0",
          "model_name": "DescriptionStyleModel",
          "state": {
            "_model_module": "@jupyter-widgets/controls",
            "_model_module_version": "1.5.0",
            "_model_name": "DescriptionStyleModel",
            "_view_count": null,
            "_view_module": "@jupyter-widgets/base",
            "_view_module_version": "1.2.0",
            "_view_name": "StyleView",
            "description_width": ""
          }
        },
        "bb23708fdb0845cdb795a3c196f0e375": {
          "model_module": "@jupyter-widgets/controls",
          "model_module_version": "1.5.0",
          "model_name": "HTMLModel",
          "state": {
            "_dom_classes": [],
            "_model_module": "@jupyter-widgets/controls",
            "_model_module_version": "1.5.0",
            "_model_name": "HTMLModel",
            "_view_count": null,
            "_view_module": "@jupyter-widgets/controls",
            "_view_module_version": "1.5.0",
            "_view_name": "HTMLView",
            "description": "",
            "description_tooltip": null,
            "layout": "IPY_MODEL_2e98ce4d699c46dea30f8c02c617e72a",
            "placeholder": "​",
            "style": "IPY_MODEL_927c2b9cdd9541cbb1632c4b9b8ece2c",
            "value": " 343/343 [00:09&lt;00:00, 35.34 examples/s]"
          }
        },
        "c814e419203847258b98cf30f213269c": {
          "model_module": "@jupyter-widgets/base",
          "model_module_version": "1.2.0",
          "model_name": "LayoutModel",
          "state": {
            "_model_module": "@jupyter-widgets/base",
            "_model_module_version": "1.2.0",
            "_model_name": "LayoutModel",
            "_view_count": null,
            "_view_module": "@jupyter-widgets/base",
            "_view_module_version": "1.2.0",
            "_view_name": "LayoutView",
            "align_content": null,
            "align_items": null,
            "align_self": null,
            "border": null,
            "bottom": null,
            "display": null,
            "flex": null,
            "flex_flow": null,
            "grid_area": null,
            "grid_auto_columns": null,
            "grid_auto_flow": null,
            "grid_auto_rows": null,
            "grid_column": null,
            "grid_gap": null,
            "grid_row": null,
            "grid_template_areas": null,
            "grid_template_columns": null,
            "grid_template_rows": null,
            "height": null,
            "justify_content": null,
            "justify_items": null,
            "left": null,
            "margin": null,
            "max_height": null,
            "max_width": null,
            "min_height": null,
            "min_width": null,
            "object_fit": null,
            "object_position": null,
            "order": null,
            "overflow": null,
            "overflow_x": null,
            "overflow_y": null,
            "padding": null,
            "right": null,
            "top": null,
            "visibility": null,
            "width": null
          }
        },
        "cb67ef6db5f443ff86cc3c28b710e2e9": {
          "model_module": "@jupyter-widgets/controls",
          "model_module_version": "1.5.0",
          "model_name": "ProgressStyleModel",
          "state": {
            "_model_module": "@jupyter-widgets/controls",
            "_model_module_version": "1.5.0",
            "_model_name": "ProgressStyleModel",
            "_view_count": null,
            "_view_module": "@jupyter-widgets/base",
            "_view_module_version": "1.2.0",
            "_view_name": "StyleView",
            "bar_color": null,
            "description_width": ""
          }
        },
        "db668bbdbcec48aa95fae7076334f494": {
          "model_module": "@jupyter-widgets/base",
          "model_module_version": "1.2.0",
          "model_name": "LayoutModel",
          "state": {
            "_model_module": "@jupyter-widgets/base",
            "_model_module_version": "1.2.0",
            "_model_name": "LayoutModel",
            "_view_count": null,
            "_view_module": "@jupyter-widgets/base",
            "_view_module_version": "1.2.0",
            "_view_name": "LayoutView",
            "align_content": null,
            "align_items": null,
            "align_self": null,
            "border": null,
            "bottom": null,
            "display": null,
            "flex": null,
            "flex_flow": null,
            "grid_area": null,
            "grid_auto_columns": null,
            "grid_auto_flow": null,
            "grid_auto_rows": null,
            "grid_column": null,
            "grid_gap": null,
            "grid_row": null,
            "grid_template_areas": null,
            "grid_template_columns": null,
            "grid_template_rows": null,
            "height": null,
            "justify_content": null,
            "justify_items": null,
            "left": null,
            "margin": null,
            "max_height": null,
            "max_width": null,
            "min_height": null,
            "min_width": null,
            "object_fit": null,
            "object_position": null,
            "order": null,
            "overflow": null,
            "overflow_x": null,
            "overflow_y": null,
            "padding": null,
            "right": null,
            "top": null,
            "visibility": null,
            "width": null
          }
        },
        "e3a87d352087433ba39470cd3d32da3f": {
          "model_module": "@jupyter-widgets/controls",
          "model_module_version": "1.5.0",
          "model_name": "HBoxModel",
          "state": {
            "_dom_classes": [],
            "_model_module": "@jupyter-widgets/controls",
            "_model_module_version": "1.5.0",
            "_model_name": "HBoxModel",
            "_view_count": null,
            "_view_module": "@jupyter-widgets/controls",
            "_view_module_version": "1.5.0",
            "_view_name": "HBoxView",
            "box_style": "",
            "children": [
              "IPY_MODEL_53d4d4d0a46c4287aab98b5a54d14a1a",
              "IPY_MODEL_ee28e51be1e14a348657b0d3c603d281",
              "IPY_MODEL_fd8a94419c464cea8fa9af4a20ca6964"
            ],
            "layout": "IPY_MODEL_c814e419203847258b98cf30f213269c"
          }
        },
        "ee28e51be1e14a348657b0d3c603d281": {
          "model_module": "@jupyter-widgets/controls",
          "model_module_version": "1.5.0",
          "model_name": "FloatProgressModel",
          "state": {
            "_dom_classes": [],
            "_model_module": "@jupyter-widgets/controls",
            "_model_module_version": "1.5.0",
            "_model_name": "FloatProgressModel",
            "_view_count": null,
            "_view_module": "@jupyter-widgets/controls",
            "_view_module_version": "1.5.0",
            "_view_name": "ProgressView",
            "bar_style": "success",
            "description": "",
            "description_tooltip": null,
            "layout": "IPY_MODEL_45255360400a4f938eb1426cb1856d8a",
            "max": 3087,
            "min": 0,
            "orientation": "horizontal",
            "style": "IPY_MODEL_37984c7b5aaf48c5852df553b7661f1d",
            "value": 3087
          }
        },
        "fc06d9b32aa84bca96aded899efd794b": {
          "model_module": "@jupyter-widgets/controls",
          "model_module_version": "1.5.0",
          "model_name": "DescriptionStyleModel",
          "state": {
            "_model_module": "@jupyter-widgets/controls",
            "_model_module_version": "1.5.0",
            "_model_name": "DescriptionStyleModel",
            "_view_count": null,
            "_view_module": "@jupyter-widgets/base",
            "_view_module_version": "1.2.0",
            "_view_name": "StyleView",
            "description_width": ""
          }
        },
        "fd8a94419c464cea8fa9af4a20ca6964": {
          "model_module": "@jupyter-widgets/controls",
          "model_module_version": "1.5.0",
          "model_name": "HTMLModel",
          "state": {
            "_dom_classes": [],
            "_model_module": "@jupyter-widgets/controls",
            "_model_module_version": "1.5.0",
            "_model_name": "HTMLModel",
            "_view_count": null,
            "_view_module": "@jupyter-widgets/controls",
            "_view_module_version": "1.5.0",
            "_view_name": "HTMLView",
            "description": "",
            "description_tooltip": null,
            "layout": "IPY_MODEL_40e2116c4c354b959ddaed6dc9a6dba4",
            "placeholder": "​",
            "style": "IPY_MODEL_fc06d9b32aa84bca96aded899efd794b",
            "value": " 3087/3087 [01:29&lt;00:00, 35.06 examples/s]"
          }
        }
      }
    }
  },
  "nbformat": 4,
  "nbformat_minor": 0
}
