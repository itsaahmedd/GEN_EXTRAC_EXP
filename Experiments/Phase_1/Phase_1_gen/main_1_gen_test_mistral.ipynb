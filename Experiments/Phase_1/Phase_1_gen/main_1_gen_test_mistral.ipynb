{
  "cells": [
    {
      "cell_type": "code",
      "execution_count": 1,
      "metadata": {
        "colab": {
          "base_uri": "https://localhost:8080/",
          "height": 17,
          "referenced_widgets": [
            "76496b673c22461e9dbafd2b7734c31a",
            "0c1a3b75863f4cf89e5290638b86a6b2",
            "d09a6ec39edb43e9ba5570ad3936c510",
            "fd4f9bd6e915468bbeac7dfb0a2e19db",
            "55f8ab39731849eba4f12c2cc2fe1b0b",
            "5924ffd408e84af4b83f4c5429243a80",
            "287d9f1b514d49cfa045f1703e129145",
            "f4df20e0b6bf42a6a394fe14ab14ebd2",
            "1d4f80c66f8849df90084064dd814d07",
            "2b583af372fe4ee092e0f3a1e142e568",
            "39f52bbe0bff46119defdabe1fc10bd9",
            "ffc95a8e15f546189cc219fb07719bdc",
            "080ef30ce48a4ab49c1a24fa6f154d48",
            "384871937b6d4a059a9db565ea602300",
            "da5525f8d7a44e399bd8e79dbed26bff",
            "f2850196df87451a824c5cf811adcdda",
            "da227c8f5a8940b39f4410203568bd56",
            "4a82e8de57c4493780d79fe7ec69232b",
            "3fdee0d5987d4abaa3c10e0b2104b886",
            "a0145ba6e2284958a27ff1313d0665a6"
          ]
        },
        "id": "9xUi6RL0ydRM",
        "outputId": "c2c69f18-2520-4931-a1e9-ce4f21f9e59f"
      },
      "outputs": [
        {
          "data": {
            "application/vnd.jupyter.widget-view+json": {
              "model_id": "76496b673c22461e9dbafd2b7734c31a",
              "version_major": 2,
              "version_minor": 0
            },
            "text/plain": [
              "VBox(children=(HTML(value='<center> <img\\nsrc=https://huggingface.co/front/assets/huggingface_logo-noborder.sv…"
            ]
          },
          "metadata": {},
          "output_type": "display_data"
        }
      ],
      "source": [
        "import os\n",
        "\n",
        "from huggingface_hub import notebook_login\n",
        "notebook_login()"
      ]
    },
    {
      "cell_type": "code",
      "execution_count": 2,
      "metadata": {
        "colab": {
          "base_uri": "https://localhost:8080/"
        },
        "id": "Uejsx0-2ylaR",
        "outputId": "05808451-2ba0-49bf-b789-3253c327fc85"
      },
      "outputs": [
        {
          "name": "stdout",
          "output_type": "stream",
          "text": [
            "\u001b[33mWARNING: Skipping bitsandbytes as it is not installed.\u001b[0m\u001b[33m\n",
            "\u001b[0mCollecting bitsandbytes\n",
            "  Downloading bitsandbytes-0.45.3-py3-none-manylinux_2_24_x86_64.whl.metadata (5.0 kB)\n",
            "Requirement already satisfied: torch<3,>=2.0 in /usr/local/lib/python3.11/dist-packages (from bitsandbytes) (2.5.1+cu124)\n",
            "Requirement already satisfied: numpy>=1.17 in /usr/local/lib/python3.11/dist-packages (from bitsandbytes) (1.26.4)\n",
            "Requirement already satisfied: filelock in /usr/local/lib/python3.11/dist-packages (from torch<3,>=2.0->bitsandbytes) (3.17.0)\n",
            "Requirement already satisfied: typing-extensions>=4.8.0 in /usr/local/lib/python3.11/dist-packages (from torch<3,>=2.0->bitsandbytes) (4.12.2)\n",
            "Requirement already satisfied: networkx in /usr/local/lib/python3.11/dist-packages (from torch<3,>=2.0->bitsandbytes) (3.4.2)\n",
            "Requirement already satisfied: jinja2 in /usr/local/lib/python3.11/dist-packages (from torch<3,>=2.0->bitsandbytes) (3.1.5)\n",
            "Requirement already satisfied: fsspec in /usr/local/lib/python3.11/dist-packages (from torch<3,>=2.0->bitsandbytes) (2024.10.0)\n",
            "Collecting nvidia-cuda-nvrtc-cu12==12.4.127 (from torch<3,>=2.0->bitsandbytes)\n",
            "  Downloading nvidia_cuda_nvrtc_cu12-12.4.127-py3-none-manylinux2014_x86_64.whl.metadata (1.5 kB)\n",
            "Collecting nvidia-cuda-runtime-cu12==12.4.127 (from torch<3,>=2.0->bitsandbytes)\n",
            "  Downloading nvidia_cuda_runtime_cu12-12.4.127-py3-none-manylinux2014_x86_64.whl.metadata (1.5 kB)\n",
            "Collecting nvidia-cuda-cupti-cu12==12.4.127 (from torch<3,>=2.0->bitsandbytes)\n",
            "  Downloading nvidia_cuda_cupti_cu12-12.4.127-py3-none-manylinux2014_x86_64.whl.metadata (1.6 kB)\n",
            "Collecting nvidia-cudnn-cu12==9.1.0.70 (from torch<3,>=2.0->bitsandbytes)\n",
            "  Downloading nvidia_cudnn_cu12-9.1.0.70-py3-none-manylinux2014_x86_64.whl.metadata (1.6 kB)\n",
            "Collecting nvidia-cublas-cu12==12.4.5.8 (from torch<3,>=2.0->bitsandbytes)\n",
            "  Downloading nvidia_cublas_cu12-12.4.5.8-py3-none-manylinux2014_x86_64.whl.metadata (1.5 kB)\n",
            "Collecting nvidia-cufft-cu12==11.2.1.3 (from torch<3,>=2.0->bitsandbytes)\n",
            "  Downloading nvidia_cufft_cu12-11.2.1.3-py3-none-manylinux2014_x86_64.whl.metadata (1.5 kB)\n",
            "Collecting nvidia-curand-cu12==10.3.5.147 (from torch<3,>=2.0->bitsandbytes)\n",
            "  Downloading nvidia_curand_cu12-10.3.5.147-py3-none-manylinux2014_x86_64.whl.metadata (1.5 kB)\n",
            "Collecting nvidia-cusolver-cu12==11.6.1.9 (from torch<3,>=2.0->bitsandbytes)\n",
            "  Downloading nvidia_cusolver_cu12-11.6.1.9-py3-none-manylinux2014_x86_64.whl.metadata (1.6 kB)\n",
            "Collecting nvidia-cusparse-cu12==12.3.1.170 (from torch<3,>=2.0->bitsandbytes)\n",
            "  Downloading nvidia_cusparse_cu12-12.3.1.170-py3-none-manylinux2014_x86_64.whl.metadata (1.6 kB)\n",
            "Requirement already satisfied: nvidia-nccl-cu12==2.21.5 in /usr/local/lib/python3.11/dist-packages (from torch<3,>=2.0->bitsandbytes) (2.21.5)\n",
            "Requirement already satisfied: nvidia-nvtx-cu12==12.4.127 in /usr/local/lib/python3.11/dist-packages (from torch<3,>=2.0->bitsandbytes) (12.4.127)\n",
            "Collecting nvidia-nvjitlink-cu12==12.4.127 (from torch<3,>=2.0->bitsandbytes)\n",
            "  Downloading nvidia_nvjitlink_cu12-12.4.127-py3-none-manylinux2014_x86_64.whl.metadata (1.5 kB)\n",
            "Requirement already satisfied: triton==3.1.0 in /usr/local/lib/python3.11/dist-packages (from torch<3,>=2.0->bitsandbytes) (3.1.0)\n",
            "Requirement already satisfied: sympy==1.13.1 in /usr/local/lib/python3.11/dist-packages (from torch<3,>=2.0->bitsandbytes) (1.13.1)\n",
            "Requirement already satisfied: mpmath<1.4,>=1.1.0 in /usr/local/lib/python3.11/dist-packages (from sympy==1.13.1->torch<3,>=2.0->bitsandbytes) (1.3.0)\n",
            "Requirement already satisfied: MarkupSafe>=2.0 in /usr/local/lib/python3.11/dist-packages (from jinja2->torch<3,>=2.0->bitsandbytes) (3.0.2)\n",
            "Downloading bitsandbytes-0.45.3-py3-none-manylinux_2_24_x86_64.whl (76.1 MB)\n",
            "\u001b[2K   \u001b[90m━━━━━━━━━━━━━━━━━━━━━━━━━━━━━━━━━━━━━━━━\u001b[0m \u001b[32m76.1/76.1 MB\u001b[0m \u001b[31m280.2 MB/s\u001b[0m eta \u001b[36m0:00:00\u001b[0m\n",
            "\u001b[?25hDownloading nvidia_cublas_cu12-12.4.5.8-py3-none-manylinux2014_x86_64.whl (363.4 MB)\n",
            "\u001b[2K   \u001b[90m━━━━━━━━━━━━━━━━━━━━━━━━━━━━━━━━━━━━━━━━\u001b[0m \u001b[32m363.4/363.4 MB\u001b[0m \u001b[31m271.5 MB/s\u001b[0m eta \u001b[36m0:00:00\u001b[0m\n",
            "\u001b[?25hDownloading nvidia_cuda_cupti_cu12-12.4.127-py3-none-manylinux2014_x86_64.whl (13.8 MB)\n",
            "\u001b[2K   \u001b[90m━━━━━━━━━━━━━━━━━━━━━━━━━━━━━━━━━━━━━━━━\u001b[0m \u001b[32m13.8/13.8 MB\u001b[0m \u001b[31m275.4 MB/s\u001b[0m eta \u001b[36m0:00:00\u001b[0m\n",
            "\u001b[?25hDownloading nvidia_cuda_nvrtc_cu12-12.4.127-py3-none-manylinux2014_x86_64.whl (24.6 MB)\n",
            "\u001b[2K   \u001b[90m━━━━━━━━━━━━━━━━━━━━━━━━━━━━━━━━━━━━━━━━\u001b[0m \u001b[32m24.6/24.6 MB\u001b[0m \u001b[31m272.4 MB/s\u001b[0m eta \u001b[36m0:00:00\u001b[0m\n",
            "\u001b[?25hDownloading nvidia_cuda_runtime_cu12-12.4.127-py3-none-manylinux2014_x86_64.whl (883 kB)\n",
            "\u001b[2K   \u001b[90m━━━━━━━━━━━━━━━━━━━━━━━━━━━━━━━━━━━━━━━━\u001b[0m \u001b[32m883.7/883.7 kB\u001b[0m \u001b[31m259.7 MB/s\u001b[0m eta \u001b[36m0:00:00\u001b[0m\n",
            "\u001b[?25hDownloading nvidia_cudnn_cu12-9.1.0.70-py3-none-manylinux2014_x86_64.whl (664.8 MB)\n",
            "\u001b[2K   \u001b[90m━━━━━━━━━━━━━━━━━━━━━━━━━━━━━━━━━━━━━━━━\u001b[0m \u001b[32m664.8/664.8 MB\u001b[0m \u001b[31m303.1 MB/s\u001b[0m eta \u001b[36m0:00:00\u001b[0m\n",
            "\u001b[?25hDownloading nvidia_cufft_cu12-11.2.1.3-py3-none-manylinux2014_x86_64.whl (211.5 MB)\n",
            "\u001b[2K   \u001b[90m━━━━━━━━━━━━━━━━━━━━━━━━━━━━━━━━━━━━━━━━\u001b[0m \u001b[32m211.5/211.5 MB\u001b[0m \u001b[31m276.6 MB/s\u001b[0m eta \u001b[36m0:00:00\u001b[0m\n",
            "\u001b[?25hDownloading nvidia_curand_cu12-10.3.5.147-py3-none-manylinux2014_x86_64.whl (56.3 MB)\n",
            "\u001b[2K   \u001b[90m━━━━━━━━━━━━━━━━━━━━━━━━━━━━━━━━━━━━━━━━\u001b[0m \u001b[32m56.3/56.3 MB\u001b[0m \u001b[31m315.4 MB/s\u001b[0m eta \u001b[36m0:00:00\u001b[0m\n",
            "\u001b[?25hDownloading nvidia_cusolver_cu12-11.6.1.9-py3-none-manylinux2014_x86_64.whl (127.9 MB)\n",
            "\u001b[2K   \u001b[90m━━━━━━━━━━━━━━━━━━━━━━━━━━━━━━━━━━━━━━━━\u001b[0m \u001b[32m127.9/127.9 MB\u001b[0m \u001b[31m312.5 MB/s\u001b[0m eta \u001b[36m0:00:00\u001b[0m\n",
            "\u001b[?25hDownloading nvidia_cusparse_cu12-12.3.1.170-py3-none-manylinux2014_x86_64.whl (207.5 MB)\n",
            "\u001b[2K   \u001b[90m━━━━━━━━━━━━━━━━━━━━━━━━━━━━━━━━━━━━━━━━\u001b[0m \u001b[32m207.5/207.5 MB\u001b[0m \u001b[31m305.5 MB/s\u001b[0m eta \u001b[36m0:00:00\u001b[0m\n",
            "\u001b[?25hDownloading nvidia_nvjitlink_cu12-12.4.127-py3-none-manylinux2014_x86_64.whl (21.1 MB)\n",
            "\u001b[2K   \u001b[90m━━━━━━━━━━━━━━━━━━━━━━━━━━━━━━━━━━━━━━━━\u001b[0m \u001b[32m21.1/21.1 MB\u001b[0m \u001b[31m290.7 MB/s\u001b[0m eta \u001b[36m0:00:00\u001b[0m\n",
            "\u001b[?25hInstalling collected packages: nvidia-nvjitlink-cu12, nvidia-curand-cu12, nvidia-cufft-cu12, nvidia-cuda-runtime-cu12, nvidia-cuda-nvrtc-cu12, nvidia-cuda-cupti-cu12, nvidia-cublas-cu12, nvidia-cusparse-cu12, nvidia-cudnn-cu12, nvidia-cusolver-cu12, bitsandbytes\n",
            "  Attempting uninstall: nvidia-nvjitlink-cu12\n",
            "    Found existing installation: nvidia-nvjitlink-cu12 12.5.82\n",
            "    Uninstalling nvidia-nvjitlink-cu12-12.5.82:\n",
            "      Successfully uninstalled nvidia-nvjitlink-cu12-12.5.82\n",
            "  Attempting uninstall: nvidia-curand-cu12\n",
            "    Found existing installation: nvidia-curand-cu12 10.3.6.82\n",
            "    Uninstalling nvidia-curand-cu12-10.3.6.82:\n",
            "      Successfully uninstalled nvidia-curand-cu12-10.3.6.82\n",
            "  Attempting uninstall: nvidia-cufft-cu12\n",
            "    Found existing installation: nvidia-cufft-cu12 11.2.3.61\n",
            "    Uninstalling nvidia-cufft-cu12-11.2.3.61:\n",
            "      Successfully uninstalled nvidia-cufft-cu12-11.2.3.61\n",
            "  Attempting uninstall: nvidia-cuda-runtime-cu12\n",
            "    Found existing installation: nvidia-cuda-runtime-cu12 12.5.82\n",
            "    Uninstalling nvidia-cuda-runtime-cu12-12.5.82:\n",
            "      Successfully uninstalled nvidia-cuda-runtime-cu12-12.5.82\n",
            "  Attempting uninstall: nvidia-cuda-nvrtc-cu12\n",
            "    Found existing installation: nvidia-cuda-nvrtc-cu12 12.5.82\n",
            "    Uninstalling nvidia-cuda-nvrtc-cu12-12.5.82:\n",
            "      Successfully uninstalled nvidia-cuda-nvrtc-cu12-12.5.82\n",
            "  Attempting uninstall: nvidia-cuda-cupti-cu12\n",
            "    Found existing installation: nvidia-cuda-cupti-cu12 12.5.82\n",
            "    Uninstalling nvidia-cuda-cupti-cu12-12.5.82:\n",
            "      Successfully uninstalled nvidia-cuda-cupti-cu12-12.5.82\n",
            "  Attempting uninstall: nvidia-cublas-cu12\n",
            "    Found existing installation: nvidia-cublas-cu12 12.5.3.2\n",
            "    Uninstalling nvidia-cublas-cu12-12.5.3.2:\n",
            "      Successfully uninstalled nvidia-cublas-cu12-12.5.3.2\n",
            "  Attempting uninstall: nvidia-cusparse-cu12\n",
            "    Found existing installation: nvidia-cusparse-cu12 12.5.1.3\n",
            "    Uninstalling nvidia-cusparse-cu12-12.5.1.3:\n",
            "      Successfully uninstalled nvidia-cusparse-cu12-12.5.1.3\n",
            "  Attempting uninstall: nvidia-cudnn-cu12\n",
            "    Found existing installation: nvidia-cudnn-cu12 9.3.0.75\n",
            "    Uninstalling nvidia-cudnn-cu12-9.3.0.75:\n",
            "      Successfully uninstalled nvidia-cudnn-cu12-9.3.0.75\n",
            "  Attempting uninstall: nvidia-cusolver-cu12\n",
            "    Found existing installation: nvidia-cusolver-cu12 11.6.3.83\n",
            "    Uninstalling nvidia-cusolver-cu12-11.6.3.83:\n",
            "      Successfully uninstalled nvidia-cusolver-cu12-11.6.3.83\n",
            "Successfully installed bitsandbytes-0.45.3 nvidia-cublas-cu12-12.4.5.8 nvidia-cuda-cupti-cu12-12.4.127 nvidia-cuda-nvrtc-cu12-12.4.127 nvidia-cuda-runtime-cu12-12.4.127 nvidia-cudnn-cu12-9.1.0.70 nvidia-cufft-cu12-11.2.1.3 nvidia-curand-cu12-10.3.5.147 nvidia-cusolver-cu12-11.6.1.9 nvidia-cusparse-cu12-12.3.1.170 nvidia-nvjitlink-cu12-12.4.127\n",
            "Requirement already satisfied: accelerate in /usr/local/lib/python3.11/dist-packages (1.3.0)\n",
            "Collecting accelerate\n",
            "  Downloading accelerate-1.4.0-py3-none-any.whl.metadata (19 kB)\n",
            "Requirement already satisfied: numpy<3.0.0,>=1.17 in /usr/local/lib/python3.11/dist-packages (from accelerate) (1.26.4)\n",
            "Requirement already satisfied: packaging>=20.0 in /usr/local/lib/python3.11/dist-packages (from accelerate) (24.2)\n",
            "Requirement already satisfied: psutil in /usr/local/lib/python3.11/dist-packages (from accelerate) (5.9.5)\n",
            "Requirement already satisfied: pyyaml in /usr/local/lib/python3.11/dist-packages (from accelerate) (6.0.2)\n",
            "Requirement already satisfied: torch>=2.0.0 in /usr/local/lib/python3.11/dist-packages (from accelerate) (2.5.1+cu124)\n",
            "Requirement already satisfied: huggingface-hub>=0.21.0 in /usr/local/lib/python3.11/dist-packages (from accelerate) (0.28.1)\n",
            "Requirement already satisfied: safetensors>=0.4.3 in /usr/local/lib/python3.11/dist-packages (from accelerate) (0.5.3)\n",
            "Requirement already satisfied: filelock in /usr/local/lib/python3.11/dist-packages (from huggingface-hub>=0.21.0->accelerate) (3.17.0)\n",
            "Requirement already satisfied: fsspec>=2023.5.0 in /usr/local/lib/python3.11/dist-packages (from huggingface-hub>=0.21.0->accelerate) (2024.10.0)\n",
            "Requirement already satisfied: requests in /usr/local/lib/python3.11/dist-packages (from huggingface-hub>=0.21.0->accelerate) (2.32.3)\n",
            "Requirement already satisfied: tqdm>=4.42.1 in /usr/local/lib/python3.11/dist-packages (from huggingface-hub>=0.21.0->accelerate) (4.67.1)\n",
            "Requirement already satisfied: typing-extensions>=3.7.4.3 in /usr/local/lib/python3.11/dist-packages (from huggingface-hub>=0.21.0->accelerate) (4.12.2)\n",
            "Requirement already satisfied: networkx in /usr/local/lib/python3.11/dist-packages (from torch>=2.0.0->accelerate) (3.4.2)\n",
            "Requirement already satisfied: jinja2 in /usr/local/lib/python3.11/dist-packages (from torch>=2.0.0->accelerate) (3.1.5)\n",
            "Requirement already satisfied: nvidia-cuda-nvrtc-cu12==12.4.127 in /usr/local/lib/python3.11/dist-packages (from torch>=2.0.0->accelerate) (12.4.127)\n",
            "Requirement already satisfied: nvidia-cuda-runtime-cu12==12.4.127 in /usr/local/lib/python3.11/dist-packages (from torch>=2.0.0->accelerate) (12.4.127)\n",
            "Requirement already satisfied: nvidia-cuda-cupti-cu12==12.4.127 in /usr/local/lib/python3.11/dist-packages (from torch>=2.0.0->accelerate) (12.4.127)\n",
            "Requirement already satisfied: nvidia-cudnn-cu12==9.1.0.70 in /usr/local/lib/python3.11/dist-packages (from torch>=2.0.0->accelerate) (9.1.0.70)\n",
            "Requirement already satisfied: nvidia-cublas-cu12==12.4.5.8 in /usr/local/lib/python3.11/dist-packages (from torch>=2.0.0->accelerate) (12.4.5.8)\n",
            "Requirement already satisfied: nvidia-cufft-cu12==11.2.1.3 in /usr/local/lib/python3.11/dist-packages (from torch>=2.0.0->accelerate) (11.2.1.3)\n",
            "Requirement already satisfied: nvidia-curand-cu12==10.3.5.147 in /usr/local/lib/python3.11/dist-packages (from torch>=2.0.0->accelerate) (10.3.5.147)\n",
            "Requirement already satisfied: nvidia-cusolver-cu12==11.6.1.9 in /usr/local/lib/python3.11/dist-packages (from torch>=2.0.0->accelerate) (11.6.1.9)\n",
            "Requirement already satisfied: nvidia-cusparse-cu12==12.3.1.170 in /usr/local/lib/python3.11/dist-packages (from torch>=2.0.0->accelerate) (12.3.1.170)\n",
            "Requirement already satisfied: nvidia-nccl-cu12==2.21.5 in /usr/local/lib/python3.11/dist-packages (from torch>=2.0.0->accelerate) (2.21.5)\n",
            "Requirement already satisfied: nvidia-nvtx-cu12==12.4.127 in /usr/local/lib/python3.11/dist-packages (from torch>=2.0.0->accelerate) (12.4.127)\n",
            "Requirement already satisfied: nvidia-nvjitlink-cu12==12.4.127 in /usr/local/lib/python3.11/dist-packages (from torch>=2.0.0->accelerate) (12.4.127)\n",
            "Requirement already satisfied: triton==3.1.0 in /usr/local/lib/python3.11/dist-packages (from torch>=2.0.0->accelerate) (3.1.0)\n",
            "Requirement already satisfied: sympy==1.13.1 in /usr/local/lib/python3.11/dist-packages (from torch>=2.0.0->accelerate) (1.13.1)\n",
            "Requirement already satisfied: mpmath<1.4,>=1.1.0 in /usr/local/lib/python3.11/dist-packages (from sympy==1.13.1->torch>=2.0.0->accelerate) (1.3.0)\n",
            "Requirement already satisfied: MarkupSafe>=2.0 in /usr/local/lib/python3.11/dist-packages (from jinja2->torch>=2.0.0->accelerate) (3.0.2)\n",
            "Requirement already satisfied: charset-normalizer<4,>=2 in /usr/local/lib/python3.11/dist-packages (from requests->huggingface-hub>=0.21.0->accelerate) (3.4.1)\n",
            "Requirement already satisfied: idna<4,>=2.5 in /usr/local/lib/python3.11/dist-packages (from requests->huggingface-hub>=0.21.0->accelerate) (3.10)\n",
            "Requirement already satisfied: urllib3<3,>=1.21.1 in /usr/local/lib/python3.11/dist-packages (from requests->huggingface-hub>=0.21.0->accelerate) (2.3.0)\n",
            "Requirement already satisfied: certifi>=2017.4.17 in /usr/local/lib/python3.11/dist-packages (from requests->huggingface-hub>=0.21.0->accelerate) (2025.1.31)\n",
            "Downloading accelerate-1.4.0-py3-none-any.whl (342 kB)\n",
            "\u001b[2K   \u001b[90m━━━━━━━━━━━━━━━━━━━━━━━━━━━━━━━━━━━━━━━━\u001b[0m \u001b[32m342.1/342.1 kB\u001b[0m \u001b[31m25.2 MB/s\u001b[0m eta \u001b[36m0:00:00\u001b[0m\n",
            "\u001b[?25hInstalling collected packages: accelerate\n",
            "  Attempting uninstall: accelerate\n",
            "    Found existing installation: accelerate 1.3.0\n",
            "    Uninstalling accelerate-1.3.0:\n",
            "      Successfully uninstalled accelerate-1.3.0\n",
            "Successfully installed accelerate-1.4.0\n"
          ]
        }
      ],
      "source": [
        "!pip uninstall -y bitsandbytes\n",
        "!pip install --no-cache-dir bitsandbytes\n",
        "!pip install --upgrade accelerate"
      ]
    },
    {
      "cell_type": "code",
      "execution_count": 9,
      "metadata": {
        "colab": {
          "base_uri": "https://localhost:8080/"
        },
        "id": "jM17nKJtywub",
        "outputId": "e67194df-42b0-4377-f903-d4464e95ec88"
      },
      "outputs": [
        {
          "name": "stdout",
          "output_type": "stream",
          "text": [
            "Requirement already satisfied: np in /usr/local/lib/python3.11/dist-packages (1.0.2)\n",
            "Requirement already satisfied: faiss-cpu in /usr/local/lib/python3.11/dist-packages (1.10.0)\n",
            "Requirement already satisfied: sentence-transformers in /usr/local/lib/python3.11/dist-packages (3.4.1)\n",
            "Requirement already satisfied: evaluate in /usr/local/lib/python3.11/dist-packages (0.4.3)\n",
            "Requirement already satisfied: peft in /usr/local/lib/python3.11/dist-packages (0.14.0)\n",
            "Requirement already satisfied: rouge in /usr/local/lib/python3.11/dist-packages (1.0.1)\n",
            "Collecting bert_score\n",
            "  Downloading bert_score-0.3.13-py3-none-any.whl.metadata (15 kB)\n",
            "Requirement already satisfied: numpy<3.0,>=1.25.0 in /usr/local/lib/python3.11/dist-packages (from faiss-cpu) (1.26.4)\n",
            "Requirement already satisfied: packaging in /usr/local/lib/python3.11/dist-packages (from faiss-cpu) (24.2)\n",
            "Requirement already satisfied: transformers<5.0.0,>=4.41.0 in /usr/local/lib/python3.11/dist-packages (from sentence-transformers) (4.48.3)\n",
            "Requirement already satisfied: tqdm in /usr/local/lib/python3.11/dist-packages (from sentence-transformers) (4.67.1)\n",
            "Requirement already satisfied: torch>=1.11.0 in /usr/local/lib/python3.11/dist-packages (from sentence-transformers) (2.5.1+cu124)\n",
            "Requirement already satisfied: scikit-learn in /usr/local/lib/python3.11/dist-packages (from sentence-transformers) (1.6.1)\n",
            "Requirement already satisfied: scipy in /usr/local/lib/python3.11/dist-packages (from sentence-transformers) (1.13.1)\n",
            "Requirement already satisfied: huggingface-hub>=0.20.0 in /usr/local/lib/python3.11/dist-packages (from sentence-transformers) (0.28.1)\n",
            "Requirement already satisfied: Pillow in /usr/local/lib/python3.11/dist-packages (from sentence-transformers) (11.1.0)\n",
            "Requirement already satisfied: datasets>=2.0.0 in /usr/local/lib/python3.11/dist-packages (from evaluate) (3.3.2)\n",
            "Requirement already satisfied: dill in /usr/local/lib/python3.11/dist-packages (from evaluate) (0.3.8)\n",
            "Requirement already satisfied: pandas in /usr/local/lib/python3.11/dist-packages (from evaluate) (2.2.2)\n",
            "Requirement already satisfied: requests>=2.19.0 in /usr/local/lib/python3.11/dist-packages (from evaluate) (2.32.3)\n",
            "Requirement already satisfied: xxhash in /usr/local/lib/python3.11/dist-packages (from evaluate) (3.5.0)\n",
            "Requirement already satisfied: multiprocess in /usr/local/lib/python3.11/dist-packages (from evaluate) (0.70.16)\n",
            "Requirement already satisfied: fsspec>=2021.05.0 in /usr/local/lib/python3.11/dist-packages (from fsspec[http]>=2021.05.0->evaluate) (2024.10.0)\n",
            "Requirement already satisfied: psutil in /usr/local/lib/python3.11/dist-packages (from peft) (5.9.5)\n",
            "Requirement already satisfied: pyyaml in /usr/local/lib/python3.11/dist-packages (from peft) (6.0.2)\n",
            "Requirement already satisfied: accelerate>=0.21.0 in /usr/local/lib/python3.11/dist-packages (from peft) (1.4.0)\n",
            "Requirement already satisfied: safetensors in /usr/local/lib/python3.11/dist-packages (from peft) (0.5.3)\n",
            "Requirement already satisfied: six in /usr/local/lib/python3.11/dist-packages (from rouge) (1.17.0)\n",
            "Requirement already satisfied: matplotlib in /usr/local/lib/python3.11/dist-packages (from bert_score) (3.10.0)\n",
            "Requirement already satisfied: filelock in /usr/local/lib/python3.11/dist-packages (from datasets>=2.0.0->evaluate) (3.17.0)\n",
            "Requirement already satisfied: pyarrow>=15.0.0 in /usr/local/lib/python3.11/dist-packages (from datasets>=2.0.0->evaluate) (18.1.0)\n",
            "Requirement already satisfied: aiohttp in /usr/local/lib/python3.11/dist-packages (from datasets>=2.0.0->evaluate) (3.11.13)\n",
            "Requirement already satisfied: typing-extensions>=3.7.4.3 in /usr/local/lib/python3.11/dist-packages (from huggingface-hub>=0.20.0->sentence-transformers) (4.12.2)\n",
            "Requirement already satisfied: python-dateutil>=2.8.2 in /usr/local/lib/python3.11/dist-packages (from pandas->evaluate) (2.8.2)\n",
            "Requirement already satisfied: pytz>=2020.1 in /usr/local/lib/python3.11/dist-packages (from pandas->evaluate) (2025.1)\n",
            "Requirement already satisfied: tzdata>=2022.7 in /usr/local/lib/python3.11/dist-packages (from pandas->evaluate) (2025.1)\n",
            "Requirement already satisfied: charset-normalizer<4,>=2 in /usr/local/lib/python3.11/dist-packages (from requests>=2.19.0->evaluate) (3.4.1)\n",
            "Requirement already satisfied: idna<4,>=2.5 in /usr/local/lib/python3.11/dist-packages (from requests>=2.19.0->evaluate) (3.10)\n",
            "Requirement already satisfied: urllib3<3,>=1.21.1 in /usr/local/lib/python3.11/dist-packages (from requests>=2.19.0->evaluate) (2.3.0)\n",
            "Requirement already satisfied: certifi>=2017.4.17 in /usr/local/lib/python3.11/dist-packages (from requests>=2.19.0->evaluate) (2025.1.31)\n",
            "Requirement already satisfied: networkx in /usr/local/lib/python3.11/dist-packages (from torch>=1.11.0->sentence-transformers) (3.4.2)\n",
            "Requirement already satisfied: jinja2 in /usr/local/lib/python3.11/dist-packages (from torch>=1.11.0->sentence-transformers) (3.1.5)\n",
            "Requirement already satisfied: nvidia-cuda-nvrtc-cu12==12.4.127 in /usr/local/lib/python3.11/dist-packages (from torch>=1.11.0->sentence-transformers) (12.4.127)\n",
            "Requirement already satisfied: nvidia-cuda-runtime-cu12==12.4.127 in /usr/local/lib/python3.11/dist-packages (from torch>=1.11.0->sentence-transformers) (12.4.127)\n",
            "Requirement already satisfied: nvidia-cuda-cupti-cu12==12.4.127 in /usr/local/lib/python3.11/dist-packages (from torch>=1.11.0->sentence-transformers) (12.4.127)\n",
            "Requirement already satisfied: nvidia-cudnn-cu12==9.1.0.70 in /usr/local/lib/python3.11/dist-packages (from torch>=1.11.0->sentence-transformers) (9.1.0.70)\n",
            "Requirement already satisfied: nvidia-cublas-cu12==12.4.5.8 in /usr/local/lib/python3.11/dist-packages (from torch>=1.11.0->sentence-transformers) (12.4.5.8)\n",
            "Requirement already satisfied: nvidia-cufft-cu12==11.2.1.3 in /usr/local/lib/python3.11/dist-packages (from torch>=1.11.0->sentence-transformers) (11.2.1.3)\n",
            "Requirement already satisfied: nvidia-curand-cu12==10.3.5.147 in /usr/local/lib/python3.11/dist-packages (from torch>=1.11.0->sentence-transformers) (10.3.5.147)\n",
            "Requirement already satisfied: nvidia-cusolver-cu12==11.6.1.9 in /usr/local/lib/python3.11/dist-packages (from torch>=1.11.0->sentence-transformers) (11.6.1.9)\n",
            "Requirement already satisfied: nvidia-cusparse-cu12==12.3.1.170 in /usr/local/lib/python3.11/dist-packages (from torch>=1.11.0->sentence-transformers) (12.3.1.170)\n",
            "Requirement already satisfied: nvidia-nccl-cu12==2.21.5 in /usr/local/lib/python3.11/dist-packages (from torch>=1.11.0->sentence-transformers) (2.21.5)\n",
            "Requirement already satisfied: nvidia-nvtx-cu12==12.4.127 in /usr/local/lib/python3.11/dist-packages (from torch>=1.11.0->sentence-transformers) (12.4.127)\n",
            "Requirement already satisfied: nvidia-nvjitlink-cu12==12.4.127 in /usr/local/lib/python3.11/dist-packages (from torch>=1.11.0->sentence-transformers) (12.4.127)\n",
            "Requirement already satisfied: triton==3.1.0 in /usr/local/lib/python3.11/dist-packages (from torch>=1.11.0->sentence-transformers) (3.1.0)\n",
            "Requirement already satisfied: sympy==1.13.1 in /usr/local/lib/python3.11/dist-packages (from torch>=1.11.0->sentence-transformers) (1.13.1)\n",
            "Requirement already satisfied: mpmath<1.4,>=1.1.0 in /usr/local/lib/python3.11/dist-packages (from sympy==1.13.1->torch>=1.11.0->sentence-transformers) (1.3.0)\n",
            "Requirement already satisfied: regex!=2019.12.17 in /usr/local/lib/python3.11/dist-packages (from transformers<5.0.0,>=4.41.0->sentence-transformers) (2024.11.6)\n",
            "Requirement already satisfied: tokenizers<0.22,>=0.21 in /usr/local/lib/python3.11/dist-packages (from transformers<5.0.0,>=4.41.0->sentence-transformers) (0.21.0)\n",
            "Requirement already satisfied: contourpy>=1.0.1 in /usr/local/lib/python3.11/dist-packages (from matplotlib->bert_score) (1.3.1)\n",
            "Requirement already satisfied: cycler>=0.10 in /usr/local/lib/python3.11/dist-packages (from matplotlib->bert_score) (0.12.1)\n",
            "Requirement already satisfied: fonttools>=4.22.0 in /usr/local/lib/python3.11/dist-packages (from matplotlib->bert_score) (4.56.0)\n",
            "Requirement already satisfied: kiwisolver>=1.3.1 in /usr/local/lib/python3.11/dist-packages (from matplotlib->bert_score) (1.4.8)\n",
            "Requirement already satisfied: pyparsing>=2.3.1 in /usr/local/lib/python3.11/dist-packages (from matplotlib->bert_score) (3.2.1)\n",
            "Requirement already satisfied: joblib>=1.2.0 in /usr/local/lib/python3.11/dist-packages (from scikit-learn->sentence-transformers) (1.4.2)\n",
            "Requirement already satisfied: threadpoolctl>=3.1.0 in /usr/local/lib/python3.11/dist-packages (from scikit-learn->sentence-transformers) (3.5.0)\n",
            "Requirement already satisfied: aiohappyeyeballs>=2.3.0 in /usr/local/lib/python3.11/dist-packages (from aiohttp->datasets>=2.0.0->evaluate) (2.4.6)\n",
            "Requirement already satisfied: aiosignal>=1.1.2 in /usr/local/lib/python3.11/dist-packages (from aiohttp->datasets>=2.0.0->evaluate) (1.3.2)\n",
            "Requirement already satisfied: attrs>=17.3.0 in /usr/local/lib/python3.11/dist-packages (from aiohttp->datasets>=2.0.0->evaluate) (25.1.0)\n",
            "Requirement already satisfied: frozenlist>=1.1.1 in /usr/local/lib/python3.11/dist-packages (from aiohttp->datasets>=2.0.0->evaluate) (1.5.0)\n",
            "Requirement already satisfied: multidict<7.0,>=4.5 in /usr/local/lib/python3.11/dist-packages (from aiohttp->datasets>=2.0.0->evaluate) (6.1.0)\n",
            "Requirement already satisfied: propcache>=0.2.0 in /usr/local/lib/python3.11/dist-packages (from aiohttp->datasets>=2.0.0->evaluate) (0.3.0)\n",
            "Requirement already satisfied: yarl<2.0,>=1.17.0 in /usr/local/lib/python3.11/dist-packages (from aiohttp->datasets>=2.0.0->evaluate) (1.18.3)\n",
            "Requirement already satisfied: MarkupSafe>=2.0 in /usr/local/lib/python3.11/dist-packages (from jinja2->torch>=1.11.0->sentence-transformers) (3.0.2)\n",
            "Downloading bert_score-0.3.13-py3-none-any.whl (61 kB)\n",
            "\u001b[2K   \u001b[90m━━━━━━━━━━━━━━━━━━━━━━━━━━━━━━━━━━━━━━━━\u001b[0m \u001b[32m61.1/61.1 kB\u001b[0m \u001b[31m5.1 MB/s\u001b[0m eta \u001b[36m0:00:00\u001b[0m\n",
            "\u001b[?25hInstalling collected packages: bert_score\n",
            "Successfully installed bert_score-0.3.13\n"
          ]
        }
      ],
      "source": [
        "pip install np faiss-cpu sentence-transformers evaluate peft rouge bert_score"
      ]
    },
    {
      "cell_type": "code",
      "execution_count": 20,
      "metadata": {
        "colab": {
          "base_uri": "https://localhost:8080/",
          "height": 1000,
          "referenced_widgets": [
            "37cd0f512d5244ada1c54d9bdf0c6020",
            "16e242e794d0420bbfe90be72b24ae71",
            "a6331c3d0b3f4bada0f8fb19c0f081fd",
            "0ff673334a9b4da2b8b5604108e873e4",
            "268b31b2352b4855a7b6fa8b9fc49775",
            "10eb8d17c2d349df9eaaed7f09b54802",
            "9ed7b50169d846c4a549223cef22a07b",
            "9040d92cd1e145d9acec9d3dd79217dd",
            "9f9be1d6aa4f4a80a486f53cc7ee7306",
            "22347ebcc8984fc1bfd4492ea441601f",
            "6af573d0c9454548b119f433fb069c31"
          ]
        },
        "id": "u3F58_dPyyU0",
        "outputId": "8ff245f1-a26f-4505-9795-0d3dc35b0bbe"
      },
      "outputs": [
        {
          "name": "stdout",
          "output_type": "stream",
          "text": [
            "Drive already mounted at /content/drive; to attempt to forcibly remount, call drive.mount(\"/content/drive\", force_remount=True).\n"
          ]
        },
        {
          "name": "stderr",
          "output_type": "stream",
          "text": [
            "The `load_in_4bit` and `load_in_8bit` arguments are deprecated and will be removed in the future versions. Please, pass a `BitsAndBytesConfig` object in `quantization_config` argument instead.\n"
          ]
        },
        {
          "data": {
            "application/vnd.jupyter.widget-view+json": {
              "model_id": "37cd0f512d5244ada1c54d9bdf0c6020",
              "version_major": 2,
              "version_minor": 0
            },
            "text/plain": [
              "Loading checkpoint shards:   0%|          | 0/3 [00:00<?, ?it/s]"
            ]
          },
          "metadata": {},
          "output_type": "display_data"
        },
        {
          "name": "stdout",
          "output_type": "stream",
          "text": [
            "✅ Mistral 7B Instruct v0.2 Loaded with QLoRA\n",
            "✅ QLoRA Configured for Mistral Fine-Tuning\n",
            "Loaded 500 test examples.\n"
          ]
        },
        {
          "name": "stderr",
          "output_type": "stream",
          "text": [
            "\rEvaluating test examples:   0%|          | 0/500 [00:00<?, ?it/s]Setting `pad_token_id` to `eos_token_id`:2 for open-end generation.\n"
          ]
        },
        {
          "name": "stdout",
          "output_type": "stream",
          "text": [
            "FAISS Initialised: Indexed 142 chunks.\n",
            "\n",
            "Low confidence detected based on FAISS score.\n",
            "FAISS Initialised: Indexed 142 chunks.\n"
          ]
        },
        {
          "name": "stderr",
          "output_type": "stream",
          "text": [
            "Some weights of RobertaModel were not initialized from the model checkpoint at roberta-large and are newly initialized: ['roberta.pooler.dense.bias', 'roberta.pooler.dense.weight']\n",
            "You should probably TRAIN this model on a down-stream task to be able to use it for predictions and inference.\n",
            "Evaluating test examples:   0%|          | 2/500 [00:04<20:05,  2.42s/it]Setting `pad_token_id` to `eos_token_id`:2 for open-end generation.\n"
          ]
        },
        {
          "name": "stdout",
          "output_type": "stream",
          "text": [
            "FAISS Initialised: Indexed 142 chunks.\n"
          ]
        },
        {
          "name": "stderr",
          "output_type": "stream",
          "text": [
            "\rEvaluating test examples:   1%|          | 3/500 [00:08<24:01,  2.90s/it]Setting `pad_token_id` to `eos_token_id`:2 for open-end generation.\n"
          ]
        },
        {
          "name": "stdout",
          "output_type": "stream",
          "text": [
            "FAISS Initialised: Indexed 142 chunks.\n"
          ]
        },
        {
          "name": "stderr",
          "output_type": "stream",
          "text": [
            "\rEvaluating test examples:   1%|          | 4/500 [00:12<26:10,  3.17s/it]Setting `pad_token_id` to `eos_token_id`:2 for open-end generation.\n"
          ]
        },
        {
          "name": "stdout",
          "output_type": "stream",
          "text": [
            "FAISS Initialised: Indexed 142 chunks.\n"
          ]
        },
        {
          "name": "stderr",
          "output_type": "stream",
          "text": [
            "\rEvaluating test examples:   1%|          | 5/500 [00:15<27:20,  3.31s/it]Setting `pad_token_id` to `eos_token_id`:2 for open-end generation.\n"
          ]
        },
        {
          "name": "stdout",
          "output_type": "stream",
          "text": [
            "FAISS Initialised: Indexed 142 chunks.\n"
          ]
        },
        {
          "name": "stderr",
          "output_type": "stream",
          "text": [
            "Evaluating test examples:   2%|▏         | 8/500 [00:19<14:43,  1.80s/it]"
          ]
        },
        {
          "name": "stdout",
          "output_type": "stream",
          "text": [
            "FAISS Initialised: Indexed 142 chunks.\n",
            "\n",
            "Low confidence detected based on FAISS score.\n",
            "FAISS Initialised: Indexed 142 chunks.\n",
            "\n",
            "Low confidence detected based on FAISS score.\n",
            "FAISS Initialised: Indexed 142 chunks.\n",
            "\n",
            "Low confidence detected based on FAISS score.\n"
          ]
        },
        {
          "name": "stderr",
          "output_type": "stream",
          "text": [
            "Setting `pad_token_id` to `eos_token_id`:2 for open-end generation.\n"
          ]
        },
        {
          "name": "stdout",
          "output_type": "stream",
          "text": [
            "FAISS Initialised: Indexed 142 chunks.\n"
          ]
        },
        {
          "name": "stderr",
          "output_type": "stream",
          "text": [
            "\rEvaluating test examples:   2%|▏         | 10/500 [00:23<16:00,  1.96s/it]Setting `pad_token_id` to `eos_token_id`:2 for open-end generation.\n"
          ]
        },
        {
          "name": "stdout",
          "output_type": "stream",
          "text": [
            "FAISS Initialised: Indexed 142 chunks.\n"
          ]
        },
        {
          "name": "stderr",
          "output_type": "stream",
          "text": [
            "Evaluating test examples:   3%|▎         | 13/500 [00:29<13:51,  1.71s/it]"
          ]
        },
        {
          "name": "stdout",
          "output_type": "stream",
          "text": [
            "FAISS Initialised: Indexed 142 chunks.\n",
            "\n",
            "Low confidence detected based on FAISS score.\n",
            "FAISS Initialised: Indexed 142 chunks.\n",
            "\n",
            "Low confidence detected based on FAISS score.\n",
            "FAISS Initialised: Indexed 142 chunks.\n",
            "\n",
            "Low confidence detected based on FAISS score.\n"
          ]
        },
        {
          "name": "stderr",
          "output_type": "stream",
          "text": [
            "Evaluating test examples:   3%|▎         | 17/500 [00:29<06:11,  1.30it/s]"
          ]
        },
        {
          "name": "stdout",
          "output_type": "stream",
          "text": [
            "FAISS Initialised: Indexed 142 chunks.\n",
            "\n",
            "Low confidence detected based on FAISS score.\n",
            "FAISS Initialised: Indexed 142 chunks.\n",
            "\n",
            "Low confidence detected based on FAISS score.\n",
            "FAISS Initialised: Indexed 142 chunks.\n",
            "\n",
            "Low confidence detected based on FAISS score.\n"
          ]
        },
        {
          "name": "stderr",
          "output_type": "stream",
          "text": [
            "Setting `pad_token_id` to `eos_token_id`:2 for open-end generation.\n"
          ]
        },
        {
          "name": "stdout",
          "output_type": "stream",
          "text": [
            "FAISS Initialised: Indexed 142 chunks.\n",
            "\n",
            "Low confidence detected based on FAISS score.\n",
            "FAISS Initialised: Indexed 142 chunks.\n"
          ]
        },
        {
          "name": "stderr",
          "output_type": "stream",
          "text": [
            "\rEvaluating test examples:   4%|▍         | 19/500 [00:34<10:44,  1.34s/it]Setting `pad_token_id` to `eos_token_id`:2 for open-end generation.\n"
          ]
        },
        {
          "name": "stdout",
          "output_type": "stream",
          "text": [
            "FAISS Initialised: Indexed 142 chunks.\n"
          ]
        },
        {
          "name": "stderr",
          "output_type": "stream",
          "text": [
            "\rEvaluating test examples:   4%|▍         | 20/500 [00:39<16:03,  2.01s/it]Setting `pad_token_id` to `eos_token_id`:2 for open-end generation.\n"
          ]
        },
        {
          "name": "stdout",
          "output_type": "stream",
          "text": [
            "FAISS Initialised: Indexed 142 chunks.\n"
          ]
        },
        {
          "name": "stderr",
          "output_type": "stream",
          "text": [
            "\rEvaluating test examples:   4%|▍         | 21/500 [00:43<19:39,  2.46s/it]Setting `pad_token_id` to `eos_token_id`:2 for open-end generation.\n"
          ]
        },
        {
          "name": "stdout",
          "output_type": "stream",
          "text": [
            "FAISS Initialised: Indexed 142 chunks.\n"
          ]
        },
        {
          "name": "stderr",
          "output_type": "stream",
          "text": [
            "\rEvaluating test examples:   4%|▍         | 22/500 [00:48<24:11,  3.04s/it]Setting `pad_token_id` to `eos_token_id`:2 for open-end generation.\n"
          ]
        },
        {
          "name": "stdout",
          "output_type": "stream",
          "text": [
            "FAISS Initialised: Indexed 142 chunks.\n",
            "\n",
            "Low confidence detected based on FAISS score.\n",
            "FAISS Initialised: Indexed 142 chunks.\n"
          ]
        },
        {
          "name": "stderr",
          "output_type": "stream",
          "text": [
            "Evaluating test examples:   5%|▌         | 26/500 [00:54<14:29,  1.84s/it]"
          ]
        },
        {
          "name": "stdout",
          "output_type": "stream",
          "text": [
            "FAISS Initialised: Indexed 142 chunks.\n",
            "\n",
            "Low confidence detected based on FAISS score.\n",
            "FAISS Initialised: Indexed 142 chunks.\n",
            "\n",
            "Low confidence detected based on FAISS score.\n",
            "FAISS Initialised: Indexed 142 chunks.\n",
            "\n",
            "Low confidence detected based on FAISS score.\n"
          ]
        },
        {
          "name": "stderr",
          "output_type": "stream",
          "text": [
            "Setting `pad_token_id` to `eos_token_id`:2 for open-end generation.\n"
          ]
        },
        {
          "name": "stdout",
          "output_type": "stream",
          "text": [
            "FAISS Initialised: Indexed 142 chunks.\n"
          ]
        },
        {
          "name": "stderr",
          "output_type": "stream",
          "text": [
            "Evaluating test examples:   6%|▌         | 30/500 [00:57<09:40,  1.24s/it]Setting `pad_token_id` to `eos_token_id`:2 for open-end generation.\n"
          ]
        },
        {
          "name": "stdout",
          "output_type": "stream",
          "text": [
            "FAISS Initialised: Indexed 142 chunks.\n",
            "\n",
            "Low confidence detected based on FAISS score.\n",
            "FAISS Initialised: Indexed 142 chunks.\n",
            "\n",
            "Low confidence detected based on FAISS score.\n",
            "FAISS Initialised: Indexed 142 chunks.\n"
          ]
        },
        {
          "name": "stderr",
          "output_type": "stream",
          "text": [
            "Evaluating test examples:   7%|▋         | 33/500 [01:01<09:02,  1.16s/it]"
          ]
        },
        {
          "name": "stdout",
          "output_type": "stream",
          "text": [
            "FAISS Initialised: Indexed 142 chunks.\n",
            "\n",
            "Low confidence detected based on FAISS score.\n",
            "FAISS Initialised: Indexed 142 chunks.\n",
            "\n",
            "Low confidence detected based on FAISS score.\n",
            "FAISS Initialised: Indexed 142 chunks.\n",
            "\n",
            "Low confidence detected based on FAISS score.\n"
          ]
        },
        {
          "name": "stderr",
          "output_type": "stream",
          "text": [
            "Evaluating test examples:   7%|▋         | 37/500 [01:02<04:22,  1.76it/s]"
          ]
        },
        {
          "name": "stdout",
          "output_type": "stream",
          "text": [
            "FAISS Initialised: Indexed 142 chunks.\n",
            "\n",
            "Low confidence detected based on FAISS score.\n",
            "FAISS Initialised: Indexed 142 chunks.\n",
            "\n",
            "Low confidence detected based on FAISS score.\n",
            "FAISS Initialised: Indexed 142 chunks.\n",
            "\n",
            "Low confidence detected based on FAISS score.\n"
          ]
        },
        {
          "name": "stderr",
          "output_type": "stream",
          "text": [
            "\rEvaluating test examples:   8%|▊         | 39/500 [01:02<03:10,  2.42it/s]Setting `pad_token_id` to `eos_token_id`:2 for open-end generation.\n"
          ]
        },
        {
          "name": "stdout",
          "output_type": "stream",
          "text": [
            "FAISS Initialised: Indexed 142 chunks.\n",
            "\n",
            "Low confidence detected based on FAISS score.\n",
            "FAISS Initialised: Indexed 142 chunks.\n",
            "\n",
            "Low confidence detected based on FAISS score.\n",
            "FAISS Initialised: Indexed 142 chunks.\n"
          ]
        },
        {
          "name": "stderr",
          "output_type": "stream",
          "text": [
            "Setting `pad_token_id` to `eos_token_id`:2 for open-end generation.\n"
          ]
        },
        {
          "name": "stdout",
          "output_type": "stream",
          "text": [
            "FAISS Initialised: Indexed 142 chunks.\n"
          ]
        },
        {
          "name": "stderr",
          "output_type": "stream",
          "text": [
            "\rEvaluating test examples:   8%|▊         | 41/500 [01:10<12:08,  1.59s/it]Setting `pad_token_id` to `eos_token_id`:2 for open-end generation.\n"
          ]
        },
        {
          "name": "stdout",
          "output_type": "stream",
          "text": [
            "FAISS Initialised: Indexed 142 chunks.\n"
          ]
        },
        {
          "name": "stderr",
          "output_type": "stream",
          "text": [
            "\rEvaluating test examples:   8%|▊         | 42/500 [01:14<15:29,  2.03s/it]Setting `pad_token_id` to `eos_token_id`:2 for open-end generation.\n"
          ]
        },
        {
          "name": "stdout",
          "output_type": "stream",
          "text": [
            "FAISS Initialised: Indexed 142 chunks.\n"
          ]
        },
        {
          "name": "stderr",
          "output_type": "stream",
          "text": [
            "\rEvaluating test examples:   9%|▊         | 43/500 [01:18<18:34,  2.44s/it]Setting `pad_token_id` to `eos_token_id`:2 for open-end generation.\n"
          ]
        },
        {
          "name": "stdout",
          "output_type": "stream",
          "text": [
            "FAISS Initialised: Indexed 142 chunks.\n"
          ]
        },
        {
          "name": "stderr",
          "output_type": "stream",
          "text": [
            "\rEvaluating test examples:   9%|▉         | 44/500 [01:22<20:18,  2.67s/it]Setting `pad_token_id` to `eos_token_id`:2 for open-end generation.\n"
          ]
        },
        {
          "name": "stdout",
          "output_type": "stream",
          "text": [
            "FAISS Initialised: Indexed 142 chunks.\n"
          ]
        },
        {
          "name": "stderr",
          "output_type": "stream",
          "text": [
            "\rEvaluating test examples:   9%|▉         | 45/500 [01:24<20:00,  2.64s/it]Setting `pad_token_id` to `eos_token_id`:2 for open-end generation.\n"
          ]
        },
        {
          "name": "stdout",
          "output_type": "stream",
          "text": [
            "FAISS Initialised: Indexed 142 chunks.\n"
          ]
        },
        {
          "name": "stderr",
          "output_type": "stream",
          "text": [
            "Evaluating test examples:  10%|▉         | 48/500 [01:33<19:02,  2.53s/it]"
          ]
        },
        {
          "name": "stdout",
          "output_type": "stream",
          "text": [
            "FAISS Initialised: Indexed 142 chunks.\n",
            "\n",
            "Low confidence detected based on FAISS score.\n",
            "FAISS Initialised: Indexed 142 chunks.\n",
            "\n",
            "Low confidence detected based on FAISS score.\n",
            "FAISS Initialised: Indexed 142 chunks.\n",
            "\n",
            "Low confidence detected based on FAISS score.\n"
          ]
        },
        {
          "name": "stderr",
          "output_type": "stream",
          "text": [
            "Setting `pad_token_id` to `eos_token_id`:2 for open-end generation.\n"
          ]
        },
        {
          "name": "stdout",
          "output_type": "stream",
          "text": [
            "FAISS Initialised: Indexed 142 chunks.\n"
          ]
        },
        {
          "name": "stderr",
          "output_type": "stream",
          "text": [
            "\rEvaluating test examples:  10%|█         | 50/500 [01:37<16:30,  2.20s/it]Setting `pad_token_id` to `eos_token_id`:2 for open-end generation.\n"
          ]
        },
        {
          "name": "stdout",
          "output_type": "stream",
          "text": [
            "FAISS Initialised: Indexed 142 chunks.\n"
          ]
        },
        {
          "name": "stderr",
          "output_type": "stream",
          "text": [
            "\rEvaluating test examples:  10%|█         | 51/500 [01:40<18:07,  2.42s/it]Setting `pad_token_id` to `eos_token_id`:2 for open-end generation.\n"
          ]
        },
        {
          "name": "stdout",
          "output_type": "stream",
          "text": [
            "FAISS Initialised: Indexed 142 chunks.\n"
          ]
        },
        {
          "name": "stderr",
          "output_type": "stream",
          "text": [
            "\rEvaluating test examples:  10%|█         | 52/500 [01:43<19:32,  2.62s/it]Setting `pad_token_id` to `eos_token_id`:2 for open-end generation.\n"
          ]
        },
        {
          "name": "stdout",
          "output_type": "stream",
          "text": [
            "FAISS Initialised: Indexed 142 chunks.\n"
          ]
        },
        {
          "name": "stderr",
          "output_type": "stream",
          "text": [
            "\rEvaluating test examples:  11%|█         | 53/500 [01:47<20:43,  2.78s/it]Setting `pad_token_id` to `eos_token_id`:2 for open-end generation.\n"
          ]
        },
        {
          "name": "stdout",
          "output_type": "stream",
          "text": [
            "FAISS Initialised: Indexed 142 chunks.\n",
            "\n",
            "Low confidence detected based on FAISS score.\n",
            "FAISS Initialised: Indexed 142 chunks.\n"
          ]
        },
        {
          "name": "stderr",
          "output_type": "stream",
          "text": [
            "Evaluating test examples:  11%|█▏        | 57/500 [01:51<11:33,  1.57s/it]Setting `pad_token_id` to `eos_token_id`:2 for open-end generation.\n"
          ]
        },
        {
          "name": "stdout",
          "output_type": "stream",
          "text": [
            "FAISS Initialised: Indexed 142 chunks.\n",
            "\n",
            "Low confidence detected based on FAISS score.\n",
            "FAISS Initialised: Indexed 142 chunks.\n",
            "\n",
            "Low confidence detected based on FAISS score.\n",
            "FAISS Initialised: Indexed 142 chunks.\n"
          ]
        },
        {
          "name": "stderr",
          "output_type": "stream",
          "text": [
            "\rEvaluating test examples:  12%|█▏        | 58/500 [01:54<14:55,  2.03s/it]Setting `pad_token_id` to `eos_token_id`:2 for open-end generation.\n"
          ]
        },
        {
          "name": "stdout",
          "output_type": "stream",
          "text": [
            "FAISS Initialised: Indexed 142 chunks.\n"
          ]
        },
        {
          "name": "stderr",
          "output_type": "stream",
          "text": [
            "\rEvaluating test examples:  12%|█▏        | 59/500 [01:58<17:49,  2.43s/it]Setting `pad_token_id` to `eos_token_id`:2 for open-end generation.\n"
          ]
        },
        {
          "name": "stdout",
          "output_type": "stream",
          "text": [
            "FAISS Initialised: Indexed 142 chunks.\n"
          ]
        },
        {
          "name": "stderr",
          "output_type": "stream",
          "text": [
            "\rEvaluating test examples:  12%|█▏        | 60/500 [02:02<20:12,  2.76s/it]Setting `pad_token_id` to `eos_token_id`:2 for open-end generation.\n"
          ]
        },
        {
          "name": "stdout",
          "output_type": "stream",
          "text": [
            "FAISS Initialised: Indexed 142 chunks.\n"
          ]
        },
        {
          "name": "stderr",
          "output_type": "stream",
          "text": [
            "\rEvaluating test examples:  12%|█▏        | 61/500 [02:06<22:11,  3.03s/it]Setting `pad_token_id` to `eos_token_id`:2 for open-end generation.\n"
          ]
        },
        {
          "name": "stdout",
          "output_type": "stream",
          "text": [
            "FAISS Initialised: Indexed 142 chunks.\n"
          ]
        },
        {
          "name": "stderr",
          "output_type": "stream",
          "text": [
            "\rEvaluating test examples:  12%|█▏        | 62/500 [02:10<23:36,  3.23s/it]Setting `pad_token_id` to `eos_token_id`:2 for open-end generation.\n"
          ]
        },
        {
          "name": "stdout",
          "output_type": "stream",
          "text": [
            "FAISS Initialised: Indexed 142 chunks.\n"
          ]
        },
        {
          "name": "stderr",
          "output_type": "stream",
          "text": [
            "\rEvaluating test examples:  13%|█▎        | 63/500 [02:13<24:45,  3.40s/it]Setting `pad_token_id` to `eos_token_id`:2 for open-end generation.\n"
          ]
        },
        {
          "name": "stdout",
          "output_type": "stream",
          "text": [
            "FAISS Initialised: Indexed 142 chunks.\n"
          ]
        },
        {
          "name": "stderr",
          "output_type": "stream",
          "text": [
            "\rEvaluating test examples:  13%|█▎        | 64/500 [02:17<25:28,  3.51s/it]Setting `pad_token_id` to `eos_token_id`:2 for open-end generation.\n"
          ]
        },
        {
          "name": "stdout",
          "output_type": "stream",
          "text": [
            "FAISS Initialised: Indexed 142 chunks.\n"
          ]
        },
        {
          "name": "stderr",
          "output_type": "stream",
          "text": [
            "\rEvaluating test examples:  13%|█▎        | 65/500 [02:21<25:54,  3.57s/it]Setting `pad_token_id` to `eos_token_id`:2 for open-end generation.\n"
          ]
        },
        {
          "name": "stdout",
          "output_type": "stream",
          "text": [
            "FAISS Initialised: Indexed 142 chunks.\n",
            "\n",
            "Low confidence detected based on FAISS score.\n",
            "FAISS Initialised: Indexed 142 chunks.\n"
          ]
        },
        {
          "name": "stderr",
          "output_type": "stream",
          "text": [
            "Evaluating test examples:  14%|█▍        | 69/500 [02:26<14:01,  1.95s/it]"
          ]
        },
        {
          "name": "stdout",
          "output_type": "stream",
          "text": [
            "FAISS Initialised: Indexed 142 chunks.\n",
            "\n",
            "Low confidence detected based on FAISS score.\n",
            "FAISS Initialised: Indexed 184 chunks.\n",
            "\n",
            "Low confidence detected based on FAISS score.\n"
          ]
        },
        {
          "name": "stderr",
          "output_type": "stream",
          "text": [
            "Setting `pad_token_id` to `eos_token_id`:2 for open-end generation.\n"
          ]
        },
        {
          "name": "stdout",
          "output_type": "stream",
          "text": [
            "FAISS Initialised: Indexed 184 chunks.\n"
          ]
        },
        {
          "name": "stderr",
          "output_type": "stream",
          "text": [
            "\rEvaluating test examples:  14%|█▍        | 70/500 [02:29<15:22,  2.15s/it]Setting `pad_token_id` to `eos_token_id`:2 for open-end generation.\n"
          ]
        },
        {
          "name": "stdout",
          "output_type": "stream",
          "text": [
            "FAISS Initialised: Indexed 184 chunks.\n"
          ]
        },
        {
          "name": "stderr",
          "output_type": "stream",
          "text": [
            "\rEvaluating test examples:  14%|█▍        | 71/500 [02:32<16:28,  2.30s/it]Setting `pad_token_id` to `eos_token_id`:2 for open-end generation.\n"
          ]
        },
        {
          "name": "stdout",
          "output_type": "stream",
          "text": [
            "FAISS Initialised: Indexed 184 chunks.\n"
          ]
        },
        {
          "name": "stderr",
          "output_type": "stream",
          "text": [
            "\rEvaluating test examples:  14%|█▍        | 72/500 [02:35<17:19,  2.43s/it]Setting `pad_token_id` to `eos_token_id`:2 for open-end generation.\n"
          ]
        },
        {
          "name": "stdout",
          "output_type": "stream",
          "text": [
            "FAISS Initialised: Indexed 184 chunks.\n"
          ]
        },
        {
          "name": "stderr",
          "output_type": "stream",
          "text": [
            "Evaluating test examples:  15%|█▍        | 74/500 [02:38<13:17,  1.87s/it]Setting `pad_token_id` to `eos_token_id`:2 for open-end generation.\n"
          ]
        },
        {
          "name": "stdout",
          "output_type": "stream",
          "text": [
            "FAISS Initialised: Indexed 184 chunks.\n",
            "\n",
            "Low confidence detected based on FAISS score.\n",
            "FAISS Initialised: Indexed 184 chunks.\n"
          ]
        },
        {
          "name": "stderr",
          "output_type": "stream",
          "text": [
            "Evaluating test examples:  15%|█▌        | 77/500 [02:43<09:50,  1.40s/it]"
          ]
        },
        {
          "name": "stdout",
          "output_type": "stream",
          "text": [
            "FAISS Initialised: Indexed 184 chunks.\n",
            "\n",
            "Low confidence detected based on FAISS score.\n",
            "FAISS Initialised: Indexed 184 chunks.\n",
            "\n",
            "Low confidence detected based on FAISS score.\n"
          ]
        },
        {
          "name": "stderr",
          "output_type": "stream",
          "text": [
            "\rEvaluating test examples:  16%|█▌        | 78/500 [02:43<07:14,  1.03s/it]Setting `pad_token_id` to `eos_token_id`:2 for open-end generation.\n"
          ]
        },
        {
          "name": "stdout",
          "output_type": "stream",
          "text": [
            "FAISS Initialised: Indexed 184 chunks.\n",
            "\n",
            "Low confidence detected based on FAISS score.\n",
            "FAISS Initialised: Indexed 184 chunks.\n"
          ]
        },
        {
          "name": "stderr",
          "output_type": "stream",
          "text": [
            "Evaluating test examples:  16%|█▌        | 81/500 [02:45<05:31,  1.26it/s]"
          ]
        },
        {
          "name": "stdout",
          "output_type": "stream",
          "text": [
            "FAISS Initialised: Indexed 184 chunks.\n",
            "\n",
            "Low confidence detected based on FAISS score.\n",
            "FAISS Initialised: Indexed 184 chunks.\n",
            "\n",
            "Low confidence detected based on FAISS score.\n"
          ]
        },
        {
          "name": "stderr",
          "output_type": "stream",
          "text": [
            "\rEvaluating test examples:  16%|█▋        | 82/500 [02:46<04:11,  1.66it/s]Setting `pad_token_id` to `eos_token_id`:2 for open-end generation.\n"
          ]
        },
        {
          "name": "stdout",
          "output_type": "stream",
          "text": [
            "FAISS Initialised: Indexed 184 chunks.\n",
            "\n",
            "Low confidence detected based on FAISS score.\n",
            "FAISS Initialised: Indexed 184 chunks.\n"
          ]
        },
        {
          "name": "stderr",
          "output_type": "stream",
          "text": [
            "Evaluating test examples:  17%|█▋        | 84/500 [02:50<09:00,  1.30s/it]Setting `pad_token_id` to `eos_token_id`:2 for open-end generation.\n"
          ]
        },
        {
          "name": "stdout",
          "output_type": "stream",
          "text": [
            "FAISS Initialised: Indexed 184 chunks.\n",
            "\n",
            "Low confidence detected based on FAISS score.\n",
            "FAISS Initialised: Indexed 184 chunks.\n"
          ]
        },
        {
          "name": "stderr",
          "output_type": "stream",
          "text": [
            "Evaluating test examples:  17%|█▋        | 87/500 [02:54<06:54,  1.00s/it]"
          ]
        },
        {
          "name": "stdout",
          "output_type": "stream",
          "text": [
            "FAISS Initialised: Indexed 184 chunks.\n",
            "\n",
            "Low confidence detected based on FAISS score.\n",
            "FAISS Initialised: Indexed 184 chunks.\n",
            "\n",
            "Low confidence detected based on FAISS score.\n"
          ]
        },
        {
          "name": "stderr",
          "output_type": "stream",
          "text": [
            "Setting `pad_token_id` to `eos_token_id`:2 for open-end generation.\n"
          ]
        },
        {
          "name": "stdout",
          "output_type": "stream",
          "text": [
            "FAISS Initialised: Indexed 184 chunks.\n"
          ]
        },
        {
          "name": "stderr",
          "output_type": "stream",
          "text": [
            "Evaluating test examples:  18%|█▊        | 89/500 [03:01<13:17,  1.94s/it]Setting `pad_token_id` to `eos_token_id`:2 for open-end generation.\n"
          ]
        },
        {
          "name": "stdout",
          "output_type": "stream",
          "text": [
            "FAISS Initialised: Indexed 184 chunks.\n",
            "\n",
            "Low confidence detected based on FAISS score.\n",
            "FAISS Initialised: Indexed 184 chunks.\n"
          ]
        },
        {
          "name": "stderr",
          "output_type": "stream",
          "text": [
            "\rEvaluating test examples:  18%|█▊        | 90/500 [03:05<17:51,  2.61s/it]Setting `pad_token_id` to `eos_token_id`:2 for open-end generation.\n"
          ]
        },
        {
          "name": "stdout",
          "output_type": "stream",
          "text": [
            "FAISS Initialised: Indexed 184 chunks.\n"
          ]
        },
        {
          "name": "stderr",
          "output_type": "stream",
          "text": [
            "\rEvaluating test examples:  18%|█▊        | 91/500 [03:09<20:58,  3.08s/it]Setting `pad_token_id` to `eos_token_id`:2 for open-end generation.\n"
          ]
        },
        {
          "name": "stdout",
          "output_type": "stream",
          "text": [
            "FAISS Initialised: Indexed 184 chunks.\n"
          ]
        },
        {
          "name": "stderr",
          "output_type": "stream",
          "text": [
            "\rEvaluating test examples:  18%|█▊        | 92/500 [03:13<23:09,  3.41s/it]Setting `pad_token_id` to `eos_token_id`:2 for open-end generation.\n"
          ]
        },
        {
          "name": "stdout",
          "output_type": "stream",
          "text": [
            "FAISS Initialised: Indexed 184 chunks.\n"
          ]
        },
        {
          "name": "stderr",
          "output_type": "stream",
          "text": [
            "Evaluating test examples:  19%|█▉        | 94/500 [03:18<17:34,  2.60s/it]Setting `pad_token_id` to `eos_token_id`:2 for open-end generation.\n"
          ]
        },
        {
          "name": "stdout",
          "output_type": "stream",
          "text": [
            "FAISS Initialised: Indexed 184 chunks.\n",
            "\n",
            "Low confidence detected based on FAISS score.\n",
            "FAISS Initialised: Indexed 184 chunks.\n"
          ]
        },
        {
          "name": "stderr",
          "output_type": "stream",
          "text": [
            "\rEvaluating test examples:  19%|█▉        | 95/500 [03:22<20:17,  3.01s/it]Setting `pad_token_id` to `eos_token_id`:2 for open-end generation.\n"
          ]
        },
        {
          "name": "stdout",
          "output_type": "stream",
          "text": [
            "FAISS Initialised: Indexed 184 chunks.\n"
          ]
        },
        {
          "name": "stderr",
          "output_type": "stream",
          "text": [
            "Evaluating test examples:  20%|█▉        | 98/500 [03:29<14:02,  2.10s/it]"
          ]
        },
        {
          "name": "stdout",
          "output_type": "stream",
          "text": [
            "FAISS Initialised: Indexed 184 chunks.\n",
            "\n",
            "Low confidence detected based on FAISS score.\n",
            "FAISS Initialised: Indexed 184 chunks.\n",
            "\n",
            "Low confidence detected based on FAISS score.\n"
          ]
        },
        {
          "name": "stderr",
          "output_type": "stream",
          "text": [
            "Setting `pad_token_id` to `eos_token_id`:2 for open-end generation.\n"
          ]
        },
        {
          "name": "stdout",
          "output_type": "stream",
          "text": [
            "FAISS Initialised: Indexed 184 chunks.\n"
          ]
        },
        {
          "name": "stderr",
          "output_type": "stream",
          "text": [
            "\rEvaluating test examples:  20%|█▉        | 99/500 [03:33<19:07,  2.86s/it]Setting `pad_token_id` to `eos_token_id`:2 for open-end generation.\n"
          ]
        },
        {
          "name": "stdout",
          "output_type": "stream",
          "text": [
            "FAISS Initialised: Indexed 184 chunks.\n"
          ]
        },
        {
          "name": "stderr",
          "output_type": "stream",
          "text": [
            "\rEvaluating test examples:  20%|██        | 100/500 [03:37<20:29,  3.07s/it]Setting `pad_token_id` to `eos_token_id`:2 for open-end generation.\n"
          ]
        },
        {
          "name": "stdout",
          "output_type": "stream",
          "text": [
            "FAISS Initialised: Indexed 184 chunks.\n"
          ]
        },
        {
          "name": "stderr",
          "output_type": "stream",
          "text": [
            "\rEvaluating test examples:  20%|██        | 101/500 [03:40<20:23,  3.07s/it]Setting `pad_token_id` to `eos_token_id`:2 for open-end generation.\n"
          ]
        },
        {
          "name": "stdout",
          "output_type": "stream",
          "text": [
            "FAISS Initialised: Indexed 184 chunks.\n"
          ]
        },
        {
          "name": "stderr",
          "output_type": "stream",
          "text": [
            "\rEvaluating test examples:  20%|██        | 102/500 [03:43<20:14,  3.05s/it]Setting `pad_token_id` to `eos_token_id`:2 for open-end generation.\n"
          ]
        },
        {
          "name": "stdout",
          "output_type": "stream",
          "text": [
            "FAISS Initialised: Indexed 184 chunks.\n"
          ]
        },
        {
          "name": "stderr",
          "output_type": "stream",
          "text": [
            "\rEvaluating test examples:  21%|██        | 103/500 [03:47<21:59,  3.32s/it]Setting `pad_token_id` to `eos_token_id`:2 for open-end generation.\n"
          ]
        },
        {
          "name": "stdout",
          "output_type": "stream",
          "text": [
            "FAISS Initialised: Indexed 184 chunks.\n"
          ]
        },
        {
          "name": "stderr",
          "output_type": "stream",
          "text": [
            "\rEvaluating test examples:  21%|██        | 104/500 [03:51<23:12,  3.52s/it]Setting `pad_token_id` to `eos_token_id`:2 for open-end generation.\n"
          ]
        },
        {
          "name": "stdout",
          "output_type": "stream",
          "text": [
            "FAISS Initialised: Indexed 184 chunks.\n"
          ]
        },
        {
          "name": "stderr",
          "output_type": "stream",
          "text": [
            "Evaluating test examples:  21%|██▏       | 107/500 [03:55<12:17,  1.88s/it]"
          ]
        },
        {
          "name": "stdout",
          "output_type": "stream",
          "text": [
            "FAISS Initialised: Indexed 184 chunks.\n",
            "\n",
            "Low confidence detected based on FAISS score.\n",
            "FAISS Initialised: Indexed 184 chunks.\n",
            "\n",
            "Low confidence detected based on FAISS score.\n"
          ]
        },
        {
          "name": "stderr",
          "output_type": "stream",
          "text": [
            "\rEvaluating test examples:  22%|██▏       | 108/500 [03:55<08:52,  1.36s/it]Setting `pad_token_id` to `eos_token_id`:2 for open-end generation.\n"
          ]
        },
        {
          "name": "stdout",
          "output_type": "stream",
          "text": [
            "FAISS Initialised: Indexed 184 chunks.\n",
            "\n",
            "Low confidence detected based on FAISS score.\n",
            "FAISS Initialised: Indexed 184 chunks.\n"
          ]
        },
        {
          "name": "stderr",
          "output_type": "stream",
          "text": [
            "Evaluating test examples:  22%|██▏       | 110/500 [04:03<15:08,  2.33s/it]Setting `pad_token_id` to `eos_token_id`:2 for open-end generation.\n"
          ]
        },
        {
          "name": "stdout",
          "output_type": "stream",
          "text": [
            "FAISS Initialised: Indexed 184 chunks.\n",
            "\n",
            "Low confidence detected based on FAISS score.\n",
            "FAISS Initialised: Indexed 184 chunks.\n"
          ]
        },
        {
          "name": "stderr",
          "output_type": "stream",
          "text": [
            "\rEvaluating test examples:  22%|██▏       | 111/500 [04:08<20:01,  3.09s/it]Setting `pad_token_id` to `eos_token_id`:2 for open-end generation.\n"
          ]
        },
        {
          "name": "stdout",
          "output_type": "stream",
          "text": [
            "FAISS Initialised: Indexed 184 chunks.\n"
          ]
        },
        {
          "name": "stderr",
          "output_type": "stream",
          "text": [
            "\rEvaluating test examples:  22%|██▏       | 112/500 [04:13<23:17,  3.60s/it]Setting `pad_token_id` to `eos_token_id`:2 for open-end generation.\n"
          ]
        },
        {
          "name": "stdout",
          "output_type": "stream",
          "text": [
            "FAISS Initialised: Indexed 184 chunks.\n"
          ]
        },
        {
          "name": "stderr",
          "output_type": "stream",
          "text": [
            "\rEvaluating test examples:  23%|██▎       | 113/500 [04:18<25:33,  3.96s/it]Setting `pad_token_id` to `eos_token_id`:2 for open-end generation.\n"
          ]
        },
        {
          "name": "stdout",
          "output_type": "stream",
          "text": [
            "FAISS Initialised: Indexed 184 chunks.\n"
          ]
        },
        {
          "name": "stderr",
          "output_type": "stream",
          "text": [
            "\rEvaluating test examples:  23%|██▎       | 114/500 [04:22<27:05,  4.21s/it]Setting `pad_token_id` to `eos_token_id`:2 for open-end generation.\n"
          ]
        },
        {
          "name": "stdout",
          "output_type": "stream",
          "text": [
            "FAISS Initialised: Indexed 184 chunks.\n"
          ]
        },
        {
          "name": "stderr",
          "output_type": "stream",
          "text": [
            "\rEvaluating test examples:  23%|██▎       | 115/500 [04:27<28:12,  4.40s/it]Setting `pad_token_id` to `eos_token_id`:2 for open-end generation.\n"
          ]
        },
        {
          "name": "stdout",
          "output_type": "stream",
          "text": [
            "FAISS Initialised: Indexed 184 chunks.\n"
          ]
        },
        {
          "name": "stderr",
          "output_type": "stream",
          "text": [
            "\rEvaluating test examples:  23%|██▎       | 116/500 [04:32<28:26,  4.44s/it]Setting `pad_token_id` to `eos_token_id`:2 for open-end generation.\n"
          ]
        },
        {
          "name": "stdout",
          "output_type": "stream",
          "text": [
            "FAISS Initialised: Indexed 184 chunks.\n"
          ]
        },
        {
          "name": "stderr",
          "output_type": "stream",
          "text": [
            "\rEvaluating test examples:  23%|██▎       | 117/500 [04:36<28:29,  4.46s/it]Setting `pad_token_id` to `eos_token_id`:2 for open-end generation.\n"
          ]
        },
        {
          "name": "stdout",
          "output_type": "stream",
          "text": [
            "FAISS Initialised: Indexed 184 chunks.\n"
          ]
        },
        {
          "name": "stderr",
          "output_type": "stream",
          "text": [
            "\rEvaluating test examples:  24%|██▎       | 118/500 [04:41<28:29,  4.48s/it]Setting `pad_token_id` to `eos_token_id`:2 for open-end generation.\n"
          ]
        },
        {
          "name": "stdout",
          "output_type": "stream",
          "text": [
            "FAISS Initialised: Indexed 184 chunks.\n"
          ]
        },
        {
          "name": "stderr",
          "output_type": "stream",
          "text": [
            "Evaluating test examples:  24%|██▍       | 121/500 [04:46<14:22,  2.27s/it]"
          ]
        },
        {
          "name": "stdout",
          "output_type": "stream",
          "text": [
            "FAISS Initialised: Indexed 184 chunks.\n",
            "\n",
            "Low confidence detected based on FAISS score.\n",
            "FAISS Initialised: Indexed 184 chunks.\n",
            "\n",
            "Low confidence detected based on FAISS score.\n"
          ]
        },
        {
          "name": "stderr",
          "output_type": "stream",
          "text": [
            "\rEvaluating test examples:  24%|██▍       | 122/500 [04:46<10:18,  1.64s/it]Setting `pad_token_id` to `eos_token_id`:2 for open-end generation.\n"
          ]
        },
        {
          "name": "stdout",
          "output_type": "stream",
          "text": [
            "FAISS Initialised: Indexed 184 chunks.\n",
            "\n",
            "Low confidence detected based on FAISS score.\n",
            "FAISS Initialised: Indexed 184 chunks.\n"
          ]
        },
        {
          "name": "stderr",
          "output_type": "stream",
          "text": [
            "\rEvaluating test examples:  25%|██▍       | 123/500 [04:55<23:36,  3.76s/it]Setting `pad_token_id` to `eos_token_id`:2 for open-end generation.\n"
          ]
        },
        {
          "name": "stdout",
          "output_type": "stream",
          "text": [
            "FAISS Initialised: Indexed 184 chunks.\n"
          ]
        },
        {
          "name": "stderr",
          "output_type": "stream",
          "text": [
            "Evaluating test examples:  26%|██▌       | 131/500 [04:59<05:58,  1.03it/s]"
          ]
        },
        {
          "name": "stdout",
          "output_type": "stream",
          "text": [
            "FAISS Initialised: Indexed 3 chunks.\n",
            "\n",
            "Low confidence detected based on FAISS score.\n",
            "FAISS Initialised: Indexed 3 chunks.\n",
            "\n",
            "Low confidence detected based on FAISS score.\n",
            "FAISS Initialised: Indexed 3 chunks.\n",
            "\n",
            "Low confidence detected based on FAISS score.\n",
            "FAISS Initialised: Indexed 3 chunks.\n",
            "\n",
            "Low confidence detected based on FAISS score.\n",
            "FAISS Initialised: Indexed 3 chunks.\n",
            "\n",
            "Low confidence detected based on FAISS score.\n",
            "FAISS Initialised: Indexed 3 chunks.\n",
            "\n",
            "Low confidence detected based on FAISS score.\n",
            "FAISS Initialised: Indexed 3 chunks.\n",
            "\n",
            "Low confidence detected based on FAISS score.\n",
            "FAISS Initialised: Indexed 3 chunks.\n",
            "\n",
            "Low confidence detected based on FAISS score.\n",
            "FAISS Initialised: Indexed 3 chunks.\n",
            "\n",
            "Low confidence detected based on FAISS score.\n",
            "FAISS Initialised: Indexed 3 chunks.\n",
            "\n",
            "Low confidence detected based on FAISS score.\n",
            "FAISS Initialised: Indexed 3 chunks.\n",
            "\n",
            "Low confidence detected based on FAISS score.\n",
            "FAISS Initialised: Indexed 3 chunks.\n",
            "\n",
            "Low confidence detected based on FAISS score.\n",
            "FAISS Initialised: Indexed 3 chunks.\n",
            "\n",
            "Low confidence detected based on FAISS score.\n"
          ]
        },
        {
          "name": "stderr",
          "output_type": "stream",
          "text": [
            "Evaluating test examples:  29%|██▉       | 145/500 [04:59<01:39,  3.56it/s]"
          ]
        },
        {
          "name": "stdout",
          "output_type": "stream",
          "text": [
            "FAISS Initialised: Indexed 3 chunks.\n",
            "\n",
            "Low confidence detected based on FAISS score.\n",
            "FAISS Initialised: Indexed 3 chunks.\n",
            "\n",
            "Low confidence detected based on FAISS score.\n",
            "FAISS Initialised: Indexed 3 chunks.\n",
            "\n",
            "Low confidence detected based on FAISS score.\n",
            "FAISS Initialised: Indexed 3 chunks.\n",
            "\n",
            "Low confidence detected based on FAISS score.\n",
            "FAISS Initialised: Indexed 3 chunks.\n",
            "\n",
            "Low confidence detected based on FAISS score.\n",
            "FAISS Initialised: Indexed 3 chunks.\n",
            "\n",
            "Low confidence detected based on FAISS score.\n",
            "FAISS Initialised: Indexed 3 chunks.\n",
            "\n",
            "Low confidence detected based on FAISS score.\n",
            "FAISS Initialised: Indexed 3 chunks.\n",
            "\n",
            "Low confidence detected based on FAISS score.\n",
            "FAISS Initialised: Indexed 3 chunks.\n",
            "\n",
            "Low confidence detected based on FAISS score.\n",
            "FAISS Initialised: Indexed 3 chunks.\n",
            "\n",
            "Low confidence detected based on FAISS score.\n",
            "FAISS Initialised: Indexed 3 chunks.\n",
            "\n",
            "Low confidence detected based on FAISS score.\n",
            "FAISS Initialised: Indexed 3 chunks.\n",
            "\n",
            "Low confidence detected based on FAISS score.\n",
            "FAISS Initialised: Indexed 3 chunks.\n",
            "\n",
            "Low confidence detected based on FAISS score.\n",
            "FAISS Initialised: Indexed 3 chunks.\n"
          ]
        },
        {
          "name": "stderr",
          "output_type": "stream",
          "text": [
            "Evaluating test examples:  32%|███▏      | 159/500 [04:59<00:41,  8.14it/s]"
          ]
        },
        {
          "name": "stdout",
          "output_type": "stream",
          "text": [
            "\n",
            "Low confidence detected based on FAISS score.\n",
            "FAISS Initialised: Indexed 3 chunks.\n",
            "\n",
            "Low confidence detected based on FAISS score.\n",
            "FAISS Initialised: Indexed 3 chunks.\n",
            "\n",
            "Low confidence detected based on FAISS score.\n",
            "FAISS Initialised: Indexed 3 chunks.\n",
            "\n",
            "Low confidence detected based on FAISS score.\n",
            "FAISS Initialised: Indexed 3 chunks.\n",
            "\n",
            "Low confidence detected based on FAISS score.\n",
            "FAISS Initialised: Indexed 3 chunks.\n",
            "\n",
            "Low confidence detected based on FAISS score.\n",
            "FAISS Initialised: Indexed 3 chunks.\n",
            "\n",
            "Low confidence detected based on FAISS score.\n",
            "FAISS Initialised: Indexed 3 chunks.\n",
            "\n",
            "Low confidence detected based on FAISS score.\n",
            "FAISS Initialised: Indexed 3 chunks.\n",
            "\n",
            "Low confidence detected based on FAISS score.\n",
            "FAISS Initialised: Indexed 3 chunks.\n",
            "\n",
            "Low confidence detected based on FAISS score.\n",
            "FAISS Initialised: Indexed 3 chunks.\n",
            "\n",
            "Low confidence detected based on FAISS score.\n",
            "FAISS Initialised: Indexed 3 chunks.\n",
            "\n",
            "Low confidence detected based on FAISS score.\n",
            "FAISS Initialised: Indexed 3 chunks.\n",
            "\n",
            "Low confidence detected based on FAISS score.\n",
            "FAISS Initialised: Indexed 3 chunks.\n",
            "\n",
            "Low confidence detected based on FAISS score.\n"
          ]
        },
        {
          "name": "stderr",
          "output_type": "stream",
          "text": [
            "\rEvaluating test examples:  33%|███▎      | 166/500 [04:59<00:29, 11.50it/s]Setting `pad_token_id` to `eos_token_id`:2 for open-end generation.\n"
          ]
        },
        {
          "name": "stdout",
          "output_type": "stream",
          "text": [
            "FAISS Initialised: Indexed 3 chunks.\n",
            "\n",
            "Low confidence detected based on FAISS score.\n",
            "FAISS Initialised: Indexed 3 chunks.\n",
            "\n",
            "Low confidence detected based on FAISS score.\n",
            "FAISS Initialised: Indexed 65 chunks.\n",
            "\n",
            "Low confidence detected based on FAISS score.\n",
            "FAISS Initialised: Indexed 65 chunks.\n"
          ]
        },
        {
          "name": "stderr",
          "output_type": "stream",
          "text": [
            "Setting `pad_token_id` to `eos_token_id`:2 for open-end generation.\n"
          ]
        },
        {
          "name": "stdout",
          "output_type": "stream",
          "text": [
            "FAISS Initialised: Indexed 65 chunks.\n"
          ]
        },
        {
          "name": "stderr",
          "output_type": "stream",
          "text": [
            "Setting `pad_token_id` to `eos_token_id`:2 for open-end generation.\n"
          ]
        },
        {
          "name": "stdout",
          "output_type": "stream",
          "text": [
            "FAISS Initialised: Indexed 65 chunks.\n"
          ]
        },
        {
          "name": "stderr",
          "output_type": "stream",
          "text": [
            "Evaluating test examples:  34%|███▍      | 170/500 [05:21<06:38,  1.21s/it]Setting `pad_token_id` to `eos_token_id`:2 for open-end generation.\n"
          ]
        },
        {
          "name": "stdout",
          "output_type": "stream",
          "text": [
            "FAISS Initialised: Indexed 65 chunks.\n"
          ]
        },
        {
          "name": "stderr",
          "output_type": "stream",
          "text": [
            "\rEvaluating test examples:  34%|███▍      | 171/500 [05:28<08:54,  1.63s/it]Setting `pad_token_id` to `eos_token_id`:2 for open-end generation.\n"
          ]
        },
        {
          "name": "stdout",
          "output_type": "stream",
          "text": [
            "FAISS Initialised: Indexed 65 chunks.\n"
          ]
        },
        {
          "name": "stderr",
          "output_type": "stream",
          "text": [
            "Setting `pad_token_id` to `eos_token_id`:2 for open-end generation.\n"
          ]
        },
        {
          "name": "stdout",
          "output_type": "stream",
          "text": [
            "FAISS Initialised: Indexed 65 chunks.\n"
          ]
        },
        {
          "name": "stderr",
          "output_type": "stream",
          "text": [
            "Setting `pad_token_id` to `eos_token_id`:2 for open-end generation.\n"
          ]
        },
        {
          "name": "stdout",
          "output_type": "stream",
          "text": [
            "FAISS Initialised: Indexed 65 chunks.\n"
          ]
        },
        {
          "name": "stderr",
          "output_type": "stream",
          "text": [
            "\rEvaluating test examples:  35%|███▌      | 176/500 [05:39<09:50,  1.82s/it]"
          ]
        },
        {
          "name": "stdout",
          "output_type": "stream",
          "text": [
            "FAISS Initialised: Indexed 65 chunks.\n",
            "\n",
            "Low confidence detected based on FAISS score.\n",
            "FAISS Initialised: Indexed 65 chunks.\n",
            "\n",
            "Low confidence detected based on FAISS score.\n",
            "FAISS Initialised: Indexed 65 chunks.\n",
            "\n",
            "Low confidence detected based on FAISS score.\n",
            "FAISS Initialised: Indexed 65 chunks.\n"
          ]
        },
        {
          "name": "stderr",
          "output_type": "stream",
          "text": [
            "\rEvaluating test examples:  36%|███▌      | 178/500 [05:39<08:15,  1.54s/it]Setting `pad_token_id` to `eos_token_id`:2 for open-end generation.\n"
          ]
        },
        {
          "name": "stdout",
          "output_type": "stream",
          "text": [
            "\n",
            "Low confidence detected based on FAISS score.\n",
            "FAISS Initialised: Indexed 65 chunks.\n"
          ]
        },
        {
          "name": "stderr",
          "output_type": "stream",
          "text": [
            "Setting `pad_token_id` to `eos_token_id`:2 for open-end generation.\n"
          ]
        },
        {
          "name": "stdout",
          "output_type": "stream",
          "text": [
            "FAISS Initialised: Indexed 65 chunks.\n"
          ]
        },
        {
          "name": "stderr",
          "output_type": "stream",
          "text": [
            "Setting `pad_token_id` to `eos_token_id`:2 for open-end generation.\n"
          ]
        },
        {
          "name": "stdout",
          "output_type": "stream",
          "text": [
            "FAISS Initialised: Indexed 65 chunks.\n"
          ]
        },
        {
          "name": "stderr",
          "output_type": "stream",
          "text": [
            "Evaluating test examples:  36%|███▌      | 181/500 [05:53<12:26,  2.34s/it]Setting `pad_token_id` to `eos_token_id`:2 for open-end generation.\n"
          ]
        },
        {
          "name": "stdout",
          "output_type": "stream",
          "text": [
            "FAISS Initialised: Indexed 65 chunks.\n"
          ]
        },
        {
          "name": "stderr",
          "output_type": "stream",
          "text": [
            "\rEvaluating test examples:  36%|███▋      | 182/500 [05:58<13:55,  2.63s/it]Setting `pad_token_id` to `eos_token_id`:2 for open-end generation.\n"
          ]
        },
        {
          "name": "stdout",
          "output_type": "stream",
          "text": [
            "FAISS Initialised: Indexed 65 chunks.\n"
          ]
        },
        {
          "name": "stderr",
          "output_type": "stream",
          "text": [
            "\rEvaluating test examples:  37%|███▋      | 185/500 [06:01<11:17,  2.15s/it]"
          ]
        },
        {
          "name": "stdout",
          "output_type": "stream",
          "text": [
            "FAISS Initialised: Indexed 65 chunks.\n",
            "\n",
            "Low confidence detected based on FAISS score.\n",
            "FAISS Initialised: Indexed 65 chunks.\n",
            "\n",
            "Low confidence detected based on FAISS score.\n",
            "FAISS Initialised: Indexed 65 chunks.\n",
            "\n",
            "Low confidence detected based on FAISS score.\n",
            "FAISS Initialised: Indexed 65 chunks.\n"
          ]
        },
        {
          "name": "stderr",
          "output_type": "stream",
          "text": [
            "\rEvaluating test examples:  37%|███▋      | 187/500 [06:01<08:41,  1.67s/it]Setting `pad_token_id` to `eos_token_id`:2 for open-end generation.\n"
          ]
        },
        {
          "name": "stdout",
          "output_type": "stream",
          "text": [
            "\n",
            "Low confidence detected based on FAISS score.\n",
            "FAISS Initialised: Indexed 65 chunks.\n"
          ]
        },
        {
          "name": "stderr",
          "output_type": "stream",
          "text": [
            "\rEvaluating test examples:  38%|███▊      | 189/500 [06:05<08:47,  1.70s/it]Setting `pad_token_id` to `eos_token_id`:2 for open-end generation.\n"
          ]
        },
        {
          "name": "stdout",
          "output_type": "stream",
          "text": [
            "FAISS Initialised: Indexed 65 chunks.\n",
            "\n",
            "Low confidence detected based on FAISS score.\n",
            "FAISS Initialised: Indexed 65 chunks.\n"
          ]
        },
        {
          "name": "stderr",
          "output_type": "stream",
          "text": [
            "\rEvaluating test examples:  38%|███▊      | 191/500 [06:09<09:19,  1.81s/it]Setting `pad_token_id` to `eos_token_id`:2 for open-end generation.\n"
          ]
        },
        {
          "name": "stdout",
          "output_type": "stream",
          "text": [
            "FAISS Initialised: Indexed 65 chunks.\n",
            "\n",
            "Low confidence detected based on FAISS score.\n",
            "FAISS Initialised: Indexed 65 chunks.\n",
            "\n",
            "Low confidence detected based on FAISS score.\n",
            "FAISS Initialised: Indexed 65 chunks.\n"
          ]
        },
        {
          "name": "stderr",
          "output_type": "stream",
          "text": [
            "Evaluating test examples:  39%|███▉      | 195/500 [06:13<06:42,  1.32s/it]"
          ]
        },
        {
          "name": "stdout",
          "output_type": "stream",
          "text": [
            "FAISS Initialised: Indexed 65 chunks.\n",
            "\n",
            "Low confidence detected based on FAISS score.\n",
            "FAISS Initialised: Indexed 65 chunks.\n",
            "\n",
            "Low confidence detected based on FAISS score.\n",
            "FAISS Initialised: Indexed 65 chunks.\n",
            "\n",
            "Low confidence detected based on FAISS score.\n",
            "FAISS Initialised: Indexed 65 chunks.\n"
          ]
        },
        {
          "name": "stderr",
          "output_type": "stream",
          "text": [
            "Evaluating test examples:  40%|███▉      | 199/500 [06:13<03:31,  1.43it/s]"
          ]
        },
        {
          "name": "stdout",
          "output_type": "stream",
          "text": [
            "\n",
            "Low confidence detected based on FAISS score.\n",
            "FAISS Initialised: Indexed 65 chunks.\n",
            "\n",
            "Low confidence detected based on FAISS score.\n",
            "FAISS Initialised: Indexed 65 chunks.\n",
            "\n",
            "Low confidence detected based on FAISS score.\n",
            "FAISS Initialised: Indexed 65 chunks.\n",
            "\n",
            "Low confidence detected based on FAISS score.\n"
          ]
        },
        {
          "name": "stderr",
          "output_type": "stream",
          "text": [
            "\rEvaluating test examples:  40%|████      | 201/500 [06:13<02:34,  1.94it/s]Setting `pad_token_id` to `eos_token_id`:2 for open-end generation.\n"
          ]
        },
        {
          "name": "stdout",
          "output_type": "stream",
          "text": [
            "FAISS Initialised: Indexed 65 chunks.\n",
            "\n",
            "Low confidence detected based on FAISS score.\n",
            "FAISS Initialised: Indexed 65 chunks.\n",
            "\n",
            "Low confidence detected based on FAISS score.\n",
            "FAISS Initialised: Indexed 65 chunks.\n"
          ]
        },
        {
          "name": "stderr",
          "output_type": "stream",
          "text": [
            "\rEvaluating test examples:  41%|████      | 203/500 [06:20<06:28,  1.31s/it]Setting `pad_token_id` to `eos_token_id`:2 for open-end generation.\n"
          ]
        },
        {
          "name": "stdout",
          "output_type": "stream",
          "text": [
            "FAISS Initialised: Indexed 65 chunks.\n"
          ]
        },
        {
          "name": "stderr",
          "output_type": "stream",
          "text": [
            "Evaluating test examples:  41%|████      | 206/500 [06:23<05:14,  1.07s/it]"
          ]
        },
        {
          "name": "stdout",
          "output_type": "stream",
          "text": [
            "FAISS Initialised: Indexed 65 chunks.\n",
            "\n",
            "Low confidence detected based on FAISS score.\n",
            "FAISS Initialised: Indexed 65 chunks.\n",
            "\n",
            "Low confidence detected based on FAISS score.\n",
            "FAISS Initialised: Indexed 65 chunks.\n",
            "\n",
            "Low confidence detected based on FAISS score.\n"
          ]
        },
        {
          "name": "stderr",
          "output_type": "stream",
          "text": [
            "\rEvaluating test examples:  42%|████▏     | 208/500 [06:23<03:38,  1.34it/s]Setting `pad_token_id` to `eos_token_id`:2 for open-end generation.\n"
          ]
        },
        {
          "name": "stdout",
          "output_type": "stream",
          "text": [
            "FAISS Initialised: Indexed 65 chunks.\n",
            "\n",
            "Low confidence detected based on FAISS score.\n",
            "FAISS Initialised: Indexed 65 chunks.\n"
          ]
        },
        {
          "name": "stderr",
          "output_type": "stream",
          "text": [
            "Evaluating test examples:  42%|████▏     | 212/500 [06:28<04:34,  1.05it/s]"
          ]
        },
        {
          "name": "stdout",
          "output_type": "stream",
          "text": [
            "FAISS Initialised: Indexed 65 chunks.\n",
            "\n",
            "Low confidence detected based on FAISS score.\n",
            "FAISS Initialised: Indexed 65 chunks.\n",
            "\n",
            "Low confidence detected based on FAISS score.\n",
            "FAISS Initialised: Indexed 65 chunks.\n",
            "\n",
            "Low confidence detected based on FAISS score.\n",
            "FAISS Initialised: Indexed 65 chunks.\n"
          ]
        },
        {
          "name": "stderr",
          "output_type": "stream",
          "text": [
            "Evaluating test examples:  43%|████▎     | 216/500 [06:28<02:19,  2.03it/s]"
          ]
        },
        {
          "name": "stdout",
          "output_type": "stream",
          "text": [
            "\n",
            "Low confidence detected based on FAISS score.\n",
            "FAISS Initialised: Indexed 65 chunks.\n",
            "\n",
            "Low confidence detected based on FAISS score.\n",
            "FAISS Initialised: Indexed 65 chunks.\n",
            "\n",
            "Low confidence detected based on FAISS score.\n",
            "FAISS Initialised: Indexed 65 chunks.\n",
            "\n",
            "Low confidence detected based on FAISS score.\n"
          ]
        },
        {
          "name": "stderr",
          "output_type": "stream",
          "text": [
            "\rEvaluating test examples:  44%|████▎     | 218/500 [06:29<01:41,  2.78it/s]Setting `pad_token_id` to `eos_token_id`:2 for open-end generation.\n"
          ]
        },
        {
          "name": "stdout",
          "output_type": "stream",
          "text": [
            "FAISS Initialised: Indexed 65 chunks.\n",
            "\n",
            "Low confidence detected based on FAISS score.\n",
            "FAISS Initialised: Indexed 48 chunks.\n",
            "\n",
            "Low confidence detected based on FAISS score.\n",
            "FAISS Initialised: Indexed 48 chunks.\n"
          ]
        },
        {
          "name": "stderr",
          "output_type": "stream",
          "text": [
            "Setting `pad_token_id` to `eos_token_id`:2 for open-end generation.\n"
          ]
        },
        {
          "name": "stdout",
          "output_type": "stream",
          "text": [
            "FAISS Initialised: Indexed 48 chunks.\n"
          ]
        },
        {
          "name": "stderr",
          "output_type": "stream",
          "text": [
            "\rEvaluating test examples:  44%|████▍     | 220/500 [06:35<06:00,  1.29s/it]Setting `pad_token_id` to `eos_token_id`:2 for open-end generation.\n"
          ]
        },
        {
          "name": "stdout",
          "output_type": "stream",
          "text": [
            "FAISS Initialised: Indexed 48 chunks.\n"
          ]
        },
        {
          "name": "stderr",
          "output_type": "stream",
          "text": [
            "Setting `pad_token_id` to `eos_token_id`:2 for open-end generation.\n"
          ]
        },
        {
          "name": "stdout",
          "output_type": "stream",
          "text": [
            "FAISS Initialised: Indexed 48 chunks.\n"
          ]
        },
        {
          "name": "stderr",
          "output_type": "stream",
          "text": [
            "Evaluating test examples:  46%|████▌     | 228/500 [06:42<03:30,  1.29it/s]"
          ]
        },
        {
          "name": "stdout",
          "output_type": "stream",
          "text": [
            "FAISS Initialised: Indexed 48 chunks.\n",
            "\n",
            "Low confidence detected based on FAISS score.\n",
            "FAISS Initialised: Indexed 48 chunks.\n",
            "\n",
            "Low confidence detected based on FAISS score.\n",
            "FAISS Initialised: Indexed 48 chunks.\n",
            "\n",
            "Low confidence detected based on FAISS score.\n",
            "FAISS Initialised: Indexed 48 chunks.\n",
            "\n",
            "Low confidence detected based on FAISS score.\n",
            "FAISS Initialised: Indexed 48 chunks.\n",
            "\n",
            "Low confidence detected based on FAISS score.\n",
            "FAISS Initialised: Indexed 48 chunks.\n",
            "\n",
            "Low confidence detected based on FAISS score.\n"
          ]
        },
        {
          "name": "stderr",
          "output_type": "stream",
          "text": [
            "Setting `pad_token_id` to `eos_token_id`:2 for open-end generation.\n"
          ]
        },
        {
          "name": "stdout",
          "output_type": "stream",
          "text": [
            "FAISS Initialised: Indexed 48 chunks.\n",
            "\n",
            "Low confidence detected based on FAISS score.\n",
            "FAISS Initialised: Indexed 48 chunks.\n"
          ]
        },
        {
          "name": "stderr",
          "output_type": "stream",
          "text": [
            "\rEvaluating test examples:  46%|████▌     | 230/500 [06:48<05:49,  1.29s/it]Setting `pad_token_id` to `eos_token_id`:2 for open-end generation.\n"
          ]
        },
        {
          "name": "stdout",
          "output_type": "stream",
          "text": [
            "FAISS Initialised: Indexed 48 chunks.\n"
          ]
        },
        {
          "name": "stderr",
          "output_type": "stream",
          "text": [
            "Setting `pad_token_id` to `eos_token_id`:2 for open-end generation.\n"
          ]
        },
        {
          "name": "stdout",
          "output_type": "stream",
          "text": [
            "FAISS Initialised: Indexed 48 chunks.\n"
          ]
        },
        {
          "name": "stderr",
          "output_type": "stream",
          "text": [
            "Evaluating test examples:  46%|████▋     | 232/500 [06:59<10:53,  2.44s/it]Setting `pad_token_id` to `eos_token_id`:2 for open-end generation.\n"
          ]
        },
        {
          "name": "stdout",
          "output_type": "stream",
          "text": [
            "FAISS Initialised: Indexed 48 chunks.\n"
          ]
        },
        {
          "name": "stderr",
          "output_type": "stream",
          "text": [
            "\rEvaluating test examples:  47%|████▋     | 233/500 [07:05<13:03,  2.93s/it]Setting `pad_token_id` to `eos_token_id`:2 for open-end generation.\n"
          ]
        },
        {
          "name": "stdout",
          "output_type": "stream",
          "text": [
            "FAISS Initialised: Indexed 48 chunks.\n"
          ]
        },
        {
          "name": "stderr",
          "output_type": "stream",
          "text": [
            "\rEvaluating test examples:  47%|████▋     | 234/500 [07:12<16:18,  3.68s/it]Setting `pad_token_id` to `eos_token_id`:2 for open-end generation.\n"
          ]
        },
        {
          "name": "stdout",
          "output_type": "stream",
          "text": [
            "FAISS Initialised: Indexed 48 chunks.\n"
          ]
        },
        {
          "name": "stderr",
          "output_type": "stream",
          "text": [
            "\rEvaluating test examples:  47%|████▋     | 235/500 [07:22<22:25,  5.08s/it]Setting `pad_token_id` to `eos_token_id`:2 for open-end generation.\n"
          ]
        },
        {
          "name": "stdout",
          "output_type": "stream",
          "text": [
            "FAISS Initialised: Indexed 48 chunks.\n"
          ]
        },
        {
          "name": "stderr",
          "output_type": "stream",
          "text": [
            "\rEvaluating test examples:  47%|████▋     | 236/500 [07:26<21:41,  4.93s/it]Setting `pad_token_id` to `eos_token_id`:2 for open-end generation.\n"
          ]
        },
        {
          "name": "stdout",
          "output_type": "stream",
          "text": [
            "FAISS Initialised: Indexed 48 chunks.\n"
          ]
        },
        {
          "name": "stderr",
          "output_type": "stream",
          "text": [
            "\rEvaluating test examples:  47%|████▋     | 237/500 [07:31<20:59,  4.79s/it]Setting `pad_token_id` to `eos_token_id`:2 for open-end generation.\n"
          ]
        },
        {
          "name": "stdout",
          "output_type": "stream",
          "text": [
            "FAISS Initialised: Indexed 48 chunks.\n",
            "\n",
            "Low confidence detected based on FAISS score.\n",
            "FAISS Initialised: Indexed 48 chunks.\n"
          ]
        },
        {
          "name": "stderr",
          "output_type": "stream",
          "text": [
            "\rEvaluating test examples:  48%|████▊     | 239/500 [07:38<18:58,  4.36s/it]Setting `pad_token_id` to `eos_token_id`:2 for open-end generation.\n"
          ]
        },
        {
          "name": "stdout",
          "output_type": "stream",
          "text": [
            "FAISS Initialised: Indexed 48 chunks.\n",
            "\n",
            "Low confidence detected based on FAISS score.\n",
            "FAISS Initialised: Indexed 48 chunks.\n"
          ]
        },
        {
          "name": "stderr",
          "output_type": "stream",
          "text": [
            "\rEvaluating test examples:  48%|████▊     | 241/500 [07:42<14:45,  3.42s/it]Setting `pad_token_id` to `eos_token_id`:2 for open-end generation.\n"
          ]
        },
        {
          "name": "stdout",
          "output_type": "stream",
          "text": [
            "FAISS Initialised: Indexed 48 chunks.\n"
          ]
        },
        {
          "name": "stderr",
          "output_type": "stream",
          "text": [
            "\rEvaluating test examples:  48%|████▊     | 242/500 [07:49<18:20,  4.27s/it]Setting `pad_token_id` to `eos_token_id`:2 for open-end generation.\n"
          ]
        },
        {
          "name": "stdout",
          "output_type": "stream",
          "text": [
            "FAISS Initialised: Indexed 48 chunks.\n"
          ]
        },
        {
          "name": "stderr",
          "output_type": "stream",
          "text": [
            "\rEvaluating test examples:  49%|████▊     | 243/500 [07:57<21:30,  5.02s/it]Setting `pad_token_id` to `eos_token_id`:2 for open-end generation.\n"
          ]
        },
        {
          "name": "stdout",
          "output_type": "stream",
          "text": [
            "FAISS Initialised: Indexed 48 chunks.\n"
          ]
        },
        {
          "name": "stderr",
          "output_type": "stream",
          "text": [
            "\rEvaluating test examples:  49%|████▉     | 244/500 [08:01<20:09,  4.72s/it]Setting `pad_token_id` to `eos_token_id`:2 for open-end generation.\n"
          ]
        },
        {
          "name": "stdout",
          "output_type": "stream",
          "text": [
            "FAISS Initialised: Indexed 48 chunks.\n",
            "\n",
            "Low confidence detected based on FAISS score.\n",
            "FAISS Initialised: Indexed 48 chunks.\n",
            "\n",
            "Low confidence detected based on FAISS score.\n",
            "FAISS Initialised: Indexed 48 chunks.\n"
          ]
        },
        {
          "name": "stderr",
          "output_type": "stream",
          "text": [
            "\rEvaluating test examples:  49%|████▉     | 247/500 [08:06<13:41,  3.25s/it]Setting `pad_token_id` to `eos_token_id`:2 for open-end generation.\n"
          ]
        },
        {
          "name": "stdout",
          "output_type": "stream",
          "text": [
            "FAISS Initialised: Indexed 48 chunks.\n"
          ]
        },
        {
          "name": "stderr",
          "output_type": "stream",
          "text": [
            "\rEvaluating test examples:  50%|████▉     | 248/500 [08:11<14:43,  3.51s/it]Setting `pad_token_id` to `eos_token_id`:2 for open-end generation.\n"
          ]
        },
        {
          "name": "stdout",
          "output_type": "stream",
          "text": [
            "FAISS Initialised: Indexed 48 chunks.\n"
          ]
        },
        {
          "name": "stderr",
          "output_type": "stream",
          "text": [
            "\rEvaluating test examples:  50%|████▉     | 249/500 [08:16<15:39,  3.74s/it]Setting `pad_token_id` to `eos_token_id`:2 for open-end generation.\n"
          ]
        },
        {
          "name": "stdout",
          "output_type": "stream",
          "text": [
            "FAISS Initialised: Indexed 48 chunks.\n"
          ]
        },
        {
          "name": "stderr",
          "output_type": "stream",
          "text": [
            "\rEvaluating test examples:  50%|█████     | 250/500 [08:20<16:22,  3.93s/it]Setting `pad_token_id` to `eos_token_id`:2 for open-end generation.\n"
          ]
        },
        {
          "name": "stdout",
          "output_type": "stream",
          "text": [
            "FAISS Initialised: Indexed 48 chunks.\n"
          ]
        },
        {
          "name": "stderr",
          "output_type": "stream",
          "text": [
            "\rEvaluating test examples:  50%|█████     | 251/500 [08:25<16:58,  4.09s/it]Setting `pad_token_id` to `eos_token_id`:2 for open-end generation.\n"
          ]
        },
        {
          "name": "stdout",
          "output_type": "stream",
          "text": [
            "FAISS Initialised: Indexed 48 chunks.\n"
          ]
        },
        {
          "name": "stderr",
          "output_type": "stream",
          "text": [
            "\rEvaluating test examples:  50%|█████     | 252/500 [08:29<17:23,  4.21s/it]Setting `pad_token_id` to `eos_token_id`:2 for open-end generation.\n"
          ]
        },
        {
          "name": "stdout",
          "output_type": "stream",
          "text": [
            "FAISS Initialised: Indexed 48 chunks.\n",
            "\n",
            "Low confidence detected based on FAISS score.\n",
            "FAISS Initialised: Indexed 48 chunks.\n",
            "\n",
            "Low confidence detected based on FAISS score.\n",
            "FAISS Initialised: Indexed 48 chunks.\n"
          ]
        },
        {
          "name": "stderr",
          "output_type": "stream",
          "text": [
            "\rEvaluating test examples:  51%|█████     | 255/500 [08:33<10:38,  2.61s/it]Setting `pad_token_id` to `eos_token_id`:2 for open-end generation.\n"
          ]
        },
        {
          "name": "stdout",
          "output_type": "stream",
          "text": [
            "FAISS Initialised: Indexed 48 chunks.\n"
          ]
        },
        {
          "name": "stderr",
          "output_type": "stream",
          "text": [
            "\rEvaluating test examples:  51%|█████     | 256/500 [08:36<11:31,  2.83s/it]Setting `pad_token_id` to `eos_token_id`:2 for open-end generation.\n"
          ]
        },
        {
          "name": "stdout",
          "output_type": "stream",
          "text": [
            "FAISS Initialised: Indexed 48 chunks.\n",
            "\n",
            "Low confidence detected based on FAISS score.\n",
            "FAISS Initialised: Indexed 48 chunks.\n"
          ]
        },
        {
          "name": "stderr",
          "output_type": "stream",
          "text": [
            "\rEvaluating test examples:  52%|█████▏    | 258/500 [08:42<11:23,  2.83s/it]Setting `pad_token_id` to `eos_token_id`:2 for open-end generation.\n"
          ]
        },
        {
          "name": "stdout",
          "output_type": "stream",
          "text": [
            "FAISS Initialised: Indexed 48 chunks.\n",
            "\n",
            "Low confidence detected based on FAISS score.\n",
            "FAISS Initialised: Indexed 48 chunks.\n"
          ]
        },
        {
          "name": "stderr",
          "output_type": "stream",
          "text": [
            "Evaluating test examples:  53%|█████▎    | 263/500 [08:47<06:20,  1.61s/it]Setting `pad_token_id` to `eos_token_id`:2 for open-end generation.\n"
          ]
        },
        {
          "name": "stdout",
          "output_type": "stream",
          "text": [
            "FAISS Initialised: Indexed 48 chunks.\n",
            "\n",
            "Low confidence detected based on FAISS score.\n",
            "FAISS Initialised: Indexed 48 chunks.\n",
            "\n",
            "Low confidence detected based on FAISS score.\n",
            "FAISS Initialised: Indexed 48 chunks.\n",
            "\n",
            "Low confidence detected based on FAISS score.\n",
            "FAISS Initialised: Indexed 48 chunks.\n",
            "\n",
            "Low confidence detected based on FAISS score.\n",
            "FAISS Initialised: Indexed 48 chunks.\n",
            "\n",
            "Low confidence detected based on FAISS score.\n",
            "FAISS Initialised: Indexed 48 chunks.\n"
          ]
        },
        {
          "name": "stderr",
          "output_type": "stream",
          "text": [
            "Evaluating test examples:  55%|█████▍    | 273/500 [08:52<02:17,  1.66it/s]"
          ]
        },
        {
          "name": "stdout",
          "output_type": "stream",
          "text": [
            "FAISS Initialised: Indexed 48 chunks.\n",
            "\n",
            "Low confidence detected based on FAISS score.\n",
            "FAISS Initialised: Indexed 48 chunks.\n",
            "\n",
            "Low confidence detected based on FAISS score.\n",
            "FAISS Initialised: Indexed 22 chunks.\n",
            "\n",
            "Low confidence detected based on FAISS score.\n",
            "FAISS Initialised: Indexed 22 chunks.\n",
            "\n",
            "Low confidence detected based on FAISS score.\n",
            "FAISS Initialised: Indexed 22 chunks.\n",
            "\n",
            "Low confidence detected based on FAISS score.\n",
            "FAISS Initialised: Indexed 22 chunks.\n",
            "\n",
            "Low confidence detected based on FAISS score.\n",
            "FAISS Initialised: Indexed 22 chunks.\n",
            "\n",
            "Low confidence detected based on FAISS score.\n",
            "FAISS Initialised: Indexed 22 chunks.\n"
          ]
        },
        {
          "name": "stderr",
          "output_type": "stream",
          "text": [
            "Evaluating test examples:  56%|█████▌    | 281/500 [08:52<00:58,  3.73it/s]"
          ]
        },
        {
          "name": "stdout",
          "output_type": "stream",
          "text": [
            "\n",
            "Low confidence detected based on FAISS score.\n",
            "FAISS Initialised: Indexed 22 chunks.\n",
            "\n",
            "Low confidence detected based on FAISS score.\n",
            "FAISS Initialised: Indexed 22 chunks.\n",
            "\n",
            "Low confidence detected based on FAISS score.\n",
            "FAISS Initialised: Indexed 22 chunks.\n",
            "\n",
            "Low confidence detected based on FAISS score.\n",
            "FAISS Initialised: Indexed 22 chunks.\n",
            "\n",
            "Low confidence detected based on FAISS score.\n",
            "FAISS Initialised: Indexed 22 chunks.\n",
            "\n",
            "Low confidence detected based on FAISS score.\n",
            "FAISS Initialised: Indexed 22 chunks.\n",
            "\n",
            "Low confidence detected based on FAISS score.\n",
            "FAISS Initialised: Indexed 22 chunks.\n",
            "\n",
            "Low confidence detected based on FAISS score.\n"
          ]
        },
        {
          "name": "stderr",
          "output_type": "stream",
          "text": [
            "Evaluating test examples:  58%|█████▊    | 289/500 [08:52<00:28,  7.29it/s]"
          ]
        },
        {
          "name": "stdout",
          "output_type": "stream",
          "text": [
            "FAISS Initialised: Indexed 22 chunks.\n",
            "\n",
            "Low confidence detected based on FAISS score.\n",
            "FAISS Initialised: Indexed 22 chunks.\n",
            "\n",
            "Low confidence detected based on FAISS score.\n",
            "FAISS Initialised: Indexed 22 chunks.\n",
            "\n",
            "Low confidence detected based on FAISS score.\n",
            "FAISS Initialised: Indexed 22 chunks.\n",
            "\n",
            "Low confidence detected based on FAISS score.\n",
            "FAISS Initialised: Indexed 22 chunks.\n",
            "\n",
            "Low confidence detected based on FAISS score.\n",
            "FAISS Initialised: Indexed 22 chunks.\n",
            "\n",
            "Low confidence detected based on FAISS score.\n",
            "FAISS Initialised: Indexed 22 chunks.\n",
            "\n",
            "Low confidence detected based on FAISS score.\n",
            "FAISS Initialised: Indexed 22 chunks.\n",
            "\n",
            "Low confidence detected based on FAISS score.\n"
          ]
        },
        {
          "name": "stderr",
          "output_type": "stream",
          "text": [
            "Evaluating test examples:  59%|█████▉    | 297/500 [08:52<00:16, 12.64it/s]"
          ]
        },
        {
          "name": "stdout",
          "output_type": "stream",
          "text": [
            "FAISS Initialised: Indexed 22 chunks.\n",
            "\n",
            "Low confidence detected based on FAISS score.\n",
            "FAISS Initialised: Indexed 22 chunks.\n",
            "\n",
            "Low confidence detected based on FAISS score.\n",
            "FAISS Initialised: Indexed 22 chunks.\n",
            "\n",
            "Low confidence detected based on FAISS score.\n",
            "FAISS Initialised: Indexed 22 chunks.\n",
            "\n",
            "Low confidence detected based on FAISS score.\n",
            "FAISS Initialised: Indexed 22 chunks.\n",
            "\n",
            "Low confidence detected based on FAISS score.\n",
            "FAISS Initialised: Indexed 22 chunks.\n",
            "\n",
            "Low confidence detected based on FAISS score.\n",
            "FAISS Initialised: Indexed 22 chunks.\n",
            "\n",
            "Low confidence detected based on FAISS score.\n",
            "FAISS Initialised: Indexed 22 chunks.\n",
            "\n",
            "Low confidence detected based on FAISS score.\n"
          ]
        },
        {
          "name": "stderr",
          "output_type": "stream",
          "text": [
            "Evaluating test examples:  61%|██████    | 305/500 [08:53<00:10, 19.17it/s]"
          ]
        },
        {
          "name": "stdout",
          "output_type": "stream",
          "text": [
            "FAISS Initialised: Indexed 22 chunks.\n",
            "\n",
            "Low confidence detected based on FAISS score.\n",
            "FAISS Initialised: Indexed 22 chunks.\n",
            "\n",
            "Low confidence detected based on FAISS score.\n",
            "FAISS Initialised: Indexed 22 chunks.\n",
            "\n",
            "Low confidence detected based on FAISS score.\n",
            "FAISS Initialised: Indexed 22 chunks.\n",
            "\n",
            "Low confidence detected based on FAISS score.\n",
            "FAISS Initialised: Indexed 22 chunks.\n",
            "\n",
            "Low confidence detected based on FAISS score.\n",
            "FAISS Initialised: Indexed 22 chunks.\n",
            "\n",
            "Low confidence detected based on FAISS score.\n",
            "FAISS Initialised: Indexed 22 chunks.\n",
            "\n",
            "Low confidence detected based on FAISS score.\n",
            "FAISS Initialised: Indexed 22 chunks.\n",
            "\n",
            "Low confidence detected based on FAISS score.\n"
          ]
        },
        {
          "name": "stderr",
          "output_type": "stream",
          "text": [
            "\rEvaluating test examples:  62%|██████▏   | 309/500 [08:53<00:08, 22.40it/s]Setting `pad_token_id` to `eos_token_id`:2 for open-end generation.\n"
          ]
        },
        {
          "name": "stdout",
          "output_type": "stream",
          "text": [
            "FAISS Initialised: Indexed 22 chunks.\n",
            "\n",
            "Low confidence detected based on FAISS score.\n",
            "FAISS Initialised: Indexed 22 chunks.\n",
            "\n",
            "Low confidence detected based on FAISS score.\n",
            "FAISS Initialised: Indexed 22 chunks.\n",
            "\n",
            "Low confidence detected based on FAISS score.\n",
            "FAISS Initialised: Indexed 22 chunks.\n",
            "\n",
            "Low confidence detected based on FAISS score.\n",
            "FAISS Initialised: Indexed 22 chunks.\n",
            "\n",
            "Low confidence detected based on FAISS score.\n",
            "FAISS Initialised: Indexed 22 chunks.\n"
          ]
        },
        {
          "name": "stderr",
          "output_type": "stream",
          "text": [
            "Evaluating test examples:  63%|██████▎   | 317/500 [08:58<00:56,  3.26it/s]"
          ]
        },
        {
          "name": "stdout",
          "output_type": "stream",
          "text": [
            "FAISS Initialised: Indexed 22 chunks.\n",
            "\n",
            "Low confidence detected based on FAISS score.\n",
            "FAISS Initialised: Indexed 22 chunks.\n",
            "\n",
            "Low confidence detected based on FAISS score.\n",
            "FAISS Initialised: Indexed 22 chunks.\n",
            "\n",
            "Low confidence detected based on FAISS score.\n",
            "FAISS Initialised: Indexed 22 chunks.\n",
            "\n",
            "Low confidence detected based on FAISS score.\n",
            "FAISS Initialised: Indexed 22 chunks.\n",
            "\n",
            "Low confidence detected based on FAISS score.\n",
            "FAISS Initialised: Indexed 22 chunks.\n",
            "\n",
            "Low confidence detected based on FAISS score.\n",
            "FAISS Initialised: Indexed 22 chunks.\n",
            "\n",
            "Low confidence detected based on FAISS score.\n",
            "FAISS Initialised: Indexed 22 chunks.\n",
            "\n",
            "Low confidence detected based on FAISS score.\n"
          ]
        },
        {
          "name": "stderr",
          "output_type": "stream",
          "text": [
            "\rEvaluating test examples:  64%|██████▍   | 320/500 [08:58<00:45,  3.96it/s]"
          ]
        },
        {
          "name": "stdout",
          "output_type": "stream",
          "text": [
            "FAISS Initialised: Indexed 290 chunks.\n",
            "\n",
            "Low confidence detected based on FAISS score.\n"
          ]
        },
        {
          "name": "stderr",
          "output_type": "stream",
          "text": [
            "Setting `pad_token_id` to `eos_token_id`:2 for open-end generation.\n"
          ]
        },
        {
          "name": "stdout",
          "output_type": "stream",
          "text": [
            "FAISS Initialised: Indexed 290 chunks.\n"
          ]
        },
        {
          "name": "stderr",
          "output_type": "stream",
          "text": [
            "Setting `pad_token_id` to `eos_token_id`:2 for open-end generation.\n"
          ]
        },
        {
          "name": "stdout",
          "output_type": "stream",
          "text": [
            "FAISS Initialised: Indexed 290 chunks.\n"
          ]
        },
        {
          "name": "stderr",
          "output_type": "stream",
          "text": [
            "Setting `pad_token_id` to `eos_token_id`:2 for open-end generation.\n"
          ]
        },
        {
          "name": "stdout",
          "output_type": "stream",
          "text": [
            "FAISS Initialised: Indexed 290 chunks.\n"
          ]
        },
        {
          "name": "stderr",
          "output_type": "stream",
          "text": [
            "Evaluating test examples:  65%|██████▍   | 323/500 [09:12<04:07,  1.40s/it]Setting `pad_token_id` to `eos_token_id`:2 for open-end generation.\n"
          ]
        },
        {
          "name": "stdout",
          "output_type": "stream",
          "text": [
            "FAISS Initialised: Indexed 290 chunks.\n"
          ]
        },
        {
          "name": "stderr",
          "output_type": "stream",
          "text": [
            "\rEvaluating test examples:  65%|██████▍   | 324/500 [09:17<05:08,  1.75s/it]Setting `pad_token_id` to `eos_token_id`:2 for open-end generation.\n"
          ]
        },
        {
          "name": "stdout",
          "output_type": "stream",
          "text": [
            "FAISS Initialised: Indexed 290 chunks.\n"
          ]
        },
        {
          "name": "stderr",
          "output_type": "stream",
          "text": [
            "Setting `pad_token_id` to `eos_token_id`:2 for open-end generation.\n"
          ]
        },
        {
          "name": "stdout",
          "output_type": "stream",
          "text": [
            "FAISS Initialised: Indexed 290 chunks.\n"
          ]
        },
        {
          "name": "stderr",
          "output_type": "stream",
          "text": [
            "\rEvaluating test examples:  65%|██████▌   | 326/500 [09:26<07:06,  2.45s/it]Setting `pad_token_id` to `eos_token_id`:2 for open-end generation.\n"
          ]
        },
        {
          "name": "stdout",
          "output_type": "stream",
          "text": [
            "FAISS Initialised: Indexed 290 chunks.\n"
          ]
        },
        {
          "name": "stderr",
          "output_type": "stream",
          "text": [
            "Setting `pad_token_id` to `eos_token_id`:2 for open-end generation.\n"
          ]
        },
        {
          "name": "stdout",
          "output_type": "stream",
          "text": [
            "FAISS Initialised: Indexed 290 chunks.\n"
          ]
        },
        {
          "name": "stderr",
          "output_type": "stream",
          "text": [
            "Evaluating test examples:  66%|██████▌   | 328/500 [09:38<09:27,  3.30s/it]Setting `pad_token_id` to `eos_token_id`:2 for open-end generation.\n"
          ]
        },
        {
          "name": "stdout",
          "output_type": "stream",
          "text": [
            "FAISS Initialised: Indexed 290 chunks.\n"
          ]
        },
        {
          "name": "stderr",
          "output_type": "stream",
          "text": [
            "Evaluating test examples:  66%|██████▌   | 330/500 [09:45<09:02,  3.19s/it]"
          ]
        },
        {
          "name": "stdout",
          "output_type": "stream",
          "text": [
            "FAISS Initialised: Indexed 290 chunks.\n",
            "\n",
            "Low confidence detected based on FAISS score.\n",
            "FAISS Initialised: Indexed 290 chunks.\n"
          ]
        },
        {
          "name": "stderr",
          "output_type": "stream",
          "text": [
            "\rEvaluating test examples:  66%|██████▌   | 331/500 [09:45<07:15,  2.58s/it]"
          ]
        },
        {
          "name": "stdout",
          "output_type": "stream",
          "text": [
            "\n",
            "Low confidence detected based on FAISS score.\n",
            "FAISS Initialised: Indexed 290 chunks.\n"
          ]
        },
        {
          "name": "stderr",
          "output_type": "stream",
          "text": [
            "\rEvaluating test examples:  66%|██████▋   | 332/500 [09:45<05:42,  2.04s/it]"
          ]
        },
        {
          "name": "stdout",
          "output_type": "stream",
          "text": [
            "\n",
            "Low confidence detected based on FAISS score.\n",
            "FAISS Initialised: Indexed 290 chunks.\n",
            "\n",
            "Low confidence detected based on FAISS score.\n"
          ]
        },
        {
          "name": "stderr",
          "output_type": "stream",
          "text": [
            "Evaluating test examples:  67%|██████▋   | 334/500 [09:46<03:24,  1.23s/it]"
          ]
        },
        {
          "name": "stdout",
          "output_type": "stream",
          "text": [
            "FAISS Initialised: Indexed 290 chunks.\n",
            "\n",
            "Low confidence detected based on FAISS score.\n",
            "FAISS Initialised: Indexed 290 chunks.\n"
          ]
        },
        {
          "name": "stderr",
          "output_type": "stream",
          "text": [
            "Evaluating test examples:  67%|██████▋   | 336/500 [09:46<02:01,  1.35it/s]"
          ]
        },
        {
          "name": "stdout",
          "output_type": "stream",
          "text": [
            "\n",
            "Low confidence detected based on FAISS score.\n",
            "FAISS Initialised: Indexed 290 chunks.\n",
            "\n",
            "Low confidence detected based on FAISS score.\n"
          ]
        },
        {
          "name": "stderr",
          "output_type": "stream",
          "text": [
            "\rEvaluating test examples:  67%|██████▋   | 337/500 [09:46<01:35,  1.70it/s]"
          ]
        },
        {
          "name": "stdout",
          "output_type": "stream",
          "text": [
            "FAISS Initialised: Indexed 290 chunks.\n",
            "\n",
            "Low confidence detected based on FAISS score.\n",
            "FAISS Initialised: Indexed 290 chunks.\n"
          ]
        },
        {
          "name": "stderr",
          "output_type": "stream",
          "text": [
            "\rEvaluating test examples:  68%|██████▊   | 338/500 [09:47<01:17,  2.10it/s]Setting `pad_token_id` to `eos_token_id`:2 for open-end generation.\n"
          ]
        },
        {
          "name": "stdout",
          "output_type": "stream",
          "text": [
            "\n",
            "Low confidence detected based on FAISS score.\n",
            "FAISS Initialised: Indexed 290 chunks.\n"
          ]
        },
        {
          "name": "stderr",
          "output_type": "stream",
          "text": [
            "Evaluating test examples:  68%|██████▊   | 340/500 [09:52<03:42,  1.39s/it]"
          ]
        },
        {
          "name": "stdout",
          "output_type": "stream",
          "text": [
            "FAISS Initialised: Indexed 290 chunks.\n",
            "\n",
            "Low confidence detected based on FAISS score.\n",
            "FAISS Initialised: Indexed 290 chunks.\n"
          ]
        },
        {
          "name": "stderr",
          "output_type": "stream",
          "text": [
            "\rEvaluating test examples:  68%|██████▊   | 341/500 [09:52<02:44,  1.04s/it]Setting `pad_token_id` to `eos_token_id`:2 for open-end generation.\n"
          ]
        },
        {
          "name": "stdout",
          "output_type": "stream",
          "text": [
            "\n",
            "Low confidence detected based on FAISS score.\n",
            "FAISS Initialised: Indexed 290 chunks.\n"
          ]
        },
        {
          "name": "stderr",
          "output_type": "stream",
          "text": [
            "Evaluating test examples:  69%|██████▊   | 343/500 [09:59<05:15,  2.01s/it]"
          ]
        },
        {
          "name": "stdout",
          "output_type": "stream",
          "text": [
            "FAISS Initialised: Indexed 290 chunks.\n",
            "\n",
            "Low confidence detected based on FAISS score.\n",
            "FAISS Initialised: Indexed 290 chunks.\n"
          ]
        },
        {
          "name": "stderr",
          "output_type": "stream",
          "text": [
            "Setting `pad_token_id` to `eos_token_id`:2 for open-end generation.\n",
            "Evaluating test examples:  69%|██████▉   | 344/500 [10:05<08:04,  3.10s/it]Setting `pad_token_id` to `eos_token_id`:2 for open-end generation.\n"
          ]
        },
        {
          "name": "stdout",
          "output_type": "stream",
          "text": [
            "FAISS Initialised: Indexed 290 chunks.\n"
          ]
        },
        {
          "name": "stderr",
          "output_type": "stream",
          "text": [
            "\rEvaluating test examples:  69%|██████▉   | 345/500 [10:12<11:01,  4.27s/it]Setting `pad_token_id` to `eos_token_id`:2 for open-end generation.\n"
          ]
        },
        {
          "name": "stdout",
          "output_type": "stream",
          "text": [
            "FAISS Initialised: Indexed 290 chunks.\n"
          ]
        },
        {
          "name": "stderr",
          "output_type": "stream",
          "text": [
            "\rEvaluating test examples:  69%|██████▉   | 346/500 [10:16<10:56,  4.26s/it]Setting `pad_token_id` to `eos_token_id`:2 for open-end generation.\n"
          ]
        },
        {
          "name": "stdout",
          "output_type": "stream",
          "text": [
            "FAISS Initialised: Indexed 290 chunks.\n"
          ]
        },
        {
          "name": "stderr",
          "output_type": "stream",
          "text": [
            "Evaluating test examples:  70%|██████▉   | 348/500 [10:20<07:21,  2.90s/it]"
          ]
        },
        {
          "name": "stdout",
          "output_type": "stream",
          "text": [
            "FAISS Initialised: Indexed 290 chunks.\n",
            "\n",
            "Low confidence detected based on FAISS score.\n"
          ]
        },
        {
          "name": "stderr",
          "output_type": "stream",
          "text": [
            "\rEvaluating test examples:  70%|██████▉   | 349/500 [10:20<05:16,  2.09s/it]"
          ]
        },
        {
          "name": "stdout",
          "output_type": "stream",
          "text": [
            "FAISS Initialised: Indexed 290 chunks.\n",
            "\n",
            "Low confidence detected based on FAISS score.\n",
            "FAISS Initialised: Indexed 290 chunks.\n"
          ]
        },
        {
          "name": "stderr",
          "output_type": "stream",
          "text": [
            "Setting `pad_token_id` to `eos_token_id`:2 for open-end generation.\n",
            "Evaluating test examples:  70%|███████   | 351/500 [10:25<05:09,  2.08s/it]"
          ]
        },
        {
          "name": "stdout",
          "output_type": "stream",
          "text": [
            "FAISS Initialised: Indexed 290 chunks.\n",
            "\n",
            "Low confidence detected based on FAISS score.\n",
            "FAISS Initialised: Indexed 290 chunks.\n"
          ]
        },
        {
          "name": "stderr",
          "output_type": "stream",
          "text": [
            "Evaluating test examples:  71%|███████   | 353/500 [10:26<02:44,  1.12s/it]"
          ]
        },
        {
          "name": "stdout",
          "output_type": "stream",
          "text": [
            "\n",
            "Low confidence detected based on FAISS score.\n",
            "FAISS Initialised: Indexed 290 chunks.\n",
            "\n",
            "Low confidence detected based on FAISS score.\n"
          ]
        },
        {
          "name": "stderr",
          "output_type": "stream",
          "text": [
            "\rEvaluating test examples:  71%|███████   | 354/500 [10:26<02:03,  1.18it/s]"
          ]
        },
        {
          "name": "stdout",
          "output_type": "stream",
          "text": [
            "FAISS Initialised: Indexed 290 chunks.\n",
            "\n",
            "Low confidence detected based on FAISS score.\n",
            "FAISS Initialised: Indexed 290 chunks.\n"
          ]
        },
        {
          "name": "stderr",
          "output_type": "stream",
          "text": [
            "Evaluating test examples:  71%|███████   | 356/500 [10:26<01:14,  1.94it/s]"
          ]
        },
        {
          "name": "stdout",
          "output_type": "stream",
          "text": [
            "\n",
            "Low confidence detected based on FAISS score.\n",
            "FAISS Initialised: Indexed 290 chunks.\n",
            "\n",
            "Low confidence detected based on FAISS score.\n"
          ]
        },
        {
          "name": "stderr",
          "output_type": "stream",
          "text": [
            "\rEvaluating test examples:  71%|███████▏  | 357/500 [10:26<01:00,  2.37it/s]"
          ]
        },
        {
          "name": "stdout",
          "output_type": "stream",
          "text": [
            "FAISS Initialised: Indexed 290 chunks.\n",
            "\n",
            "Low confidence detected based on FAISS score.\n",
            "FAISS Initialised: Indexed 290 chunks.\n"
          ]
        },
        {
          "name": "stderr",
          "output_type": "stream",
          "text": [
            "Evaluating test examples:  72%|███████▏  | 359/500 [10:27<00:43,  3.24it/s]"
          ]
        },
        {
          "name": "stdout",
          "output_type": "stream",
          "text": [
            "\n",
            "Low confidence detected based on FAISS score.\n",
            "FAISS Initialised: Indexed 290 chunks.\n",
            "\n",
            "Low confidence detected based on FAISS score.\n"
          ]
        },
        {
          "name": "stderr",
          "output_type": "stream",
          "text": [
            "\rEvaluating test examples:  72%|███████▏  | 360/500 [10:27<00:38,  3.62it/s]"
          ]
        },
        {
          "name": "stdout",
          "output_type": "stream",
          "text": [
            "FAISS Initialised: Indexed 290 chunks.\n",
            "\n",
            "Low confidence detected based on FAISS score.\n",
            "FAISS Initialised: Indexed 290 chunks.\n"
          ]
        },
        {
          "name": "stderr",
          "output_type": "stream",
          "text": [
            "Setting `pad_token_id` to `eos_token_id`:2 for open-end generation.\n",
            "Evaluating test examples:  72%|███████▏  | 362/500 [10:35<04:09,  1.81s/it]"
          ]
        },
        {
          "name": "stdout",
          "output_type": "stream",
          "text": [
            "FAISS Initialised: Indexed 290 chunks.\n",
            "\n",
            "Low confidence detected based on FAISS score.\n",
            "FAISS Initialised: Indexed 290 chunks.\n"
          ]
        },
        {
          "name": "stderr",
          "output_type": "stream",
          "text": [
            "\rEvaluating test examples:  73%|███████▎  | 363/500 [10:35<03:01,  1.33s/it]"
          ]
        },
        {
          "name": "stdout",
          "output_type": "stream",
          "text": [
            "\n",
            "Low confidence detected based on FAISS score.\n",
            "FAISS Initialised: Indexed 290 chunks.\n"
          ]
        },
        {
          "name": "stderr",
          "output_type": "stream",
          "text": [
            "Setting `pad_token_id` to `eos_token_id`:2 for open-end generation.\n",
            "Evaluating test examples:  73%|███████▎  | 364/500 [10:40<05:28,  2.42s/it]Setting `pad_token_id` to `eos_token_id`:2 for open-end generation.\n"
          ]
        },
        {
          "name": "stdout",
          "output_type": "stream",
          "text": [
            "FAISS Initialised: Indexed 290 chunks.\n"
          ]
        },
        {
          "name": "stderr",
          "output_type": "stream",
          "text": [
            "\rEvaluating test examples:  73%|███████▎  | 365/500 [10:44<06:34,  2.93s/it]Setting `pad_token_id` to `eos_token_id`:2 for open-end generation.\n"
          ]
        },
        {
          "name": "stdout",
          "output_type": "stream",
          "text": [
            "FAISS Initialised: Indexed 290 chunks.\n"
          ]
        },
        {
          "name": "stderr",
          "output_type": "stream",
          "text": [
            "\rEvaluating test examples:  73%|███████▎  | 366/500 [10:48<07:17,  3.27s/it]Setting `pad_token_id` to `eos_token_id`:2 for open-end generation.\n"
          ]
        },
        {
          "name": "stdout",
          "output_type": "stream",
          "text": [
            "FAISS Initialised: Indexed 290 chunks.\n"
          ]
        },
        {
          "name": "stderr",
          "output_type": "stream",
          "text": [
            "Evaluating test examples:  74%|███████▎  | 368/500 [10:52<05:31,  2.51s/it]"
          ]
        },
        {
          "name": "stdout",
          "output_type": "stream",
          "text": [
            "FAISS Initialised: Indexed 290 chunks.\n",
            "\n",
            "Low confidence detected based on FAISS score.\n"
          ]
        },
        {
          "name": "stderr",
          "output_type": "stream",
          "text": [
            "\rEvaluating test examples:  74%|███████▍  | 369/500 [10:53<03:58,  1.82s/it]Setting `pad_token_id` to `eos_token_id`:2 for open-end generation.\n"
          ]
        },
        {
          "name": "stdout",
          "output_type": "stream",
          "text": [
            "FAISS Initialised: Indexed 290 chunks.\n",
            "\n",
            "Low confidence detected based on FAISS score.\n",
            "FAISS Initialised: Indexed 99 chunks.\n"
          ]
        },
        {
          "name": "stderr",
          "output_type": "stream",
          "text": [
            "\rEvaluating test examples:  74%|███████▍  | 370/500 [10:55<04:12,  1.94s/it]Setting `pad_token_id` to `eos_token_id`:2 for open-end generation.\n"
          ]
        },
        {
          "name": "stdout",
          "output_type": "stream",
          "text": [
            "FAISS Initialised: Indexed 99 chunks.\n"
          ]
        },
        {
          "name": "stderr",
          "output_type": "stream",
          "text": [
            "\rEvaluating test examples:  74%|███████▍  | 371/500 [10:58<05:06,  2.38s/it]Setting `pad_token_id` to `eos_token_id`:2 for open-end generation.\n"
          ]
        },
        {
          "name": "stdout",
          "output_type": "stream",
          "text": [
            "FAISS Initialised: Indexed 99 chunks.\n"
          ]
        },
        {
          "name": "stderr",
          "output_type": "stream",
          "text": [
            "\rEvaluating test examples:  74%|███████▍  | 372/500 [11:02<05:42,  2.67s/it]Setting `pad_token_id` to `eos_token_id`:2 for open-end generation.\n"
          ]
        },
        {
          "name": "stdout",
          "output_type": "stream",
          "text": [
            "FAISS Initialised: Indexed 99 chunks.\n"
          ]
        },
        {
          "name": "stderr",
          "output_type": "stream",
          "text": [
            "\rEvaluating test examples:  75%|███████▍  | 373/500 [11:05<06:07,  2.89s/it]Setting `pad_token_id` to `eos_token_id`:2 for open-end generation.\n"
          ]
        },
        {
          "name": "stdout",
          "output_type": "stream",
          "text": [
            "FAISS Initialised: Indexed 99 chunks.\n"
          ]
        },
        {
          "name": "stderr",
          "output_type": "stream",
          "text": [
            "\rEvaluating test examples:  75%|███████▍  | 374/500 [11:08<06:22,  3.04s/it]Setting `pad_token_id` to `eos_token_id`:2 for open-end generation.\n"
          ]
        },
        {
          "name": "stdout",
          "output_type": "stream",
          "text": [
            "FAISS Initialised: Indexed 99 chunks.\n"
          ]
        },
        {
          "name": "stderr",
          "output_type": "stream",
          "text": [
            "Evaluating test examples:  75%|███████▌  | 377/500 [11:12<03:31,  1.72s/it]"
          ]
        },
        {
          "name": "stdout",
          "output_type": "stream",
          "text": [
            "FAISS Initialised: Indexed 99 chunks.\n",
            "\n",
            "Low confidence detected based on FAISS score.\n",
            "FAISS Initialised: Indexed 99 chunks.\n",
            "\n",
            "Low confidence detected based on FAISS score.\n",
            "FAISS Initialised: Indexed 99 chunks.\n",
            "\n",
            "Low confidence detected based on FAISS score.\n"
          ]
        },
        {
          "name": "stderr",
          "output_type": "stream",
          "text": [
            "\rEvaluating test examples:  76%|███████▌  | 379/500 [11:12<02:09,  1.07s/it]Setting `pad_token_id` to `eos_token_id`:2 for open-end generation.\n"
          ]
        },
        {
          "name": "stdout",
          "output_type": "stream",
          "text": [
            "FAISS Initialised: Indexed 99 chunks.\n",
            "\n",
            "Low confidence detected based on FAISS score.\n",
            "FAISS Initialised: Indexed 99 chunks.\n"
          ]
        },
        {
          "name": "stderr",
          "output_type": "stream",
          "text": [
            "Evaluating test examples:  76%|███████▋  | 382/500 [11:16<02:10,  1.11s/it]"
          ]
        },
        {
          "name": "stdout",
          "output_type": "stream",
          "text": [
            "FAISS Initialised: Indexed 99 chunks.\n",
            "\n",
            "Low confidence detected based on FAISS score.\n",
            "FAISS Initialised: Indexed 99 chunks.\n",
            "\n",
            "Low confidence detected based on FAISS score.\n",
            "FAISS Initialised: Indexed 99 chunks.\n",
            "\n",
            "Low confidence detected based on FAISS score.\n"
          ]
        },
        {
          "name": "stderr",
          "output_type": "stream",
          "text": [
            "Setting `pad_token_id` to `eos_token_id`:2 for open-end generation.\n"
          ]
        },
        {
          "name": "stdout",
          "output_type": "stream",
          "text": [
            "FAISS Initialised: Indexed 99 chunks.\n"
          ]
        },
        {
          "name": "stderr",
          "output_type": "stream",
          "text": [
            "\rEvaluating test examples:  77%|███████▋  | 384/500 [11:21<03:02,  1.58s/it]Setting `pad_token_id` to `eos_token_id`:2 for open-end generation.\n"
          ]
        },
        {
          "name": "stdout",
          "output_type": "stream",
          "text": [
            "FAISS Initialised: Indexed 99 chunks.\n",
            "\n",
            "Low confidence detected based on FAISS score.\n",
            "FAISS Initialised: Indexed 99 chunks.\n"
          ]
        },
        {
          "name": "stderr",
          "output_type": "stream",
          "text": [
            "Evaluating test examples:  78%|███████▊  | 388/500 [11:27<02:34,  1.38s/it]"
          ]
        },
        {
          "name": "stdout",
          "output_type": "stream",
          "text": [
            "FAISS Initialised: Indexed 99 chunks.\n",
            "\n",
            "Low confidence detected based on FAISS score.\n",
            "FAISS Initialised: Indexed 99 chunks.\n",
            "\n",
            "Low confidence detected based on FAISS score.\n",
            "FAISS Initialised: Indexed 99 chunks.\n",
            "\n",
            "Low confidence detected based on FAISS score.\n"
          ]
        },
        {
          "name": "stderr",
          "output_type": "stream",
          "text": [
            "Setting `pad_token_id` to `eos_token_id`:2 for open-end generation.\n"
          ]
        },
        {
          "name": "stdout",
          "output_type": "stream",
          "text": [
            "FAISS Initialised: Indexed 99 chunks.\n"
          ]
        },
        {
          "name": "stderr",
          "output_type": "stream",
          "text": [
            "\rEvaluating test examples:  78%|███████▊  | 390/500 [11:35<04:04,  2.22s/it]Setting `pad_token_id` to `eos_token_id`:2 for open-end generation.\n"
          ]
        },
        {
          "name": "stdout",
          "output_type": "stream",
          "text": [
            "FAISS Initialised: Indexed 99 chunks.\n",
            "\n",
            "Low confidence detected based on FAISS score.\n",
            "FAISS Initialised: Indexed 99 chunks.\n"
          ]
        },
        {
          "name": "stderr",
          "output_type": "stream",
          "text": [
            "\rEvaluating test examples:  78%|███████▊  | 392/500 [11:41<04:19,  2.40s/it]Setting `pad_token_id` to `eos_token_id`:2 for open-end generation.\n"
          ]
        },
        {
          "name": "stdout",
          "output_type": "stream",
          "text": [
            "FAISS Initialised: Indexed 99 chunks.\n",
            "\n",
            "Low confidence detected based on FAISS score.\n",
            "FAISS Initialised: Indexed 99 chunks.\n"
          ]
        },
        {
          "name": "stderr",
          "output_type": "stream",
          "text": [
            "Evaluating test examples:  79%|███████▉  | 396/500 [11:44<02:34,  1.49s/it]"
          ]
        },
        {
          "name": "stdout",
          "output_type": "stream",
          "text": [
            "FAISS Initialised: Indexed 99 chunks.\n",
            "\n",
            "Low confidence detected based on FAISS score.\n",
            "FAISS Initialised: Indexed 99 chunks.\n",
            "\n",
            "Low confidence detected based on FAISS score.\n",
            "FAISS Initialised: Indexed 99 chunks.\n",
            "\n",
            "Low confidence detected based on FAISS score.\n"
          ]
        },
        {
          "name": "stderr",
          "output_type": "stream",
          "text": [
            "Evaluating test examples:  80%|████████  | 400/500 [11:44<01:16,  1.31it/s]"
          ]
        },
        {
          "name": "stdout",
          "output_type": "stream",
          "text": [
            "FAISS Initialised: Indexed 99 chunks.\n",
            "\n",
            "Low confidence detected based on FAISS score.\n",
            "FAISS Initialised: Indexed 99 chunks.\n",
            "\n",
            "Low confidence detected based on FAISS score.\n",
            "FAISS Initialised: Indexed 99 chunks.\n",
            "\n",
            "Low confidence detected based on FAISS score.\n"
          ]
        },
        {
          "name": "stderr",
          "output_type": "stream",
          "text": [
            "\rEvaluating test examples:  80%|████████  | 402/500 [11:44<00:54,  1.80it/s]Setting `pad_token_id` to `eos_token_id`:2 for open-end generation.\n"
          ]
        },
        {
          "name": "stdout",
          "output_type": "stream",
          "text": [
            "FAISS Initialised: Indexed 99 chunks.\n",
            "\n",
            "Low confidence detected based on FAISS score.\n",
            "FAISS Initialised: Indexed 99 chunks.\n",
            "\n",
            "Low confidence detected based on FAISS score.\n",
            "FAISS Initialised: Indexed 99 chunks.\n"
          ]
        },
        {
          "name": "stderr",
          "output_type": "stream",
          "text": [
            "Evaluating test examples:  81%|████████  | 406/500 [11:51<01:31,  1.03it/s]"
          ]
        },
        {
          "name": "stdout",
          "output_type": "stream",
          "text": [
            "FAISS Initialised: Indexed 99 chunks.\n",
            "\n",
            "Low confidence detected based on FAISS score.\n",
            "FAISS Initialised: Indexed 99 chunks.\n",
            "\n",
            "Low confidence detected based on FAISS score.\n",
            "FAISS Initialised: Indexed 99 chunks.\n",
            "\n",
            "Low confidence detected based on FAISS score.\n"
          ]
        },
        {
          "name": "stderr",
          "output_type": "stream",
          "text": [
            "Setting `pad_token_id` to `eos_token_id`:2 for open-end generation.\n"
          ]
        },
        {
          "name": "stdout",
          "output_type": "stream",
          "text": [
            "FAISS Initialised: Indexed 99 chunks.\n"
          ]
        },
        {
          "name": "stderr",
          "output_type": "stream",
          "text": [
            "Evaluating test examples:  82%|████████▏ | 409/500 [11:56<01:44,  1.15s/it]Setting `pad_token_id` to `eos_token_id`:2 for open-end generation.\n"
          ]
        },
        {
          "name": "stdout",
          "output_type": "stream",
          "text": [
            "FAISS Initialised: Indexed 99 chunks.\n",
            "\n",
            "Low confidence detected based on FAISS score.\n",
            "FAISS Initialised: Indexed 99 chunks.\n",
            "\n",
            "Low confidence detected based on FAISS score.\n",
            "FAISS Initialised: Indexed 99 chunks.\n"
          ]
        },
        {
          "name": "stderr",
          "output_type": "stream",
          "text": [
            "\rEvaluating test examples:  82%|████████▏ | 410/500 [12:05<03:49,  2.55s/it]Setting `pad_token_id` to `eos_token_id`:2 for open-end generation.\n"
          ]
        },
        {
          "name": "stdout",
          "output_type": "stream",
          "text": [
            "FAISS Initialised: Indexed 99 chunks.\n",
            "\n",
            "Low confidence detected based on FAISS score.\n",
            "FAISS Initialised: Indexed 99 chunks.\n"
          ]
        },
        {
          "name": "stderr",
          "output_type": "stream",
          "text": [
            "\rEvaluating test examples:  82%|████████▏ | 412/500 [12:10<03:52,  2.64s/it]Setting `pad_token_id` to `eos_token_id`:2 for open-end generation.\n"
          ]
        },
        {
          "name": "stdout",
          "output_type": "stream",
          "text": [
            "FAISS Initialised: Indexed 99 chunks.\n"
          ]
        },
        {
          "name": "stderr",
          "output_type": "stream",
          "text": [
            "\rEvaluating test examples:  83%|████████▎ | 413/500 [12:16<04:41,  3.23s/it]Setting `pad_token_id` to `eos_token_id`:2 for open-end generation.\n"
          ]
        },
        {
          "name": "stdout",
          "output_type": "stream",
          "text": [
            "FAISS Initialised: Indexed 99 chunks.\n"
          ]
        },
        {
          "name": "stderr",
          "output_type": "stream",
          "text": [
            "\rEvaluating test examples:  83%|████████▎ | 414/500 [12:19<04:35,  3.20s/it]Setting `pad_token_id` to `eos_token_id`:2 for open-end generation.\n"
          ]
        },
        {
          "name": "stdout",
          "output_type": "stream",
          "text": [
            "FAISS Initialised: Indexed 99 chunks.\n"
          ]
        },
        {
          "name": "stderr",
          "output_type": "stream",
          "text": [
            "\rEvaluating test examples:  83%|████████▎ | 415/500 [12:22<04:30,  3.19s/it]Setting `pad_token_id` to `eos_token_id`:2 for open-end generation.\n"
          ]
        },
        {
          "name": "stdout",
          "output_type": "stream",
          "text": [
            "FAISS Initialised: Indexed 99 chunks.\n"
          ]
        },
        {
          "name": "stderr",
          "output_type": "stream",
          "text": [
            "\rEvaluating test examples:  83%|████████▎ | 416/500 [12:25<04:26,  3.17s/it]Setting `pad_token_id` to `eos_token_id`:2 for open-end generation.\n"
          ]
        },
        {
          "name": "stdout",
          "output_type": "stream",
          "text": [
            "FAISS Initialised: Indexed 99 chunks.\n"
          ]
        },
        {
          "name": "stderr",
          "output_type": "stream",
          "text": [
            "\rEvaluating test examples:  83%|████████▎ | 417/500 [12:28<04:21,  3.16s/it]Setting `pad_token_id` to `eos_token_id`:2 for open-end generation.\n"
          ]
        },
        {
          "name": "stdout",
          "output_type": "stream",
          "text": [
            "FAISS Initialised: Indexed 99 chunks.\n"
          ]
        },
        {
          "name": "stderr",
          "output_type": "stream",
          "text": [
            "\rEvaluating test examples:  84%|████████▎ | 418/500 [12:31<04:17,  3.14s/it]Setting `pad_token_id` to `eos_token_id`:2 for open-end generation.\n"
          ]
        },
        {
          "name": "stdout",
          "output_type": "stream",
          "text": [
            "FAISS Initialised: Indexed 99 chunks.\n"
          ]
        },
        {
          "name": "stderr",
          "output_type": "stream",
          "text": [
            "\rEvaluating test examples:  84%|████████▍ | 419/500 [12:34<04:13,  3.14s/it]Setting `pad_token_id` to `eos_token_id`:2 for open-end generation.\n"
          ]
        },
        {
          "name": "stdout",
          "output_type": "stream",
          "text": [
            "FAISS Initialised: Indexed 99 chunks.\n"
          ]
        },
        {
          "name": "stderr",
          "output_type": "stream",
          "text": [
            "\rEvaluating test examples:  84%|████████▍ | 420/500 [12:38<04:10,  3.13s/it]Setting `pad_token_id` to `eos_token_id`:2 for open-end generation.\n"
          ]
        },
        {
          "name": "stdout",
          "output_type": "stream",
          "text": [
            "FAISS Initialised: Indexed 99 chunks.\n"
          ]
        },
        {
          "name": "stderr",
          "output_type": "stream",
          "text": [
            "\rEvaluating test examples:  84%|████████▍ | 421/500 [12:41<04:07,  3.13s/it]Setting `pad_token_id` to `eos_token_id`:2 for open-end generation.\n"
          ]
        },
        {
          "name": "stdout",
          "output_type": "stream",
          "text": [
            "FAISS Initialised: Indexed 99 chunks.\n"
          ]
        },
        {
          "name": "stderr",
          "output_type": "stream",
          "text": [
            "\rEvaluating test examples:  84%|████████▍ | 422/500 [12:44<04:03,  3.13s/it]Setting `pad_token_id` to `eos_token_id`:2 for open-end generation.\n"
          ]
        },
        {
          "name": "stdout",
          "output_type": "stream",
          "text": [
            "FAISS Initialised: Indexed 99 chunks.\n"
          ]
        },
        {
          "name": "stderr",
          "output_type": "stream",
          "text": [
            "\rEvaluating test examples:  85%|████████▍ | 423/500 [12:47<04:00,  3.13s/it]Setting `pad_token_id` to `eos_token_id`:2 for open-end generation.\n"
          ]
        },
        {
          "name": "stdout",
          "output_type": "stream",
          "text": [
            "FAISS Initialised: Indexed 99 chunks.\n"
          ]
        },
        {
          "name": "stderr",
          "output_type": "stream",
          "text": [
            "\rEvaluating test examples:  85%|████████▍ | 424/500 [12:50<03:57,  3.12s/it]Setting `pad_token_id` to `eos_token_id`:2 for open-end generation.\n"
          ]
        },
        {
          "name": "stdout",
          "output_type": "stream",
          "text": [
            "FAISS Initialised: Indexed 99 chunks.\n"
          ]
        },
        {
          "name": "stderr",
          "output_type": "stream",
          "text": [
            "Evaluating test examples:  85%|████████▌ | 427/500 [12:53<02:05,  1.72s/it]"
          ]
        },
        {
          "name": "stdout",
          "output_type": "stream",
          "text": [
            "FAISS Initialised: Indexed 99 chunks.\n",
            "\n",
            "Low confidence detected based on FAISS score.\n",
            "FAISS Initialised: Indexed 99 chunks.\n",
            "\n",
            "Low confidence detected based on FAISS score.\n",
            "FAISS Initialised: Indexed 33 chunks.\n",
            "\n",
            "Low confidence detected based on FAISS score.\n",
            "FAISS Initialised: Indexed 33 chunks.\n",
            "\n",
            "Low confidence detected based on FAISS score.\n",
            "FAISS Initialised: Indexed 33 chunks.\n",
            "\n",
            "Low confidence detected based on FAISS score.\n"
          ]
        },
        {
          "name": "stderr",
          "output_type": "stream",
          "text": [
            "Evaluating test examples:  87%|████████▋ | 435/500 [12:54<00:28,  2.30it/s]"
          ]
        },
        {
          "name": "stdout",
          "output_type": "stream",
          "text": [
            "FAISS Initialised: Indexed 33 chunks.\n",
            "\n",
            "Low confidence detected based on FAISS score.\n",
            "FAISS Initialised: Indexed 33 chunks.\n",
            "\n",
            "Low confidence detected based on FAISS score.\n",
            "FAISS Initialised: Indexed 33 chunks.\n",
            "\n",
            "Low confidence detected based on FAISS score.\n",
            "FAISS Initialised: Indexed 33 chunks.\n",
            "\n",
            "Low confidence detected based on FAISS score.\n",
            "FAISS Initialised: Indexed 33 chunks.\n",
            "\n",
            "Low confidence detected based on FAISS score.\n",
            "FAISS Initialised: Indexed 33 chunks.\n",
            "\n",
            "Low confidence detected based on FAISS score.\n",
            "FAISS Initialised: Indexed 33 chunks.\n",
            "\n",
            "Low confidence detected based on FAISS score.\n"
          ]
        },
        {
          "name": "stderr",
          "output_type": "stream",
          "text": [
            "Evaluating test examples:  89%|████████▊ | 443/500 [12:54<00:10,  5.26it/s]"
          ]
        },
        {
          "name": "stdout",
          "output_type": "stream",
          "text": [
            "FAISS Initialised: Indexed 33 chunks.\n",
            "\n",
            "Low confidence detected based on FAISS score.\n",
            "FAISS Initialised: Indexed 33 chunks.\n",
            "\n",
            "Low confidence detected based on FAISS score.\n",
            "FAISS Initialised: Indexed 33 chunks.\n",
            "\n",
            "Low confidence detected based on FAISS score.\n",
            "FAISS Initialised: Indexed 33 chunks.\n",
            "\n",
            "Low confidence detected based on FAISS score.\n",
            "FAISS Initialised: Indexed 33 chunks.\n",
            "\n",
            "Low confidence detected based on FAISS score.\n",
            "FAISS Initialised: Indexed 33 chunks.\n",
            "\n",
            "Low confidence detected based on FAISS score.\n",
            "FAISS Initialised: Indexed 33 chunks.\n"
          ]
        },
        {
          "name": "stderr",
          "output_type": "stream",
          "text": [
            "\rEvaluating test examples:  89%|████████▉ | 447/500 [12:54<00:07,  7.31it/s]"
          ]
        },
        {
          "name": "stdout",
          "output_type": "stream",
          "text": [
            "\n",
            "Low confidence detected based on FAISS score.\n",
            "FAISS Initialised: Indexed 33 chunks.\n",
            "\n",
            "Low confidence detected based on FAISS score.\n",
            "FAISS Initialised: Indexed 33 chunks.\n",
            "\n",
            "Low confidence detected based on FAISS score.\n",
            "FAISS Initialised: Indexed 33 chunks.\n",
            "\n",
            "Low confidence detected based on FAISS score.\n",
            "FAISS Initialised: Indexed 33 chunks.\n",
            "\n",
            "Low confidence detected based on FAISS score.\n",
            "FAISS Initialised: Indexed 33 chunks.\n",
            "\n",
            "Low confidence detected based on FAISS score.\n",
            "FAISS Initialised: Indexed 33 chunks.\n",
            "\n",
            "Low confidence detected based on FAISS score.\n"
          ]
        },
        {
          "name": "stderr",
          "output_type": "stream",
          "text": [
            "\rEvaluating test examples:  90%|█████████ | 451/500 [12:54<00:05,  9.74it/s]Setting `pad_token_id` to `eos_token_id`:2 for open-end generation.\n"
          ]
        },
        {
          "name": "stdout",
          "output_type": "stream",
          "text": [
            "FAISS Initialised: Indexed 33 chunks.\n",
            "\n",
            "Low confidence detected based on FAISS score.\n",
            "FAISS Initialised: Indexed 33 chunks.\n",
            "\n",
            "Low confidence detected based on FAISS score.\n",
            "FAISS Initialised: Indexed 33 chunks.\n",
            "\n",
            "Low confidence detected based on FAISS score.\n",
            "FAISS Initialised: Indexed 33 chunks.\n",
            "\n",
            "Low confidence detected based on FAISS score.\n",
            "FAISS Initialised: Indexed 33 chunks.\n"
          ]
        },
        {
          "name": "stderr",
          "output_type": "stream",
          "text": [
            "Evaluating test examples:  92%|█████████▏| 459/500 [13:00<00:15,  2.58it/s]"
          ]
        },
        {
          "name": "stdout",
          "output_type": "stream",
          "text": [
            "FAISS Initialised: Indexed 33 chunks.\n",
            "\n",
            "Low confidence detected based on FAISS score.\n",
            "FAISS Initialised: Indexed 33 chunks.\n",
            "\n",
            "Low confidence detected based on FAISS score.\n",
            "FAISS Initialised: Indexed 33 chunks.\n",
            "\n",
            "Low confidence detected based on FAISS score.\n",
            "FAISS Initialised: Indexed 33 chunks.\n",
            "\n",
            "Low confidence detected based on FAISS score.\n",
            "FAISS Initialised: Indexed 33 chunks.\n",
            "\n",
            "Low confidence detected based on FAISS score.\n",
            "FAISS Initialised: Indexed 33 chunks.\n",
            "\n",
            "Low confidence detected based on FAISS score.\n",
            "FAISS Initialised: Indexed 33 chunks.\n"
          ]
        },
        {
          "name": "stderr",
          "output_type": "stream",
          "text": [
            "Evaluating test examples:  93%|█████████▎| 465/500 [13:00<00:08,  4.35it/s]"
          ]
        },
        {
          "name": "stdout",
          "output_type": "stream",
          "text": [
            "\n",
            "Low confidence detected based on FAISS score.\n",
            "FAISS Initialised: Indexed 33 chunks.\n",
            "\n",
            "Low confidence detected based on FAISS score.\n",
            "FAISS Initialised: Indexed 33 chunks.\n",
            "\n",
            "Low confidence detected based on FAISS score.\n",
            "FAISS Initialised: Indexed 33 chunks.\n",
            "\n",
            "Low confidence detected based on FAISS score.\n",
            "FAISS Initialised: Indexed 33 chunks.\n",
            "\n",
            "Low confidence detected based on FAISS score.\n",
            "FAISS Initialised: Indexed 33 chunks.\n",
            "\n",
            "Low confidence detected based on FAISS score.\n",
            "FAISS Initialised: Indexed 33 chunks.\n"
          ]
        },
        {
          "name": "stderr",
          "output_type": "stream",
          "text": [
            "Evaluating test examples:  94%|█████████▍| 472/500 [13:01<00:03,  7.71it/s]Setting `pad_token_id` to `eos_token_id`:2 for open-end generation.\n"
          ]
        },
        {
          "name": "stdout",
          "output_type": "stream",
          "text": [
            "\n",
            "Low confidence detected based on FAISS score.\n",
            "FAISS Initialised: Indexed 33 chunks.\n",
            "\n",
            "Low confidence detected based on FAISS score.\n",
            "FAISS Initialised: Indexed 33 chunks.\n",
            "\n",
            "Low confidence detected based on FAISS score.\n",
            "FAISS Initialised: Indexed 33 chunks.\n",
            "\n",
            "Low confidence detected based on FAISS score.\n",
            "FAISS Initialised: Indexed 33 chunks.\n",
            "\n",
            "Low confidence detected based on FAISS score.\n",
            "FAISS Initialised: Indexed 18 chunks.\n",
            "\n",
            "Low confidence detected based on FAISS score.\n",
            "FAISS Initialised: Indexed 18 chunks.\n"
          ]
        },
        {
          "name": "stderr",
          "output_type": "stream",
          "text": [
            "Setting `pad_token_id` to `eos_token_id`:2 for open-end generation.\n"
          ]
        },
        {
          "name": "stdout",
          "output_type": "stream",
          "text": [
            "FAISS Initialised: Indexed 18 chunks.\n"
          ]
        },
        {
          "name": "stderr",
          "output_type": "stream",
          "text": [
            "\rEvaluating test examples:  95%|█████████▌| 475/500 [13:14<00:31,  1.27s/it]Setting `pad_token_id` to `eos_token_id`:2 for open-end generation.\n"
          ]
        },
        {
          "name": "stdout",
          "output_type": "stream",
          "text": [
            "FAISS Initialised: Indexed 18 chunks.\n"
          ]
        },
        {
          "name": "stderr",
          "output_type": "stream",
          "text": [
            "Evaluating test examples:  96%|█████████▌| 480/500 [13:20<00:22,  1.13s/it]Setting `pad_token_id` to `eos_token_id`:2 for open-end generation.\n"
          ]
        },
        {
          "name": "stdout",
          "output_type": "stream",
          "text": [
            "FAISS Initialised: Indexed 18 chunks.\n",
            "\n",
            "Low confidence detected based on FAISS score.\n",
            "FAISS Initialised: Indexed 18 chunks.\n",
            "\n",
            "Low confidence detected based on FAISS score.\n",
            "FAISS Initialised: Indexed 18 chunks.\n",
            "\n",
            "Low confidence detected based on FAISS score.\n",
            "FAISS Initialised: Indexed 18 chunks.\n",
            "\n",
            "Low confidence detected based on FAISS score.\n",
            "FAISS Initialised: Indexed 18 chunks.\n",
            "\n",
            "Low confidence detected based on FAISS score.\n",
            "FAISS Initialised: Indexed 18 chunks.\n",
            "\n",
            "Low confidence detected based on FAISS score.\n",
            "FAISS Initialised: Indexed 18 chunks.\n",
            "\n",
            "Low confidence detected based on FAISS score.\n",
            "FAISS Initialised: Indexed 18 chunks.\n"
          ]
        },
        {
          "name": "stderr",
          "output_type": "stream",
          "text": [
            "\rEvaluating test examples:  97%|█████████▋| 484/500 [13:25<00:18,  1.16s/it]Setting `pad_token_id` to `eos_token_id`:2 for open-end generation.\n"
          ]
        },
        {
          "name": "stdout",
          "output_type": "stream",
          "text": [
            "FAISS Initialised: Indexed 18 chunks.\n"
          ]
        },
        {
          "name": "stderr",
          "output_type": "stream",
          "text": [
            "Setting `pad_token_id` to `eos_token_id`:2 for open-end generation.\n"
          ]
        },
        {
          "name": "stdout",
          "output_type": "stream",
          "text": [
            "FAISS Initialised: Indexed 18 chunks.\n"
          ]
        },
        {
          "name": "stderr",
          "output_type": "stream",
          "text": [
            "\rEvaluating test examples:  97%|█████████▋| 486/500 [13:34<00:26,  1.86s/it]Setting `pad_token_id` to `eos_token_id`:2 for open-end generation.\n"
          ]
        },
        {
          "name": "stdout",
          "output_type": "stream",
          "text": [
            "FAISS Initialised: Indexed 18 chunks.\n",
            "\n",
            "Low confidence detected based on FAISS score.\n",
            "FAISS Initialised: Indexed 18 chunks.\n",
            "\n",
            "Low confidence detected based on FAISS score.\n",
            "FAISS Initialised: Indexed 18 chunks.\n"
          ]
        },
        {
          "name": "stderr",
          "output_type": "stream",
          "text": [
            "\rEvaluating test examples:  98%|█████████▊| 489/500 [13:39<00:19,  1.77s/it]Setting `pad_token_id` to `eos_token_id`:2 for open-end generation.\n"
          ]
        },
        {
          "name": "stdout",
          "output_type": "stream",
          "text": [
            "FAISS Initialised: Indexed 18 chunks.\n",
            "\n",
            "Low confidence detected based on FAISS score.\n",
            "FAISS Initialised: Indexed 18 chunks.\n",
            "\n",
            "Low confidence detected based on FAISS score.\n",
            "FAISS Initialised: Indexed 18 chunks.\n",
            "\n",
            "Low confidence detected based on FAISS score.\n",
            "FAISS Initialised: Indexed 18 chunks.\n"
          ]
        },
        {
          "name": "stderr",
          "output_type": "stream",
          "text": [
            "Evaluating test examples: 100%|██████████| 500/500 [13:43<00:00,  1.65s/it]\n"
          ]
        },
        {
          "name": "stdout",
          "output_type": "stream",
          "text": [
            "FAISS Initialised: Indexed 18 chunks.\n",
            "\n",
            "Low confidence detected based on FAISS score.\n",
            "FAISS Initialised: Indexed 18 chunks.\n",
            "\n",
            "Low confidence detected based on FAISS score.\n",
            "FAISS Initialised: Indexed 18 chunks.\n",
            "\n",
            "Low confidence detected based on FAISS score.\n",
            "FAISS Initialised: Indexed 18 chunks.\n",
            "\n",
            "Low confidence detected based on FAISS score.\n",
            "FAISS Initialised: Indexed 18 chunks.\n",
            "\n",
            "Low confidence detected based on FAISS score.\n",
            "FAISS Initialised: Indexed 18 chunks.\n",
            "\n",
            "Low confidence detected based on FAISS score.\n",
            "FAISS Initialised: Indexed 18 chunks.\n",
            "\n",
            "Low confidence detected based on FAISS score.\n",
            "\n",
            "Overall Evaluation Results:\n",
            "{'avg_semantic_similarity': 0.5423360238559544, 'avg_bert_score': 0.635531015753746, 'avg_rouge_l_f1': 0.47552543838159717, 'avg_eval_time_sec': 1.6343702850341797}\n",
            "Saved overall evaluation results to overall_evaluation_results.json\n",
            "Saved evaluation details to ./detailed_evaluation_results.csv\n"
          ]
        },
        {
          "data": {
            "image/png": "[encoded data removed]",
            "text/plain": [
              "<Figure size 1000x600 with 1 Axes>"
            ]
          },
          "metadata": {},
          "output_type": "display_data"
        },
        {
          "name": "stdout",
          "output_type": "stream",
          "text": [
            "Saved model comparison plot to ./model_comparison.png\n"
          ]
        },
        {
          "data": {
            "image/png": "[encoded data removed]",
            "text/plain": [
              "<Figure size 1000x600 with 1 Axes>"
            ]
          },
          "metadata": {},
          "output_type": "display_data"
        },
        {
          "name": "stdout",
          "output_type": "stream",
          "text": [
            "Saved evaluation time plot to ./evaluation_time.png\n"
          ]
        },
        {
          "data": {
            "image/png": "[encoded data removed]",
            "text/plain": [
              "<Figure size 1200x600 with 1 Axes>"
            ]
          },
          "metadata": {},
          "output_type": "display_data"
        }
      ],
      "source": [
        "#!/usr/bin/env python\n",
        "import argparse\n",
        "import json\n",
        "import time\n",
        "import re\n",
        "import os\n",
        "import csv\n",
        "import numpy as np\n",
        "import torch\n",
        "import faiss\n",
        "import matplotlib.pyplot as plt\n",
        "import evaluate\n",
        "\n",
        "from transformers import AutoTokenizer, AutoModelForCausalLM\n",
        "from sentence_transformers import SentenceTransformer, util\n",
        "from peft import LoraConfig, get_peft_model\n",
        "from rouge import Rouge\n",
        "from tqdm import tqdm\n",
        "\n",
        "\n",
        "\n",
        "# ========================================================\n",
        "# 1. Mount Google Drive\n",
        "# ========================================================\n",
        "\n",
        "from google.colab import drive\n",
        "drive.mount('/content/drive')\n",
        "\n",
        "\n",
        "file_path = \"/content/drive/My Drive/Dissertation/cuad_qa_dataset.json\"\n",
        "\n",
        "\n",
        "# --- Helper Functions ---\n",
        "\n",
        "\n",
        "def preprocess_paragraph(paragraph):\n",
        "    cleaned = re.sub(r\"\\n+\", \" \", paragraph)\n",
        "    cleaned = re.sub(r\"\\s+\", \" \", cleaned).strip()\n",
        "    return cleaned\n",
        "\n",
        "\n",
        "\n",
        "def build_faiss_index(context, embedding_model, chunk_size=512, overlap=128):\n",
        "    \"\"\"\n",
        "    Splits the context into fixed-length overlapping chunks,\n",
        "    preprocesses them, and builds a FAISS index.\n",
        "    \"\"\"\n",
        "    # Create overlapping chunks from the text\n",
        "    chunks = []\n",
        "    start = 0\n",
        "    while start < len(context):\n",
        "        chunk = context[start : start + chunk_size]\n",
        "        chunks.append(chunk)\n",
        "        start += (chunk_size - overlap)  # advance by chunk_size minus the overlap\n",
        "\n",
        "    preprocessed_chunks = [preprocess_paragraph(chunk) for chunk in chunks if chunk.strip()]\n",
        "\n",
        "    # Compute embeddings for all chunks\n",
        "    chunk_embeddings = embedding_model.encode(preprocessed_chunks, convert_to_tensor=False)\n",
        "    chunk_embeddings_np = np.array(chunk_embeddings).astype(\"float32\")\n",
        "    # Normalize embeddings for cosine similarity (or for L2 index)\n",
        "    norms = np.linalg.norm(chunk_embeddings_np, axis=1, keepdims=True)\n",
        "    chunk_embeddings_np = chunk_embeddings_np / norms\n",
        "    embedding_dim = chunk_embeddings_np.shape[1]\n",
        "    index = faiss.IndexFlatL2(embedding_dim)\n",
        "    index.add(chunk_embeddings_np)\n",
        "    print(f\"FAISS Initialised: Indexed {index.ntotal} chunks.\")\n",
        "\n",
        "    preprocessed_paragraphs = preprocessed_chunks\n",
        "\n",
        "    return index, preprocessed_paragraphs\n",
        "\n",
        "\n",
        "\n",
        "# def build_faiss_index(context, embedding_model):\n",
        "#     \"\"\"Splits the context into paragraphs, preprocesses them, and builds a FAISS index.\"\"\"\n",
        "#     raw_paragraphs = context.split(\"\\n\\n\")\n",
        "#     preprocessed_paragraphs = [preprocess_paragraph(p) for p in raw_paragraphs if p.strip()]\n",
        "#     # Compute embeddings for all paragraphs\n",
        "#     paragraph_embeddings = embedding_model.encode(preprocessed_paragraphs, convert_to_tensor=False)\n",
        "#     paragraph_embeddings_np = np.array(paragraph_embeddings).astype(\"float32\")\n",
        "#     # Normalize embeddings for cosine similarity (if using L2, normalized vectors can be compared)\n",
        "#     norms = np.linalg.norm(paragraph_embeddings_np, axis=1, keepdims=True)\n",
        "#     paragraph_embeddings_np = paragraph_embeddings_np / norms\n",
        "#     embedding_dim = paragraph_embeddings_np.shape[1]\n",
        "#     index = faiss.IndexFlatL2(embedding_dim)\n",
        "#     index.add(paragraph_embeddings_np)\n",
        "#     print(f\"FAISS Initialised: Indexed {index.ntotal} paragraphs.\")\n",
        "#     return index, preprocessed_paragraphs\n",
        "\n",
        "def retrieve_context(question, embedding_model, index, preprocessed_paragraphs, k=3, threshold=1):\n",
        "    \"\"\"Encodes the question and retrieves top k similar paragraphs. Uses a threshold to decide confidence.\"\"\"\n",
        "    question_embedding = embedding_model.encode([question]).astype(\"float32\")\n",
        "    question_embedding /= np.linalg.norm(question_embedding, axis=1, keepdims=True)\n",
        "    distances, indices = index.search(question_embedding, k)\n",
        "    best_distance = distances[0][0]\n",
        "    if best_distance > threshold:\n",
        "        print(\"\\nLow confidence detected based on FAISS score.\")\n",
        "        return None  # Indicates low confidence\n",
        "\n",
        "    selected_paragraphs = [preprocessed_paragraphs[i] for i in indices[0]]\n",
        "    return \"\\n\\n\".join(selected_paragraphs)\n",
        "\n",
        "def generate_answer(question, retrieved_context, tokenizer, model, device, gen_max_length=50):\n",
        "    \"\"\"Builds the final prompt and uses the generative model to produce an answer.\"\"\"\n",
        "    final_prompt = (\n",
        "        \"Answer the question in one or two sentences. \"\n",
        "        \"Do not repeat the question or the context; only provide the final answer.\\n\"\n",
        "        f\"Question: {question}\\n\"\n",
        "        f\"Context: {retrieved_context}\\n\"\n",
        "        \"Final Answer:\"\n",
        "    )\n",
        "    inputs = tokenizer(final_prompt, return_tensors=\"pt\", truncation=True, max_length=1024)\n",
        "    inputs = {k: v.to(device) for k, v in inputs.items()}\n",
        "    torch.cuda.empty_cache()\n",
        "    generated_ids = model.generate(**inputs, max_new_tokens=gen_max_length)\n",
        "    generated_text = tokenizer.decode(generated_ids[0], skip_special_tokens=True)\n",
        "    if \"Final Answer:\" in generated_text:\n",
        "        answer = generated_text.split(\"Final Answer:\")[-1].strip()\n",
        "    else:\n",
        "        answer = generated_text.strip()\n",
        "    return answer\n",
        "\n",
        "def evaluate_generative_predictions(test_examples, tokenizer, model, sbert_model,bertscore_metric, rouge_metric, device, embedding_model):\n",
        "    results_details = []\n",
        "    semantic_scores = []\n",
        "    bert_scores = []\n",
        "    rouge_scores = []\n",
        "    times = []\n",
        "\n",
        "    for entry in tqdm(test_examples, desc=\"Evaluating test examples\"):\n",
        "        ex_id = entry[\"id\"]\n",
        "        question = entry[\"question\"]\n",
        "        contract_context = entry[\"context\"]\n",
        "        gold_text = entry[\"answers\"][\"text\"][0].strip() if entry[\"answers\"][\"text\"] else \"\"\n",
        "\n",
        "        start_time = time.time()\n",
        "        # Build FAISS index for the current contract context\n",
        "        index, paragraphs = build_faiss_index(contract_context, embedding_model)\n",
        "\n",
        "        # Retrieve context from the current contract context\n",
        "        retrieved_context = retrieve_context(question, embedding_model, index, paragraphs)\n",
        "\n",
        "        if retrieved_context is None:\n",
        "            # If retrieval fails, we set the prediction as an empty string\n",
        "            pred_text = \"\"\n",
        "            duration = time.time() - start_time\n",
        "            times.append(duration)\n",
        "        else:\n",
        "            # Build final prompt using the retrieved context\n",
        "            final_prompt = (\n",
        "                \"Answer the question in one or two sentences. \"\n",
        "                \"Do not repeat the question or the context; only provide the final answer.\\n\"\n",
        "                f\"Question: {question}\\n\"\n",
        "                f\"Context: {retrieved_context}\\n\"\n",
        "                \"Final Answer:\"\n",
        "            )\n",
        "\n",
        "            inputs = tokenizer(final_prompt, return_tensors=\"pt\", max_length=1024, truncation=True)\n",
        "            inputs = {k: v.to(device) for k, v in inputs.items()}\n",
        "            generated_ids = model.generate(**inputs, max_length=1024)\n",
        "            duration = time.time() - start_time\n",
        "            times.append(duration)\n",
        "            pred_text = tokenizer.decode(generated_ids[0], skip_special_tokens=True).strip()\n",
        "            # Extract only the final answer part\n",
        "            if \"Final Answer:\" in pred_text:\n",
        "              pred_text = pred_text.split(\"Final Answer:\")[-1].strip()\n",
        "\n",
        "\n",
        "\n",
        "        # Evaluate metrics with proper empty-answer handling.\n",
        "        if gold_text == \"\" and pred_text == \"\":\n",
        "            sem_sim = 1.0\n",
        "            b_score = 1.0\n",
        "            r_score = 1.0\n",
        "        elif gold_text == \"\" or pred_text == \"\":\n",
        "            sem_sim = 0.0\n",
        "            b_score = 0.0\n",
        "            r_score = 0.0\n",
        "        else:\n",
        "            # Compute semantic similarity using cosine similarity of SBERT embeddings.\n",
        "            emb_gold = sbert_model.encode(gold_text, convert_to_tensor=True)\n",
        "            emb_pred = sbert_model.encode(pred_text, convert_to_tensor=True)\n",
        "            sem_sim = float(util.pytorch_cos_sim(emb_gold, emb_pred).item())\n",
        "\n",
        "            # Compute BERTScore using the evaluate library.\n",
        "            b_result = bertscore_metric.compute(predictions=[pred_text], references=[gold_text], lang=\"en\")\n",
        "            b_score = b_result[\"f1\"][0]\n",
        "\n",
        "            # Compute ROUGE-L score.\n",
        "            r = rouge_metric.get_scores(pred_text, gold_text)\n",
        "            r_score = r[0][\"rouge-l\"][\"f\"]\n",
        "\n",
        "        semantic_scores.append(sem_sim)\n",
        "        bert_scores.append(b_score)\n",
        "        rouge_scores.append(r_score)\n",
        "\n",
        "        results_details.append({\n",
        "            \"id\": ex_id,\n",
        "            \"question\": question,\n",
        "            \"gold_answer\": gold_text,\n",
        "            \"model_answer\": pred_text,\n",
        "            \"semantic_similarity\": sem_sim,\n",
        "            \"bert_score\": b_score,\n",
        "            \"rouge_l_f1\": r_score,\n",
        "            \"eval_time_sec\": duration\n",
        "        })\n",
        "\n",
        "    overall_results = {\n",
        "        \"avg_semantic_similarity\": float(np.mean(semantic_scores)),\n",
        "        \"avg_bert_score\": float(np.mean(bert_scores)),\n",
        "        \"avg_rouge_l_f1\": float(np.mean(rouge_scores)),\n",
        "        \"avg_eval_time_sec\": float(np.mean(times))\n",
        "    }\n",
        "\n",
        "    return overall_results, results_details\n",
        "\n",
        "def save_results_to_csv(details, filename):\n",
        "    if details:\n",
        "        keys = details[0].keys()\n",
        "        with open(filename, \"w\", newline=\"\") as f:\n",
        "            dict_writer = csv.DictWriter(f, keys)\n",
        "            dict_writer.writeheader()\n",
        "            dict_writer.writerows(details)\n",
        "        print(f\"Saved evaluation details to {filename}\")\n",
        "    else:\n",
        "        print(\"No details to save.\")\n",
        "\n",
        "\n",
        "def plot_model_comparison(aggregated_results, save_dir=\"./\"):\n",
        "    models = [r[\"model\"] for r in aggregated_results]\n",
        "    avg_rouge = [r[\"avg_rouge_l_f1\"] for r in aggregated_results]\n",
        "    avg_semantic = [r[\"avg_semantic_similarity\"] for r in aggregated_results]\n",
        "    avg_bert = [r[\"avg_bert_score\"] for r in aggregated_results]\n",
        "    avg_time = [r.get(\"avg_eval_time_sec\", 0) for r in aggregated_results]\n",
        "\n",
        "    x = np.arange(len(models))\n",
        "    width = 0.25  # Width for each bar\n",
        "\n",
        "    # Plot metrics comparison\n",
        "    plt.figure(figsize=(10, 6))\n",
        "    plt.bar(x - width, avg_rouge, width, label=\"ROUGE-L\")\n",
        "    plt.bar(x, avg_semantic, width, label=\"Semantic Similarity\")\n",
        "    plt.bar(x + width, avg_bert, width, label=\"BERTScore\")\n",
        "    plt.xlabel(\"Model\")\n",
        "    plt.ylabel(\"Metric Score\")\n",
        "    plt.title(\"Evaluation Metrics Comparison\")\n",
        "    plt.xticks(x, models, rotation=45)\n",
        "    plt.legend()\n",
        "    plt.tight_layout()\n",
        "    # Save the figure to a file\n",
        "    model_comparison_path = os.path.join(save_dir, \"model_comparison.png\")\n",
        "    plt.savefig(model_comparison_path)\n",
        "    plt.show()\n",
        "    print(f\"Saved model comparison plot to {model_comparison_path}\")\n",
        "\n",
        "    # Plot evaluation time per model\n",
        "    plt.figure(figsize=(10, 6))\n",
        "    plt.bar(x, avg_time, width=0.5, color=\"skyblue\")\n",
        "    plt.xlabel(\"Model\")\n",
        "    plt.ylabel(\"Average Evaluation Time (sec)\")\n",
        "    plt.title(\"Evaluation Time per Model\")\n",
        "    plt.xticks(x, models, rotation=45)\n",
        "    plt.tight_layout()\n",
        "    time_plot_path = os.path.join(save_dir, \"evaluation_time.png\")\n",
        "    plt.savefig(time_plot_path)\n",
        "    plt.show()\n",
        "    print(f\"Saved evaluation time plot to {time_plot_path}\")\n",
        "\n",
        "def plot_line_metrics(details, save_dir=\"./\"):\n",
        "    # Extract metric values for each example\n",
        "    indices = list(range(len(details)))\n",
        "    semantic_scores = [d[\"semantic_similarity\"] for d in details]\n",
        "    bert_scores = [d[\"bert_score\"] for d in details]\n",
        "    rouge_scores = [d[\"rouge_l_f1\"] for d in details]\n",
        "\n",
        "    plt.figure(figsize=(12, 6))\n",
        "    plt.plot(indices, semantic_scores, label=\"Semantic Similarity\", marker='o', linestyle='-')\n",
        "    plt.plot(indices, bert_scores, label=\"BERTScore\", marker='o', linestyle='-')\n",
        "    plt.plot(indices, rouge_scores, label=\"ROUGE-L\", marker='o', linestyle='-')\n",
        "\n",
        "    plt.xlabel(\"Example Index\")\n",
        "    plt.ylabel(\"Score\")\n",
        "    plt.title(\"Evaluation Metrics per Example\")\n",
        "    plt.legend()\n",
        "    plt.grid(True)\n",
        "    plt.tight_layout()\n",
        "\n",
        "    line_plot_path = os.path.join(save_dir, \"line_metrics.png\")\n",
        "    plt.savefig(line_plot_path)\n",
        "    plt.show()\n",
        "\n",
        "\n",
        "# --- Main Pipeline ---\n",
        "\n",
        "def main():\n",
        "    # Set up device\n",
        "    device = torch.device(\"cuda\" if torch.cuda.is_available() else \"cpu\")\n",
        "\n",
        "    # Load generative model and tokenizer\n",
        "    model_name = \"mistralai/Mistral-7B-Instruct-v0.2\"\n",
        "    tokenizer = AutoTokenizer.from_pretrained(model_name)\n",
        "    model = AutoModelForCausalLM.from_pretrained(\n",
        "        model_name,\n",
        "        torch_dtype=torch.float16,\n",
        "        device_map=\"auto\",\n",
        "        load_in_4bit=True\n",
        "    )\n",
        "    print(\"✅ Mistral 7B Instruct v0.2 Loaded with QLoRA\")\n",
        "\n",
        "    # Apply QLoRA configuration\n",
        "    qlora_config = LoraConfig(\n",
        "        r=16,\n",
        "        lora_alpha=32,\n",
        "        lora_dropout=0.05,\n",
        "        target_modules=[\"q_proj\", \"v_proj\"],\n",
        "        bias=\"none\",\n",
        "        task_type=\"CAUSAL_LM\"\n",
        "    )\n",
        "    model = get_peft_model(model, qlora_config)\n",
        "    print(\"✅ QLoRA Configured for Mistral Fine-Tuning\")\n",
        "\n",
        "    # Initialize embedding model for retrieval (SBERT)\n",
        "    embedding_model = SentenceTransformer(\"all-MiniLM-L6-v2\")\n",
        "\n",
        "    # Initialize ROUGE metric for evaluation\n",
        "    rouge_metric = Rouge()\n",
        "\n",
        "    # Load the BERTScore metric\n",
        "    bertscore_metric = evaluate.load(\"bertscore\")\n",
        "\n",
        "    # Load your dataset (assuming JSON format with a \"test\" split)\n",
        "    with open(file_path, \"r\", encoding=\"utf-8\") as f:\n",
        "        raw_data = json.load(f)\n",
        "    # For demonstration, we use a small subset\n",
        "    test_examples = raw_data[\"train\"][:500]\n",
        "    print(f\"Loaded {len(test_examples)} test examples.\")\n",
        "\n",
        "\n",
        "    # Evaluate generative predictions over the test examples\n",
        "    overall_results, details = evaluate_generative_predictions(\n",
        "        test_examples, tokenizer, model, embedding_model, bertscore_metric, rouge_metric, device, embedding_model\n",
        "    )\n",
        "\n",
        "    print(\"\\nOverall Evaluation Results:\")\n",
        "    print(overall_results)\n",
        "\n",
        "    # Save overall evaluation results to a JSON file\n",
        "    with open(\"./overall_evaluation_results.json\", \"w\", encoding=\"utf-8\") as f:\n",
        "        json.dump(overall_results, f, indent=4)\n",
        "    print(\"Saved overall evaluation results to overall_evaluation_results.json\")\n",
        "\n",
        "    # Save detailed per-example results to CSV\n",
        "    save_results_to_csv(details, \"./detailed_evaluation_results.csv\")\n",
        "    # For comparison, aggregate results from different models\n",
        "\n",
        "\n",
        "    aggregated_results = []\n",
        "    overall_results[\"model\"] = \"Mistral-7B-Gen\"\n",
        "    aggregated_results.append(overall_results)\n",
        "    # Plot and save bar charts for overall metrics\n",
        "    plot_model_comparison(aggregated_results, save_dir=\"./\")\n",
        "\n",
        "    # Plot and save the line graph for per-example metrics\n",
        "    plot_line_metrics(details, save_dir=\"./\")\n",
        "\n",
        "if __name__ == \"__main__\":\n",
        "    main()"
      ]
    }
  ],
  "metadata": {
    "accelerator": "GPU",
    "colab": {
      "gpuType": "L4",
      "machine_shape": "hm",
      "provenance": []
    },
    "kernelspec": {
      "display_name": "Python 3",
      "name": "python3"
    },
    "language_info": {
      "name": "python"
    },
    "widgets": {
      "application/vnd.jupyter.widget-state+json": {
        "080ef30ce48a4ab49c1a24fa6f154d48": {
          "model_module": "@jupyter-widgets/controls",
          "model_module_version": "1.5.0",
          "model_name": "DescriptionStyleModel",
          "state": {
            "_model_module": "@jupyter-widgets/controls",
            "_model_module_version": "1.5.0",
            "_model_name": "DescriptionStyleModel",
            "_view_count": null,
            "_view_module": "@jupyter-widgets/base",
            "_view_module_version": "1.2.0",
            "_view_name": "StyleView",
            "description_width": ""
          }
        },
        "0c1a3b75863f4cf89e5290638b86a6b2": {
          "model_module": "@jupyter-widgets/controls",
          "model_module_version": "1.5.0",
          "model_name": "HTMLModel",
          "state": {
            "_dom_classes": [],
            "_model_module": "@jupyter-widgets/controls",
            "_model_module_version": "1.5.0",
            "_model_name": "HTMLModel",
            "_view_count": null,
            "_view_module": "@jupyter-widgets/controls",
            "_view_module_version": "1.5.0",
            "_view_name": "HTMLView",
            "description": "",
            "description_tooltip": null,
            "layout": "IPY_MODEL_f4df20e0b6bf42a6a394fe14ab14ebd2",
            "placeholder": "​",
            "style": "IPY_MODEL_1d4f80c66f8849df90084064dd814d07",
            "value": "<center> <img\nsrc=https://huggingface.co/front/assets/huggingface_logo-noborder.svg\nalt='Hugging Face'> <br> Copy a token from <a\nhref=\"https://huggingface.co/settings/tokens\" target=\"_blank\">your Hugging Face\ntokens page</a> and paste it below. <br> Immediately click login after copying\nyour token or it might be stored in plain text in this notebook file. </center>"
          }
        },
        "0ff673334a9b4da2b8b5604108e873e4": {
          "model_module": "@jupyter-widgets/controls",
          "model_module_version": "1.5.0",
          "model_name": "HTMLModel",
          "state": {
            "_dom_classes": [],
            "_model_module": "@jupyter-widgets/controls",
            "_model_module_version": "1.5.0",
            "_model_name": "HTMLModel",
            "_view_count": null,
            "_view_module": "@jupyter-widgets/controls",
            "_view_module_version": "1.5.0",
            "_view_name": "HTMLView",
            "description": "",
            "description_tooltip": null,
            "layout": "IPY_MODEL_22347ebcc8984fc1bfd4492ea441601f",
            "placeholder": "​",
            "style": "IPY_MODEL_6af573d0c9454548b119f433fb069c31",
            "value": " 3/3 [00:09&lt;00:00,  3.04s/it]"
          }
        },
        "10eb8d17c2d349df9eaaed7f09b54802": {
          "model_module": "@jupyter-widgets/base",
          "model_module_version": "1.2.0",
          "model_name": "LayoutModel",
          "state": {
            "_model_module": "@jupyter-widgets/base",
            "_model_module_version": "1.2.0",
            "_model_name": "LayoutModel",
            "_view_count": null,
            "_view_module": "@jupyter-widgets/base",
            "_view_module_version": "1.2.0",
            "_view_name": "LayoutView",
            "align_content": null,
            "align_items": null,
            "align_self": null,
            "border": null,
            "bottom": null,
            "display": null,
            "flex": null,
            "flex_flow": null,
            "grid_area": null,
            "grid_auto_columns": null,
            "grid_auto_flow": null,
            "grid_auto_rows": null,
            "grid_column": null,
            "grid_gap": null,
            "grid_row": null,
            "grid_template_areas": null,
            "grid_template_columns": null,
            "grid_template_rows": null,
            "height": null,
            "justify_content": null,
            "justify_items": null,
            "left": null,
            "margin": null,
            "max_height": null,
            "max_width": null,
            "min_height": null,
            "min_width": null,
            "object_fit": null,
            "object_position": null,
            "order": null,
            "overflow": null,
            "overflow_x": null,
            "overflow_y": null,
            "padding": null,
            "right": null,
            "top": null,
            "visibility": null,
            "width": null
          }
        },
        "16e242e794d0420bbfe90be72b24ae71": {
          "model_module": "@jupyter-widgets/controls",
          "model_module_version": "1.5.0",
          "model_name": "HTMLModel",
          "state": {
            "_dom_classes": [],
            "_model_module": "@jupyter-widgets/controls",
            "_model_module_version": "1.5.0",
            "_model_name": "HTMLModel",
            "_view_count": null,
            "_view_module": "@jupyter-widgets/controls",
            "_view_module_version": "1.5.0",
            "_view_name": "HTMLView",
            "description": "",
            "description_tooltip": null,
            "layout": "IPY_MODEL_10eb8d17c2d349df9eaaed7f09b54802",
            "placeholder": "​",
            "style": "IPY_MODEL_9ed7b50169d846c4a549223cef22a07b",
            "value": "Loading checkpoint shards: 100%"
          }
        },
        "1d4f80c66f8849df90084064dd814d07": {
          "model_module": "@jupyter-widgets/controls",
          "model_module_version": "1.5.0",
          "model_name": "DescriptionStyleModel",
          "state": {
            "_model_module": "@jupyter-widgets/controls",
            "_model_module_version": "1.5.0",
            "_model_name": "DescriptionStyleModel",
            "_view_count": null,
            "_view_module": "@jupyter-widgets/base",
            "_view_module_version": "1.2.0",
            "_view_name": "StyleView",
            "description_width": ""
          }
        },
        "22347ebcc8984fc1bfd4492ea441601f": {
          "model_module": "@jupyter-widgets/base",
          "model_module_version": "1.2.0",
          "model_name": "LayoutModel",
          "state": {
            "_model_module": "@jupyter-widgets/base",
            "_model_module_version": "1.2.0",
            "_model_name": "LayoutModel",
            "_view_count": null,
            "_view_module": "@jupyter-widgets/base",
            "_view_module_version": "1.2.0",
            "_view_name": "LayoutView",
            "align_content": null,
            "align_items": null,
            "align_self": null,
            "border": null,
            "bottom": null,
            "display": null,
            "flex": null,
            "flex_flow": null,
            "grid_area": null,
            "grid_auto_columns": null,
            "grid_auto_flow": null,
            "grid_auto_rows": null,
            "grid_column": null,
            "grid_gap": null,
            "grid_row": null,
            "grid_template_areas": null,
            "grid_template_columns": null,
            "grid_template_rows": null,
            "height": null,
            "justify_content": null,
            "justify_items": null,
            "left": null,
            "margin": null,
            "max_height": null,
            "max_width": null,
            "min_height": null,
            "min_width": null,
            "object_fit": null,
            "object_position": null,
            "order": null,
            "overflow": null,
            "overflow_x": null,
            "overflow_y": null,
            "padding": null,
            "right": null,
            "top": null,
            "visibility": null,
            "width": null
          }
        },
        "268b31b2352b4855a7b6fa8b9fc49775": {
          "model_module": "@jupyter-widgets/base",
          "model_module_version": "1.2.0",
          "model_name": "LayoutModel",
          "state": {
            "_model_module": "@jupyter-widgets/base",
            "_model_module_version": "1.2.0",
            "_model_name": "LayoutModel",
            "_view_count": null,
            "_view_module": "@jupyter-widgets/base",
            "_view_module_version": "1.2.0",
            "_view_name": "LayoutView",
            "align_content": null,
            "align_items": null,
            "align_self": null,
            "border": null,
            "bottom": null,
            "display": null,
            "flex": null,
            "flex_flow": null,
            "grid_area": null,
            "grid_auto_columns": null,
            "grid_auto_flow": null,
            "grid_auto_rows": null,
            "grid_column": null,
            "grid_gap": null,
            "grid_row": null,
            "grid_template_areas": null,
            "grid_template_columns": null,
            "grid_template_rows": null,
            "height": null,
            "justify_content": null,
            "justify_items": null,
            "left": null,
            "margin": null,
            "max_height": null,
            "max_width": null,
            "min_height": null,
            "min_width": null,
            "object_fit": null,
            "object_position": null,
            "order": null,
            "overflow": null,
            "overflow_x": null,
            "overflow_y": null,
            "padding": null,
            "right": null,
            "top": null,
            "visibility": null,
            "width": null
          }
        },
        "287d9f1b514d49cfa045f1703e129145": {
          "model_module": "@jupyter-widgets/base",
          "model_module_version": "1.2.0",
          "model_name": "LayoutModel",
          "state": {
            "_model_module": "@jupyter-widgets/base",
            "_model_module_version": "1.2.0",
            "_model_name": "LayoutModel",
            "_view_count": null,
            "_view_module": "@jupyter-widgets/base",
            "_view_module_version": "1.2.0",
            "_view_name": "LayoutView",
            "align_content": null,
            "align_items": "center",
            "align_self": null,
            "border": null,
            "bottom": null,
            "display": "flex",
            "flex": null,
            "flex_flow": "column",
            "grid_area": null,
            "grid_auto_columns": null,
            "grid_auto_flow": null,
            "grid_auto_rows": null,
            "grid_column": null,
            "grid_gap": null,
            "grid_row": null,
            "grid_template_areas": null,
            "grid_template_columns": null,
            "grid_template_rows": null,
            "height": null,
            "justify_content": null,
            "justify_items": null,
            "left": null,
            "margin": null,
            "max_height": null,
            "max_width": null,
            "min_height": null,
            "min_width": null,
            "object_fit": null,
            "object_position": null,
            "order": null,
            "overflow": null,
            "overflow_x": null,
            "overflow_y": null,
            "padding": null,
            "right": null,
            "top": null,
            "visibility": null,
            "width": "50%"
          }
        },
        "2b583af372fe4ee092e0f3a1e142e568": {
          "model_module": "@jupyter-widgets/base",
          "model_module_version": "1.2.0",
          "model_name": "LayoutModel",
          "state": {
            "_model_module": "@jupyter-widgets/base",
            "_model_module_version": "1.2.0",
            "_model_name": "LayoutModel",
            "_view_count": null,
            "_view_module": "@jupyter-widgets/base",
            "_view_module_version": "1.2.0",
            "_view_name": "LayoutView",
            "align_content": null,
            "align_items": null,
            "align_self": null,
            "border": null,
            "bottom": null,
            "display": null,
            "flex": null,
            "flex_flow": null,
            "grid_area": null,
            "grid_auto_columns": null,
            "grid_auto_flow": null,
            "grid_auto_rows": null,
            "grid_column": null,
            "grid_gap": null,
            "grid_row": null,
            "grid_template_areas": null,
            "grid_template_columns": null,
            "grid_template_rows": null,
            "height": null,
            "justify_content": null,
            "justify_items": null,
            "left": null,
            "margin": null,
            "max_height": null,
            "max_width": null,
            "min_height": null,
            "min_width": null,
            "object_fit": null,
            "object_position": null,
            "order": null,
            "overflow": null,
            "overflow_x": null,
            "overflow_y": null,
            "padding": null,
            "right": null,
            "top": null,
            "visibility": null,
            "width": null
          }
        },
        "37cd0f512d5244ada1c54d9bdf0c6020": {
          "model_module": "@jupyter-widgets/controls",
          "model_module_version": "1.5.0",
          "model_name": "HBoxModel",
          "state": {
            "_dom_classes": [],
            "_model_module": "@jupyter-widgets/controls",
            "_model_module_version": "1.5.0",
            "_model_name": "HBoxModel",
            "_view_count": null,
            "_view_module": "@jupyter-widgets/controls",
            "_view_module_version": "1.5.0",
            "_view_name": "HBoxView",
            "box_style": "",
            "children": [
              "IPY_MODEL_16e242e794d0420bbfe90be72b24ae71",
              "IPY_MODEL_a6331c3d0b3f4bada0f8fb19c0f081fd",
              "IPY_MODEL_0ff673334a9b4da2b8b5604108e873e4"
            ],
            "layout": "IPY_MODEL_268b31b2352b4855a7b6fa8b9fc49775"
          }
        },
        "384871937b6d4a059a9db565ea602300": {
          "model_module": "@jupyter-widgets/base",
          "model_module_version": "1.2.0",
          "model_name": "LayoutModel",
          "state": {
            "_model_module": "@jupyter-widgets/base",
            "_model_module_version": "1.2.0",
            "_model_name": "LayoutModel",
            "_view_count": null,
            "_view_module": "@jupyter-widgets/base",
            "_view_module_version": "1.2.0",
            "_view_name": "LayoutView",
            "align_content": null,
            "align_items": null,
            "align_self": null,
            "border": null,
            "bottom": null,
            "display": null,
            "flex": null,
            "flex_flow": null,
            "grid_area": null,
            "grid_auto_columns": null,
            "grid_auto_flow": null,
            "grid_auto_rows": null,
            "grid_column": null,
            "grid_gap": null,
            "grid_row": null,
            "grid_template_areas": null,
            "grid_template_columns": null,
            "grid_template_rows": null,
            "height": null,
            "justify_content": null,
            "justify_items": null,
            "left": null,
            "margin": null,
            "max_height": null,
            "max_width": null,
            "min_height": null,
            "min_width": null,
            "object_fit": null,
            "object_position": null,
            "order": null,
            "overflow": null,
            "overflow_x": null,
            "overflow_y": null,
            "padding": null,
            "right": null,
            "top": null,
            "visibility": null,
            "width": null
          }
        },
        "39f52bbe0bff46119defdabe1fc10bd9": {
          "model_module": "@jupyter-widgets/controls",
          "model_module_version": "1.5.0",
          "model_name": "DescriptionStyleModel",
          "state": {
            "_model_module": "@jupyter-widgets/controls",
            "_model_module_version": "1.5.0",
            "_model_name": "DescriptionStyleModel",
            "_view_count": null,
            "_view_module": "@jupyter-widgets/base",
            "_view_module_version": "1.2.0",
            "_view_name": "StyleView",
            "description_width": ""
          }
        },
        "3fdee0d5987d4abaa3c10e0b2104b886": {
          "model_module": "@jupyter-widgets/base",
          "model_module_version": "1.2.0",
          "model_name": "LayoutModel",
          "state": {
            "_model_module": "@jupyter-widgets/base",
            "_model_module_version": "1.2.0",
            "_model_name": "LayoutModel",
            "_view_count": null,
            "_view_module": "@jupyter-widgets/base",
            "_view_module_version": "1.2.0",
            "_view_name": "LayoutView",
            "align_content": null,
            "align_items": null,
            "align_self": null,
            "border": null,
            "bottom": null,
            "display": null,
            "flex": null,
            "flex_flow": null,
            "grid_area": null,
            "grid_auto_columns": null,
            "grid_auto_flow": null,
            "grid_auto_rows": null,
            "grid_column": null,
            "grid_gap": null,
            "grid_row": null,
            "grid_template_areas": null,
            "grid_template_columns": null,
            "grid_template_rows": null,
            "height": null,
            "justify_content": null,
            "justify_items": null,
            "left": null,
            "margin": null,
            "max_height": null,
            "max_width": null,
            "min_height": null,
            "min_width": null,
            "object_fit": null,
            "object_position": null,
            "order": null,
            "overflow": null,
            "overflow_x": null,
            "overflow_y": null,
            "padding": null,
            "right": null,
            "top": null,
            "visibility": null,
            "width": null
          }
        },
        "4a82e8de57c4493780d79fe7ec69232b": {
          "model_module": "@jupyter-widgets/controls",
          "model_module_version": "1.5.0",
          "model_name": "LabelModel",
          "state": {
            "_dom_classes": [],
            "_model_module": "@jupyter-widgets/controls",
            "_model_module_version": "1.5.0",
            "_model_name": "LabelModel",
            "_view_count": null,
            "_view_module": "@jupyter-widgets/controls",
            "_view_module_version": "1.5.0",
            "_view_name": "LabelView",
            "description": "",
            "description_tooltip": null,
            "layout": "IPY_MODEL_3fdee0d5987d4abaa3c10e0b2104b886",
            "placeholder": "​",
            "style": "IPY_MODEL_a0145ba6e2284958a27ff1313d0665a6",
            "value": "Connecting..."
          }
        },
        "55f8ab39731849eba4f12c2cc2fe1b0b": {
          "model_module": "@jupyter-widgets/controls",
          "model_module_version": "1.5.0",
          "model_name": "ButtonModel",
          "state": {
            "_dom_classes": [],
            "_model_module": "@jupyter-widgets/controls",
            "_model_module_version": "1.5.0",
            "_model_name": "ButtonModel",
            "_view_count": null,
            "_view_module": "@jupyter-widgets/controls",
            "_view_module_version": "1.5.0",
            "_view_name": "ButtonView",
            "button_style": "",
            "description": "Login",
            "disabled": false,
            "icon": "",
            "layout": "IPY_MODEL_384871937b6d4a059a9db565ea602300",
            "style": "IPY_MODEL_da5525f8d7a44e399bd8e79dbed26bff",
            "tooltip": ""
          }
        },
        "5924ffd408e84af4b83f4c5429243a80": {
          "model_module": "@jupyter-widgets/controls",
          "model_module_version": "1.5.0",
          "model_name": "HTMLModel",
          "state": {
            "_dom_classes": [],
            "_model_module": "@jupyter-widgets/controls",
            "_model_module_version": "1.5.0",
            "_model_name": "HTMLModel",
            "_view_count": null,
            "_view_module": "@jupyter-widgets/controls",
            "_view_module_version": "1.5.0",
            "_view_name": "HTMLView",
            "description": "",
            "description_tooltip": null,
            "layout": "IPY_MODEL_f2850196df87451a824c5cf811adcdda",
            "placeholder": "​",
            "style": "IPY_MODEL_da227c8f5a8940b39f4410203568bd56",
            "value": "\n<b>Pro Tip:</b> If you don't already have one, you can create a dedicated\n'notebooks' token with 'write' access, that you can then easily reuse for all\nnotebooks. </center>"
          }
        },
        "6af573d0c9454548b119f433fb069c31": {
          "model_module": "@jupyter-widgets/controls",
          "model_module_version": "1.5.0",
          "model_name": "DescriptionStyleModel",
          "state": {
            "_model_module": "@jupyter-widgets/controls",
            "_model_module_version": "1.5.0",
            "_model_name": "DescriptionStyleModel",
            "_view_count": null,
            "_view_module": "@jupyter-widgets/base",
            "_view_module_version": "1.2.0",
            "_view_name": "StyleView",
            "description_width": ""
          }
        },
        "76496b673c22461e9dbafd2b7734c31a": {
          "model_module": "@jupyter-widgets/controls",
          "model_module_version": "1.5.0",
          "model_name": "VBoxModel",
          "state": {
            "_dom_classes": [],
            "_model_module": "@jupyter-widgets/controls",
            "_model_module_version": "1.5.0",
            "_model_name": "VBoxModel",
            "_view_count": null,
            "_view_module": "@jupyter-widgets/controls",
            "_view_module_version": "1.5.0",
            "_view_name": "VBoxView",
            "box_style": "",
            "children": [],
            "layout": "IPY_MODEL_287d9f1b514d49cfa045f1703e129145"
          }
        },
        "9040d92cd1e145d9acec9d3dd79217dd": {
          "model_module": "@jupyter-widgets/base",
          "model_module_version": "1.2.0",
          "model_name": "LayoutModel",
          "state": {
            "_model_module": "@jupyter-widgets/base",
            "_model_module_version": "1.2.0",
            "_model_name": "LayoutModel",
            "_view_count": null,
            "_view_module": "@jupyter-widgets/base",
            "_view_module_version": "1.2.0",
            "_view_name": "LayoutView",
            "align_content": null,
            "align_items": null,
            "align_self": null,
            "border": null,
            "bottom": null,
            "display": null,
            "flex": null,
            "flex_flow": null,
            "grid_area": null,
            "grid_auto_columns": null,
            "grid_auto_flow": null,
            "grid_auto_rows": null,
            "grid_column": null,
            "grid_gap": null,
            "grid_row": null,
            "grid_template_areas": null,
            "grid_template_columns": null,
            "grid_template_rows": null,
            "height": null,
            "justify_content": null,
            "justify_items": null,
            "left": null,
            "margin": null,
            "max_height": null,
            "max_width": null,
            "min_height": null,
            "min_width": null,
            "object_fit": null,
            "object_position": null,
            "order": null,
            "overflow": null,
            "overflow_x": null,
            "overflow_y": null,
            "padding": null,
            "right": null,
            "top": null,
            "visibility": null,
            "width": null
          }
        },
        "9ed7b50169d846c4a549223cef22a07b": {
          "model_module": "@jupyter-widgets/controls",
          "model_module_version": "1.5.0",
          "model_name": "DescriptionStyleModel",
          "state": {
            "_model_module": "@jupyter-widgets/controls",
            "_model_module_version": "1.5.0",
            "_model_name": "DescriptionStyleModel",
            "_view_count": null,
            "_view_module": "@jupyter-widgets/base",
            "_view_module_version": "1.2.0",
            "_view_name": "StyleView",
            "description_width": ""
          }
        },
        "9f9be1d6aa4f4a80a486f53cc7ee7306": {
          "model_module": "@jupyter-widgets/controls",
          "model_module_version": "1.5.0",
          "model_name": "ProgressStyleModel",
          "state": {
            "_model_module": "@jupyter-widgets/controls",
            "_model_module_version": "1.5.0",
            "_model_name": "ProgressStyleModel",
            "_view_count": null,
            "_view_module": "@jupyter-widgets/base",
            "_view_module_version": "1.2.0",
            "_view_name": "StyleView",
            "bar_color": null,
            "description_width": ""
          }
        },
        "a0145ba6e2284958a27ff1313d0665a6": {
          "model_module": "@jupyter-widgets/controls",
          "model_module_version": "1.5.0",
          "model_name": "DescriptionStyleModel",
          "state": {
            "_model_module": "@jupyter-widgets/controls",
            "_model_module_version": "1.5.0",
            "_model_name": "DescriptionStyleModel",
            "_view_count": null,
            "_view_module": "@jupyter-widgets/base",
            "_view_module_version": "1.2.0",
            "_view_name": "StyleView",
            "description_width": ""
          }
        },
        "a6331c3d0b3f4bada0f8fb19c0f081fd": {
          "model_module": "@jupyter-widgets/controls",
          "model_module_version": "1.5.0",
          "model_name": "FloatProgressModel",
          "state": {
            "_dom_classes": [],
            "_model_module": "@jupyter-widgets/controls",
            "_model_module_version": "1.5.0",
            "_model_name": "FloatProgressModel",
            "_view_count": null,
            "_view_module": "@jupyter-widgets/controls",
            "_view_module_version": "1.5.0",
            "_view_name": "ProgressView",
            "bar_style": "success",
            "description": "",
            "description_tooltip": null,
            "layout": "IPY_MODEL_9040d92cd1e145d9acec9d3dd79217dd",
            "max": 3,
            "min": 0,
            "orientation": "horizontal",
            "style": "IPY_MODEL_9f9be1d6aa4f4a80a486f53cc7ee7306",
            "value": 3
          }
        },
        "d09a6ec39edb43e9ba5570ad3936c510": {
          "model_module": "@jupyter-widgets/controls",
          "model_module_version": "1.5.0",
          "model_name": "PasswordModel",
          "state": {
            "_dom_classes": [],
            "_model_module": "@jupyter-widgets/controls",
            "_model_module_version": "1.5.0",
            "_model_name": "PasswordModel",
            "_view_count": null,
            "_view_module": "@jupyter-widgets/controls",
            "_view_module_version": "1.5.0",
            "_view_name": "PasswordView",
            "continuous_update": true,
            "description": "Token:",
            "description_tooltip": null,
            "disabled": false,
            "layout": "IPY_MODEL_2b583af372fe4ee092e0f3a1e142e568",
            "placeholder": "​",
            "style": "IPY_MODEL_39f52bbe0bff46119defdabe1fc10bd9",
            "value": ""
          }
        },
        "da227c8f5a8940b39f4410203568bd56": {
          "model_module": "@jupyter-widgets/controls",
          "model_module_version": "1.5.0",
          "model_name": "DescriptionStyleModel",
          "state": {
            "_model_module": "@jupyter-widgets/controls",
            "_model_module_version": "1.5.0",
            "_model_name": "DescriptionStyleModel",
            "_view_count": null,
            "_view_module": "@jupyter-widgets/base",
            "_view_module_version": "1.2.0",
            "_view_name": "StyleView",
            "description_width": ""
          }
        },
        "da5525f8d7a44e399bd8e79dbed26bff": {
          "model_module": "@jupyter-widgets/controls",
          "model_module_version": "1.5.0",
          "model_name": "ButtonStyleModel",
          "state": {
            "_model_module": "@jupyter-widgets/controls",
            "_model_module_version": "1.5.0",
            "_model_name": "ButtonStyleModel",
            "_view_count": null,
            "_view_module": "@jupyter-widgets/base",
            "_view_module_version": "1.2.0",
            "_view_name": "StyleView",
            "button_color": null,
            "font_weight": ""
          }
        },
        "f2850196df87451a824c5cf811adcdda": {
          "model_module": "@jupyter-widgets/base",
          "model_module_version": "1.2.0",
          "model_name": "LayoutModel",
          "state": {
            "_model_module": "@jupyter-widgets/base",
            "_model_module_version": "1.2.0",
            "_model_name": "LayoutModel",
            "_view_count": null,
            "_view_module": "@jupyter-widgets/base",
            "_view_module_version": "1.2.0",
            "_view_name": "LayoutView",
            "align_content": null,
            "align_items": null,
            "align_self": null,
            "border": null,
            "bottom": null,
            "display": null,
            "flex": null,
            "flex_flow": null,
            "grid_area": null,
            "grid_auto_columns": null,
            "grid_auto_flow": null,
            "grid_auto_rows": null,
            "grid_column": null,
            "grid_gap": null,
            "grid_row": null,
            "grid_template_areas": null,
            "grid_template_columns": null,
            "grid_template_rows": null,
            "height": null,
            "justify_content": null,
            "justify_items": null,
            "left": null,
            "margin": null,
            "max_height": null,
            "max_width": null,
            "min_height": null,
            "min_width": null,
            "object_fit": null,
            "object_position": null,
            "order": null,
            "overflow": null,
            "overflow_x": null,
            "overflow_y": null,
            "padding": null,
            "right": null,
            "top": null,
            "visibility": null,
            "width": null
          }
        },
        "f4df20e0b6bf42a6a394fe14ab14ebd2": {
          "model_module": "@jupyter-widgets/base",
          "model_module_version": "1.2.0",
          "model_name": "LayoutModel",
          "state": {
            "_model_module": "@jupyter-widgets/base",
            "_model_module_version": "1.2.0",
            "_model_name": "LayoutModel",
            "_view_count": null,
            "_view_module": "@jupyter-widgets/base",
            "_view_module_version": "1.2.0",
            "_view_name": "LayoutView",
            "align_content": null,
            "align_items": null,
            "align_self": null,
            "border": null,
            "bottom": null,
            "display": null,
            "flex": null,
            "flex_flow": null,
            "grid_area": null,
            "grid_auto_columns": null,
            "grid_auto_flow": null,
            "grid_auto_rows": null,
            "grid_column": null,
            "grid_gap": null,
            "grid_row": null,
            "grid_template_areas": null,
            "grid_template_columns": null,
            "grid_template_rows": null,
            "height": null,
            "justify_content": null,
            "justify_items": null,
            "left": null,
            "margin": null,
            "max_height": null,
            "max_width": null,
            "min_height": null,
            "min_width": null,
            "object_fit": null,
            "object_position": null,
            "order": null,
            "overflow": null,
            "overflow_x": null,
            "overflow_y": null,
            "padding": null,
            "right": null,
            "top": null,
            "visibility": null,
            "width": null
          }
        },
        "fd4f9bd6e915468bbeac7dfb0a2e19db": {
          "model_module": "@jupyter-widgets/controls",
          "model_module_version": "1.5.0",
          "model_name": "CheckboxModel",
          "state": {
            "_dom_classes": [],
            "_model_module": "@jupyter-widgets/controls",
            "_model_module_version": "1.5.0",
            "_model_name": "CheckboxModel",
            "_view_count": null,
            "_view_module": "@jupyter-widgets/controls",
            "_view_module_version": "1.5.0",
            "_view_name": "CheckboxView",
            "description": "Add token as git credential?",
            "description_tooltip": null,
            "disabled": false,
            "indent": true,
            "layout": "IPY_MODEL_ffc95a8e15f546189cc219fb07719bdc",
            "style": "IPY_MODEL_080ef30ce48a4ab49c1a24fa6f154d48",
            "value": true
          }
        },
        "ffc95a8e15f546189cc219fb07719bdc": {
          "model_module": "@jupyter-widgets/base",
          "model_module_version": "1.2.0",
          "model_name": "LayoutModel",
          "state": {
            "_model_module": "@jupyter-widgets/base",
            "_model_module_version": "1.2.0",
            "_model_name": "LayoutModel",
            "_view_count": null,
            "_view_module": "@jupyter-widgets/base",
            "_view_module_version": "1.2.0",
            "_view_name": "LayoutView",
            "align_content": null,
            "align_items": null,
            "align_self": null,
            "border": null,
            "bottom": null,
            "display": null,
            "flex": null,
            "flex_flow": null,
            "grid_area": null,
            "grid_auto_columns": null,
            "grid_auto_flow": null,
            "grid_auto_rows": null,
            "grid_column": null,
            "grid_gap": null,
            "grid_row": null,
            "grid_template_areas": null,
            "grid_template_columns": null,
            "grid_template_rows": null,
            "height": null,
            "justify_content": null,
            "justify_items": null,
            "left": null,
            "margin": null,
            "max_height": null,
            "max_width": null,
            "min_height": null,
            "min_width": null,
            "object_fit": null,
            "object_position": null,
            "order": null,
            "overflow": null,
            "overflow_x": null,
            "overflow_y": null,
            "padding": null,
            "right": null,
            "top": null,
            "visibility": null,
            "width": null
          }
        }
      }
    }
  },
  "nbformat": 4,
  "nbformat_minor": 0
}
